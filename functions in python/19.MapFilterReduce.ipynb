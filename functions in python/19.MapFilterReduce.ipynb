{
 "cells": [
  {
   "cell_type": "markdown",
   "id": "5f226221",
   "metadata": {},
   "source": [
    "map() applies a given function to each item of an iterable (like list) and returns a new map object (which can be converted into list).\n",
    "Syntax:\n",
    "map(function, iterable)"
   ]
  },
  {
   "cell_type": "code",
   "execution_count": 2,
   "id": "1cdf225f",
   "metadata": {},
   "outputs": [
    {
     "name": "stdout",
     "output_type": "stream",
     "text": [
      "[6, 7, 8, 9, 10]\n"
     ]
    }
   ],
   "source": [
    "# Use map to add 5 to each element of a list\n",
    "def add_five(num):\n",
    "    return num + 5\n",
    "mylist = [1,2,3,4,5]\n",
    "added = list(map(add_five,mylist))\n",
    "print(added)"
   ]
  },
  {
   "cell_type": "markdown",
   "id": "26236f6a",
   "metadata": {},
   "source": [
    "filter() filters items out of an iterable based on a condition (function returning True/False).\n",
    "Syntax:\n",
    "filter(function, iterable)"
   ]
  },
  {
   "cell_type": "code",
   "execution_count": 4,
   "id": "e3789767",
   "metadata": {},
   "outputs": [
    {
     "name": "stdout",
     "output_type": "stream",
     "text": [
      "[11, 12, 111, 121]\n"
     ]
    }
   ],
   "source": [
    "# Use filter to get numbers greater than 10.\n",
    "def great_10(nums):\n",
    "    return list(filter(lambda x: x > 10,nums))\n",
    "\n",
    "nums = [1,2,3,4,5,10,11,12,111,121]\n",
    "\n",
    "print(great_10(nums))\n"
   ]
  },
  {
   "cell_type": "markdown",
   "id": "e65a137e",
   "metadata": {},
   "source": [
    "reduce() repeatedly applies a function to pairs of elements, reducing the list to a single value.\n",
    "Syntax:\n",
    "from functools import reduce\n",
    "reduce(function, iterable)"
   ]
  },
  {
   "cell_type": "code",
   "execution_count": 6,
   "id": "111caf97",
   "metadata": {},
   "outputs": [
    {
     "name": "stdout",
     "output_type": "stream",
     "text": [
      "15\n"
     ]
    }
   ],
   "source": [
    "# Use reduce to find the sum of all numbers.\n",
    "\n",
    "from functools import reduce\n",
    "import operator\n",
    "\n",
    "def sum(num):\n",
    "    return reduce(operator.add,num,0)\n",
    "\n",
    "num = [1,2,3,4,5]\n",
    "total = sum(num)\n",
    "print(total)"
   ]
  }
 ],
 "metadata": {
  "kernelspec": {
   "display_name": "Python 3",
   "language": "python",
   "name": "python3"
  },
  "language_info": {
   "codemirror_mode": {
    "name": "ipython",
    "version": 3
   },
   "file_extension": ".py",
   "mimetype": "text/x-python",
   "name": "python",
   "nbconvert_exporter": "python",
   "pygments_lexer": "ipython3",
   "version": "3.11.9"
  }
 },
 "nbformat": 4,
 "nbformat_minor": 5
}
