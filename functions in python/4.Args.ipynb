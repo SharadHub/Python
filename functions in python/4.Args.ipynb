{
 "cells": [
  {
   "cell_type": "markdown",
   "id": "1976bc9c",
   "metadata": {},
   "source": [
    "Brief Example of *args which is used in unlimited positional arguments"
   ]
  },
  {
   "cell_type": "code",
   "execution_count": 6,
   "id": "82461e40",
   "metadata": {},
   "outputs": [
    {
     "name": "stdout",
     "output_type": "stream",
     "text": [
      "The given Numbers are:(1, 2, 3)\n",
      "Sum of given numbers is:6\n"
     ]
    }
   ],
   "source": [
    "def add(*args):\n",
    "    print(f\"The given Numbers are:{args}\")\n",
    "    total = sum(args)\n",
    "    print(f\"Sum of given numbers is:{total}\")\n",
    "    \n",
    "add(1,2,3)"
   ]
  },
  {
   "cell_type": "markdown",
   "id": "362e00e4",
   "metadata": {},
   "source": [
    "Write a function longest_word that accepts any number of strings and returns the longest one."
   ]
  },
  {
   "cell_type": "code",
   "execution_count": 5,
   "id": "ce449e37",
   "metadata": {},
   "outputs": [
    {
     "data": {
      "text/plain": [
       "'orange'"
      ]
     },
     "execution_count": 5,
     "metadata": {},
     "output_type": "execute_result"
    }
   ],
   "source": [
    "def longest_word(*word):\n",
    "    if not word:\n",
    "        return None\n",
    "    return max(word, key = len)\n",
    "\n",
    "\n",
    "longest_word(\"apple\", \"orange\",\"banana\")\n"
   ]
  },
  {
   "cell_type": "markdown",
   "id": "a34f4964",
   "metadata": {},
   "source": [
    "Write a function multiply_all that multiplies all positional arguments.\n"
   ]
  },
  {
   "cell_type": "code",
   "execution_count": 9,
   "id": "b62af477",
   "metadata": {},
   "outputs": [
    {
     "name": "stdout",
     "output_type": "stream",
     "text": [
      "The given numbers are:(1, 2, 3, 4, 5)\n",
      "120\n"
     ]
    }
   ],
   "source": [
    "import math\n",
    "\n",
    "def multiply_all(*num):\n",
    "    print(f\"The given numbers are:{num}\")\n",
    "    total = math.prod(num)\n",
    "    \"\"\"\n",
    "    In this program to calculate the product of the all elements in the tuple at first we import math and used its built in function math.prod() to calculate the product of all the elements in the tuple\n",
    "    \"\"\"\n",
    "    print(total)\n",
    "multiply_all(1,2,3,4,5)"
   ]
  }
 ],
 "metadata": {
  "kernelspec": {
   "display_name": "Python 3",
   "language": "python",
   "name": "python3"
  },
  "language_info": {
   "codemirror_mode": {
    "name": "ipython",
    "version": 3
   },
   "file_extension": ".py",
   "mimetype": "text/x-python",
   "name": "python",
   "nbconvert_exporter": "python",
   "pygments_lexer": "ipython3",
   "version": "3.11.9"
  }
 },
 "nbformat": 4,
 "nbformat_minor": 5
}
