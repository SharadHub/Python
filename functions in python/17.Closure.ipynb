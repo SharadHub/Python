{
 "cells": [
  {
   "cell_type": "code",
   "execution_count": 2,
   "id": "510402f8",
   "metadata": {},
   "outputs": [
    {
     "name": "stdout",
     "output_type": "stream",
     "text": [
      "Child eats the Burger packed by mom\n"
     ]
    }
   ],
   "source": [
    "def mom_packs(food):\n",
    "    def child_eats():\n",
    "        print(f\"Child eats the {food} packed by mom\")\n",
    "    return child_eats\n",
    "\n",
    "lunch = mom_packs(\"Burger\")\n",
    "\n",
    "lunch()"
   ]
  },
  {
   "cell_type": "code",
   "execution_count": 6,
   "id": "9decfce3",
   "metadata": {},
   "outputs": [
    {
     "name": "stdout",
     "output_type": "stream",
     "text": [
      "20\n"
     ]
    }
   ],
   "source": [
    "# Write a closure that adds 10 to any number passed later.\n",
    "\n",
    "def add_ten():\n",
    "    a = 10\n",
    "    def add(b):\n",
    "        return a + b\n",
    "    return add\n",
    "\n",
    "sum = add_ten()\n",
    "print(sum(10))"
   ]
  },
  {
   "cell_type": "code",
   "execution_count": 8,
   "id": "b89b3727",
   "metadata": {},
   "outputs": [
    {
     "name": "stdout",
     "output_type": "stream",
     "text": [
      "Hello Bishal Bista\n"
     ]
    }
   ],
   "source": [
    "# Build a closure that stores a username, and later greets the user.\n",
    "def greet(username):\n",
    "    def uname():\n",
    "        return f\"Hello {username}\"\n",
    "    return uname\n",
    "\n",
    "say_name = greet(\"Bishal Bista\")\n",
    "print(say_name())\n",
    "\n"
   ]
  },
  {
   "cell_type": "code",
   "execution_count": 4,
   "id": "edc59766",
   "metadata": {},
   "outputs": [
    {
     "name": "stdout",
     "output_type": "stream",
     "text": [
      "3400.0\n"
     ]
    }
   ],
   "source": [
    "# Create a closure that remembers a discount percentage,\n",
    "# and applies it to any price passed later.\n",
    "\n",
    "def rem(discount_percent):\n",
    "    def dis_amount(price):\n",
    "        return price - discount_percent/100 * price\n",
    "    return dis_amount\n",
    "\n",
    "\n",
    "discount_15 = rem(15)\n",
    "print(discount_15(4000))"
   ]
  }
 ],
 "metadata": {
  "kernelspec": {
   "display_name": "Python 3",
   "language": "python",
   "name": "python3"
  },
  "language_info": {
   "codemirror_mode": {
    "name": "ipython",
    "version": 3
   },
   "file_extension": ".py",
   "mimetype": "text/x-python",
   "name": "python",
   "nbconvert_exporter": "python",
   "pygments_lexer": "ipython3",
   "version": "3.11.9"
  }
 },
 "nbformat": 4,
 "nbformat_minor": 5
}
