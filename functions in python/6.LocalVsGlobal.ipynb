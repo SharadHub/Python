{
 "cells": [
  {
   "cell_type": "code",
   "execution_count": 3,
   "id": "c4f26a44",
   "metadata": {},
   "outputs": [
    {
     "name": "stdout",
     "output_type": "stream",
     "text": [
      "Inside: 5\n"
     ]
    }
   ],
   "source": [
    "# Exercise 1: Local Scope Check\n",
    "\n",
    "def show():\n",
    "    x = 5\n",
    "    print(\"Inside:\", x)\n",
    "    \"\"\"\n",
    "    we cannot print value of x variable outside of the function\n",
    "    \"\"\"\n",
    "show()\n"
   ]
  },
  {
   "cell_type": "code",
   "execution_count": null,
   "id": "0f05408a",
   "metadata": {},
   "outputs": [
    {
     "name": "stdout",
     "output_type": "stream",
     "text": [
      "I am IronMan\n"
     ]
    }
   ],
   "source": [
    "#  Exercise 2: Global Access\n",
    "\n",
    "user = \"IronMan\"\n",
    "\n",
    "def intro():\n",
    "    print(\"I am\", user)\n",
    "\n",
    "intro()  # Will this work?\n",
    "\"\"\"\n",
    "    This will work because global variable can be accessed inside of the functions\n",
    "    \"\"\""
   ]
  },
  {
   "cell_type": "code",
   "execution_count": null,
   "id": "6f112c42",
   "metadata": {},
   "outputs": [
    {
     "name": "stdout",
     "output_type": "stream",
     "text": [
      "90\n"
     ]
    }
   ],
   "source": [
    "#  Exercise 3: Modify Global Variable\n",
    "\n",
    "coins = 100\n",
    "\n",
    "def steal():\n",
    "    global coins # global keyword is used to modify global variable inside of the function\n",
    "    coins -= 10\n",
    "\n",
    "steal()\n",
    "print(coins)"
   ]
  }
 ],
 "metadata": {
  "kernelspec": {
   "display_name": "Python 3",
   "language": "python",
   "name": "python3"
  },
  "language_info": {
   "codemirror_mode": {
    "name": "ipython",
    "version": 3
   },
   "file_extension": ".py",
   "mimetype": "text/x-python",
   "name": "python",
   "nbconvert_exporter": "python",
   "pygments_lexer": "ipython3",
   "version": "3.11.9"
  }
 },
 "nbformat": 4,
 "nbformat_minor": 5
}
