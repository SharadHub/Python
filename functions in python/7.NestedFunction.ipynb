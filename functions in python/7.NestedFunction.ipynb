{
 "cells": [
  {
   "cell_type": "markdown",
   "id": "5891b854",
   "metadata": {},
   "source": [
    "A process of defining function inside of another function is called nested function"
   ]
  },
  {
   "cell_type": "code",
   "execution_count": 1,
   "id": "900421e4",
   "metadata": {},
   "outputs": [
    {
     "name": "stdout",
     "output_type": "stream",
     "text": [
      "This is the outer function\n",
      "This is the inner function\n"
     ]
    }
   ],
   "source": [
    "def outer():\n",
    "    print(\"This is the outer function\")\n",
    "    \n",
    "    def inner():\n",
    "        print(\"This is the inner function\")\n",
    "        \n",
    "    inner()\n",
    "outer()"
   ]
  },
  {
   "cell_type": "code",
   "execution_count": 2,
   "id": "4cb2cb7f",
   "metadata": {},
   "outputs": [
    {
     "name": "stdout",
     "output_type": "stream",
     "text": [
      "Training with learning rate: 0.01\n",
      "Model training started...\n"
     ]
    }
   ],
   "source": [
    "def train_model():\n",
    "    learning_rate = 0.01\n",
    "\n",
    "    def print_config():\n",
    "        print(\"Training with learning rate:\", learning_rate)\n",
    "\n",
    "    print_config()\n",
    "    print(\"Model training started...\")\n",
    "\n",
    "train_model()\n"
   ]
  },
  {
   "cell_type": "code",
   "execution_count": 3,
   "id": "045be9f2",
   "metadata": {},
   "outputs": [
    {
     "name": "stdout",
     "output_type": "stream",
     "text": [
      "hello Bishal\n",
      "Hello! World\n"
     ]
    }
   ],
   "source": [
    "#  Define a function greet_user() that has an inner function say_hello() which prints “Hello, user!”\n",
    "\n",
    "def greet_user():\n",
    "    user = \"Bishal\"\n",
    "    \n",
    "    def say_hello():\n",
    "        print(f\"hello {user}\")\n",
    "        \n",
    "    say_hello()\n",
    "    \n",
    "greet_user()\n",
    "print(\"Hello! World\")"
   ]
  },
  {
   "cell_type": "code",
   "execution_count": 10,
   "id": "4e9fd6a9",
   "metadata": {},
   "outputs": [
    {
     "name": "stdout",
     "output_type": "stream",
     "text": [
      "15\n"
     ]
    }
   ],
   "source": [
    "#  Exercise 2: Inner Using Outer Variable\n",
    "#  Write a function make_multiplier(x)\n",
    "# Inside, define multiply_by_x(y) that multiplies y by x\n",
    "# Return the result of calling multiply_by_x\n",
    "\n",
    "def make_multiplier(x):    \n",
    "    def multiply_by_x(y):\n",
    "        return x * y\n",
    "    return multiply_by_x\n",
    "    \n",
    "times5 = make_multiplier(5)\n",
    "print(times5(3))"
   ]
  },
  {
   "cell_type": "code",
   "execution_count": 11,
   "id": "3d9d5816",
   "metadata": {},
   "outputs": [
    {
     "name": "stdout",
     "output_type": "stream",
     "text": [
      "This message is confidential.\n"
     ]
    }
   ],
   "source": [
    "#Create a function secret_message() with an inner function that prints:\n",
    "#\"This message is confidential.\"\n",
    "\n",
    "def secret_message():\n",
    "    def inner_message():\n",
    "        print(\"This message is confidential.\")\n",
    "    inner_message()\n",
    "    \n",
    "secret_message()"
   ]
  }
 ],
 "metadata": {
  "kernelspec": {
   "display_name": "Python 3",
   "language": "python",
   "name": "python3"
  },
  "language_info": {
   "codemirror_mode": {
    "name": "ipython",
    "version": 3
   },
   "file_extension": ".py",
   "mimetype": "text/x-python",
   "name": "python",
   "nbconvert_exporter": "python",
   "pygments_lexer": "ipython3",
   "version": "3.11.9"
  }
 },
 "nbformat": 4,
 "nbformat_minor": 5
}
