{
 "cells": [
  {
   "cell_type": "markdown",
   "id": "c4ad18c0",
   "metadata": {},
   "source": [
    "return statement for profit calculation"
   ]
  },
  {
   "cell_type": "code",
   "execution_count": 1,
   "id": "8a0c8bd0",
   "metadata": {},
   "outputs": [
    {
     "data": {
      "text/plain": [
       "50"
      ]
     },
     "execution_count": 1,
     "metadata": {},
     "output_type": "execute_result"
    }
   ],
   "source": [
    "def profit_calculation(cost_price,selling_price):\n",
    "    return selling_price - cost_price\n",
    "\n",
    "profit_calculation(50,100)\n"
   ]
  },
  {
   "cell_type": "code",
   "execution_count": null,
   "id": "8dda1432",
   "metadata": {},
   "outputs": [],
   "source": [
    "def add(a,b):\n",
    "    result = a + b \n",
    "    return result  # if this line is removed then program give empty result\n",
    "\n",
    "add(3,5)"
   ]
  }
 ],
 "metadata": {
  "kernelspec": {
   "display_name": "Python 3",
   "language": "python",
   "name": "python3"
  },
  "language_info": {
   "codemirror_mode": {
    "name": "ipython",
    "version": 3
   },
   "file_extension": ".py",
   "mimetype": "text/x-python",
   "name": "python",
   "nbconvert_exporter": "python",
   "pygments_lexer": "ipython3",
   "version": "3.11.9"
  }
 },
 "nbformat": 4,
 "nbformat_minor": 5
}
