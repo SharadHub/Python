{
 "cells": [
  {
   "cell_type": "markdown",
   "id": "dd96fa14",
   "metadata": {},
   "source": [
    "Recursion is when a function calls itself to solve smaller parts of a problem  until a base case is reached.\n",
    "\n",
    "It's like solving a big problem by breaking it down into tiny similar problems."
   ]
  },
  {
   "cell_type": "code",
   "execution_count": 1,
   "id": "64e0d759",
   "metadata": {},
   "outputs": [
    {
     "name": "stdout",
     "output_type": "stream",
     "text": [
      "5\n",
      "4\n",
      "3\n",
      "2\n",
      "1\n",
      "Liftoff! 🚀\n"
     ]
    }
   ],
   "source": [
    "def countdown(n: int):\n",
    "    if n == 0:\n",
    "        print(\"Liftoff! 🚀\")\n",
    "    else:\n",
    "        print(n)\n",
    "        countdown(n - 1)\n",
    "\n",
    "countdown(5)\n"
   ]
  },
  {
   "cell_type": "code",
   "execution_count": 11,
   "id": "519e9017",
   "metadata": {},
   "outputs": [
    {
     "name": "stdout",
     "output_type": "stream",
     "text": [
      "120\n"
     ]
    }
   ],
   "source": [
    "#Factorial of 5\n",
    "def factorial(n:int)->int:\n",
    "    \n",
    "    if n == 0:\n",
    "        return 1\n",
    "    return n * factorial(n - 1)\n",
    "\n",
    "print(factorial(5))"
   ]
  },
  {
   "cell_type": "code",
   "execution_count": 5,
   "id": "85c86585",
   "metadata": {},
   "outputs": [
    {
     "name": "stdout",
     "output_type": "stream",
     "text": [
      "15\n"
     ]
    }
   ],
   "source": [
    "#Sum of the natural numbers\n",
    "def sum_of(n:int)->int:\n",
    "    if n == 1:\n",
    "        return 1\n",
    "    return n + sum_of(n - 1)\n",
    "print(sum_of(5))"
   ]
  },
  {
   "cell_type": "code",
   "execution_count": null,
   "id": "168f8cff",
   "metadata": {},
   "outputs": [],
   "source": [
    "def prime(num:int) -> int:\n",
    "    "
   ]
  },
  {
   "cell_type": "code",
   "execution_count": null,
   "id": "429ee81d",
   "metadata": {},
   "outputs": [
    {
     "name": "stdout",
     "output_type": "stream",
     "text": [
      "8\n"
     ]
    }
   ],
   "source": [
    "#Fibbonocci series\n",
    "\n",
    "def series(n:float)->float:\n",
    "    if n <= 1:\n",
    "        return 1\n",
    "    return series(n -1) + series(n - 2)\n",
    "\n",
    "print(series(5))"
   ]
  },
  {
   "cell_type": "code",
   "execution_count": 16,
   "id": "74718a0f",
   "metadata": {},
   "outputs": [
    {
     "name": "stdout",
     "output_type": "stream",
     "text": [
      "String is ironman\n",
      "String is ronman\n",
      "String is onman\n",
      "String is nman\n",
      "String is man\n",
      "String is an\n",
      "String is n\n",
      "Returning the base of n\n",
      "Returning:na for input an\n",
      "Returning:nam for input man\n",
      "Returning:namn for input nman\n",
      "Returning:namno for input onman\n",
      "Returning:namnor for input ronman\n",
      "Returning:namnori for input ironman\n",
      "namnori\n"
     ]
    }
   ],
   "source": [
    "#Reverse the string\n",
    "\n",
    "def string_is(s:str)->str:\n",
    "    print(f\"String is {s}\")\n",
    "    if len(s) <= 1:\n",
    "        print(f\"Returning the base of {s}\")\n",
    "        return s\n",
    "    result = string_is(s[1:]) +s[0]\n",
    "    print(f\"Returning:{result} for input {s}\")\n",
    "    return result\n",
    "\n",
    "print(string_is(\"ironman\"))"
   ]
  },
  {
   "cell_type": "code",
   "execution_count": null,
   "id": "02e3d4a1",
   "metadata": {},
   "outputs": [
    {
     "name": "stdout",
     "output_type": "stream",
     "text": [
      "8\n"
     ]
    }
   ],
   "source": [
    "#count the digits in the number\n",
    "def countDigit(n):\n",
    "    if n == 0:\n",
    "        return 1\n",
    "    count = 0\n",
    "    while n != 0:\n",
    "        n = n//10\n",
    "        count += 1\n",
    "    return count\n",
    "\n",
    "print(countDigit(12345678))"
   ]
  },
  {
   "cell_type": "code",
   "execution_count": 30,
   "id": "04a93e7b",
   "metadata": {},
   "outputs": [
    {
     "name": "stdout",
     "output_type": "stream",
     "text": [
      "8\n"
     ]
    }
   ],
   "source": [
    "#Create power(base: int, exp: int) -> int\n",
    "\n",
    "def power(base: int, exp: int) -> int:\n",
    "    if exp == 0:\n",
    "        return 1\n",
    "    return base * power(base, exp - 1)\n",
    "\n",
    "print(power(2,3))"
   ]
  }
 ],
 "metadata": {
  "kernelspec": {
   "display_name": "Python 3",
   "language": "python",
   "name": "python3"
  },
  "language_info": {
   "codemirror_mode": {
    "name": "ipython",
    "version": 3
   },
   "file_extension": ".py",
   "mimetype": "text/x-python",
   "name": "python",
   "nbconvert_exporter": "python",
   "pygments_lexer": "ipython3",
   "version": "3.11.9"
  }
 },
 "nbformat": 4,
 "nbformat_minor": 5
}
