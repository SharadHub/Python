{
 "cells": [
  {
   "cell_type": "markdown",
   "id": "0a72d215",
   "metadata": {},
   "source": [
    "a function returns one value but Python allows you to return multiple values at once, packed into tuple."
   ]
  },
  {
   "cell_type": "code",
   "execution_count": 5,
   "id": "362ab917",
   "metadata": {},
   "outputs": [
    {
     "name": "stdout",
     "output_type": "stream",
     "text": [
      "My name is Bishal Bista and I am 22 years old\n"
     ]
    }
   ],
   "source": [
    "def function_name():\n",
    "    value1 = \"Bishal\"\n",
    "    value2 = \"Bista\"\n",
    "    value3 = 22\n",
    "    return f\"My name is {value1} {value2} and I am {value3} years old\"\n",
    "\n",
    "profile = function_name()\n",
    "print(profile)"
   ]
  },
  {
   "cell_type": "code",
   "execution_count": null,
   "id": "4969c117",
   "metadata": {},
   "outputs": [
    {
     "data": {
      "text/plain": [
       "(9, 9, 1)"
      ]
     },
     "execution_count": 15,
     "metadata": {},
     "output_type": "execute_result"
    }
   ],
   "source": [
    "# Build a function summary(numbers) that returns count, max, and min from a list.\n",
    "\n",
    "def summary(numbers):\n",
    "    count_num = len(numbers)\n",
    "    maximum = max(numbers)\n",
    "    minimum = min(numbers)\n",
    "    \n",
    "    return count_num, maximum, minimum\n",
    "\n",
    "\n",
    "\n",
    "summary([1,2,3,4,5,6,7,8,9])"
   ]
  },
  {
   "cell_type": "code",
   "execution_count": 16,
   "id": "c65db112",
   "metadata": {},
   "outputs": [
    {
     "data": {
      "text/plain": [
       "'Length:20, Breadth:40, Height:30'"
      ]
     },
     "execution_count": 16,
     "metadata": {},
     "output_type": "execute_result"
    }
   ],
   "source": [
    "# Write a function dimensions() that returns length, breadth, and height.\n",
    "def dimensions(length,breadth,height):\n",
    "    return f\"Length:{length}, Breadth:{breadth}, Height:{height}\"\n",
    "\n",
    "dimensions(20,40,30)\n",
    "    \n"
   ]
  },
  {
   "cell_type": "code",
   "execution_count": 17,
   "id": "7e735796",
   "metadata": {},
   "outputs": [
    {
     "data": {
      "text/plain": [
       "(22, 18, 10.0, 40)"
      ]
     },
     "execution_count": 17,
     "metadata": {},
     "output_type": "execute_result"
    }
   ],
   "source": [
    "# Create a function arithmetic(a, b) that returns addition, subtraction, multiplication, and division.\n",
    "\n",
    "def arithmetic(a,b):\n",
    "    return a + b, a - b,a / b, a * b\n",
    "\n",
    "arithmetic(20,2)\n",
    "    \n",
    "    "
   ]
  }
 ],
 "metadata": {
  "kernelspec": {
   "display_name": "Python 3",
   "language": "python",
   "name": "python3"
  },
  "language_info": {
   "codemirror_mode": {
    "name": "ipython",
    "version": 3
   },
   "file_extension": ".py",
   "mimetype": "text/x-python",
   "name": "python",
   "nbconvert_exporter": "python",
   "pygments_lexer": "ipython3",
   "version": "3.11.9"
  }
 },
 "nbformat": 4,
 "nbformat_minor": 5
}
