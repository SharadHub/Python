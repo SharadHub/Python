{
 "cells": [
  {
   "cell_type": "markdown",
   "id": "f3b7cc05",
   "metadata": {},
   "source": [
    "**kwargs is use for the unlimited keywords arguments"
   ]
  },
  {
   "cell_type": "code",
   "execution_count": 1,
   "id": "b76ba8d7",
   "metadata": {},
   "outputs": [
    {
     "name": "stdout",
     "output_type": "stream",
     "text": [
      "Profile Info:\n",
      "name:Bishal\n",
      "age:22\n",
      "occupation:student\n"
     ]
    }
   ],
   "source": [
    "def profile(**info):\n",
    "    print(\"Profile Info:\")\n",
    "    for key, value in info.items():\n",
    "        print(f\"{key}:{value}\")\n",
    "        \n",
    "profile(name=\"Bishal\", age=22, occupation=\"student\")"
   ]
  },
  {
   "cell_type": "markdown",
   "id": "40cc03f5",
   "metadata": {},
   "source": [
    "Write a function generate_profile that takes any number of keyword arguments and prints them in this format:"
   ]
  },
  {
   "cell_type": "code",
   "execution_count": 1,
   "id": "6d763680",
   "metadata": {},
   "outputs": [
    {
     "name": "stdout",
     "output_type": "stream",
     "text": [
      "name:Bishal\n",
      "age:22\n"
     ]
    }
   ],
   "source": [
    "def generate_profile(**pro):\n",
    "    for key, value in pro.items():\n",
    "        print(f\"{key}:{value}\")\n",
    "        \n",
    "generate_profile(name=\"Bishal\", age = 22)"
   ]
  },
  {
   "cell_type": "markdown",
   "id": "6a65e238",
   "metadata": {},
   "source": [
    "Write a function filter_keys(**kwargs) that returns only the keys that start with the letter \"a\"."
   ]
  },
  {
   "cell_type": "code",
   "execution_count": 17,
   "id": "b952ea58",
   "metadata": {},
   "outputs": [
    {
     "name": "stdout",
     "output_type": "stream",
     "text": [
      "Address = KTM\n",
      "age = 22\n",
      "Address = LTR\n",
      "age = 22\n"
     ]
    }
   ],
   "source": [
    "def filter_keys(**kwargs):\n",
    "    for key,values in kwargs.items():\n",
    "        if key[0] == \"a\" or key[0] == \"A\":\n",
    "            print(f\"{key} = {values}\")\n",
    "        \n",
    "        \n",
    "filter_keys(Address = \"KTM\", name = \"Bishal\", age = 22)\n",
    "filter_keys(Address = \"LTR\", name = \"RAM\", age = 22)\n",
    "\n",
    "\n",
    "# filter_keys(address = \"PKR\", name = \"SHYAM\", age = 22)\n",
    "# filter_keys(address = \"BKT\", name = \"HARI\", age = 22)"
   ]
  },
  {
   "cell_type": "markdown",
   "id": "b0a18cd7",
   "metadata": {},
   "source": [
    "Write a function count_kwargs(**kwargs) that returns how many keyword arguments were passed in."
   ]
  },
  {
   "cell_type": "code",
   "execution_count": 20,
   "id": "cc98bdd0",
   "metadata": {},
   "outputs": [
    {
     "data": {
      "text/plain": [
       "3"
      ]
     },
     "execution_count": 20,
     "metadata": {},
     "output_type": "execute_result"
    }
   ],
   "source": [
    "def count_kwargs(**kwargs):\n",
    "    return len(kwargs)\n",
    "        \n",
    "count_kwargs(name = \"bishal\", age = 22, place = \"sarlahi\")"
   ]
  },
  {
   "cell_type": "markdown",
   "id": "135eb1c0",
   "metadata": {},
   "source": [
    "Combine of args and kwargs"
   ]
  },
  {
   "cell_type": "code",
   "execution_count": 25,
   "id": "a5addf2f",
   "metadata": {},
   "outputs": [
    {
     "name": "stdout",
     "output_type": "stream",
     "text": [
      "Name of the person is Bishal\n",
      "This person's address is ('Sarlahi', 'Nepal')\n",
      "Contact:\n",
      "email=bishalbista737@gmail.com\n",
      "Number=9866123946\n"
     ]
    }
   ],
   "source": [
    "def person(name, *address, **contact):\n",
    "    print(f\"Name of the person is {name}\")\n",
    "    print(f\"This person's address is {address}\")\n",
    "    print(f\"Contact:\")\n",
    "    for key, values in contact.items():\n",
    "        print(f\"{key}={values}\")\n",
    "        \n",
    "person(\"Bishal\", \"Sarlahi\", \"Nepal\",email = \"bishalbista737@gmail.com\", Number = 9866123946)"
   ]
  }
 ],
 "metadata": {
  "kernelspec": {
   "display_name": "Python 3",
   "language": "python",
   "name": "python3"
  },
  "language_info": {
   "codemirror_mode": {
    "name": "ipython",
    "version": 3
   },
   "file_extension": ".py",
   "mimetype": "text/x-python",
   "name": "python",
   "nbconvert_exporter": "python",
   "pygments_lexer": "ipython3",
   "version": "3.11.9"
  }
 },
 "nbformat": 4,
 "nbformat_minor": 5
}
