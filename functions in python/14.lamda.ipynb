{
 "cells": [
  {
   "cell_type": "code",
   "execution_count": null,
   "id": "517e8811",
   "metadata": {},
   "outputs": [
    {
     "data": {
      "text/plain": [
       "16"
      ]
     },
     "execution_count": 2,
     "metadata": {},
     "output_type": "execute_result"
    }
   ],
   "source": [
    "s = lambda a: a**2\n",
    "s(4)"
   ]
  },
  {
   "cell_type": "code",
   "execution_count": 11,
   "id": "e640fdc2",
   "metadata": {},
   "outputs": [
    {
     "data": {
      "text/plain": [
       "125"
      ]
     },
     "execution_count": 11,
     "metadata": {},
     "output_type": "execute_result"
    }
   ],
   "source": [
    "# Create a lambda function to find the cube of a number.\n",
    "cube = lambda x: x**3\n",
    "\n",
    "cube(5)"
   ]
  },
  {
   "cell_type": "code",
   "execution_count": 8,
   "id": "80f94753",
   "metadata": {},
   "outputs": [
    {
     "name": "stdout",
     "output_type": "stream",
     "text": [
      "[3, 6, 9, 12, 15, 18, 21, 24, 27, 0]\n"
     ]
    }
   ],
   "source": [
    "# Use lambda with map() to triple all numbers in a list.\n",
    "L = [1,2,3,4,5,6,7,8,9,0]\n",
    "times3 = list(map(lambda x: 3 * x,L))\n",
    "print(times3)"
   ]
  },
  {
   "cell_type": "code",
   "execution_count": null,
   "id": "0f0bcf5e",
   "metadata": {},
   "outputs": [
    {
     "name": "stdout",
     "output_type": "stream",
     "text": [
      "[('Charlie', 20), ('Alice', 25), ('Bob', 30)]\n"
     ]
    }
   ],
   "source": [
    "# Sort the following list of tuples by the last character of each name:\n",
    "\n",
    "names = [(\"Alice\", 25), (\"Bob\", 30), (\"Charlie\", 20)]\n",
    "\n",
    "# Sort by score\n",
    "names.sort(key=lambda x: x[1])\n",
    "\n",
    "print(names)\n"
   ]
  },
  {
   "cell_type": "code",
   "execution_count": 3,
   "id": "0fe1d17e",
   "metadata": {},
   "outputs": [
    {
     "name": "stdout",
     "output_type": "stream",
     "text": [
      "['Asmita', 'Ankit', 'Asmit']\n"
     ]
    }
   ],
   "source": [
    "# Filter out names that start with the letter 'A' using lambda and filter.\n",
    "\n",
    "name = [\"Bishal\",\"asmita\",\"ankit\",\"asmit\"]\n",
    "\n",
    "filtered = list(filter(lambda x : x[0] ==\"a\", name))\n",
    "\n",
    "upper_case = list(map(lambda x: x.capitalize(),filtered))\n",
    "print(upper_case)"
   ]
  }
 ],
 "metadata": {
  "kernelspec": {
   "display_name": "Python 3",
   "language": "python",
   "name": "python3"
  },
  "language_info": {
   "codemirror_mode": {
    "name": "ipython",
    "version": 3
   },
   "file_extension": ".py",
   "mimetype": "text/x-python",
   "name": "python",
   "nbconvert_exporter": "python",
   "pygments_lexer": "ipython3",
   "version": "3.11.9"
  }
 },
 "nbformat": 4,
 "nbformat_minor": 5
}
