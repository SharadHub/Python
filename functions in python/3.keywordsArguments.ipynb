{
 "cells": [
  {
   "cell_type": "markdown",
   "id": "e12b6dd2",
   "metadata": {},
   "source": [
    "we do not know the order of data and we cannot tell python about it individually so to make it easier we have keyword arguments"
   ]
  },
  {
   "cell_type": "code",
   "execution_count": 5,
   "id": "f01a8cfc",
   "metadata": {},
   "outputs": [
    {
     "data": {
      "text/plain": [
       "'My name is Bishal Bista and I am 22 years old'"
      ]
     },
     "execution_count": 5,
     "metadata": {},
     "output_type": "execute_result"
    }
   ],
   "source": [
    "def profile(name = \"Tony Stark\",age = 45):\n",
    "    return f\"My name is {name} and I am {age} years old\"\n",
    "\n",
    "profile(name = \"Bishal Bista\", age = 22)"
   ]
  }
 ],
 "metadata": {
  "kernelspec": {
   "display_name": "Python 3",
   "language": "python",
   "name": "python3"
  },
  "language_info": {
   "codemirror_mode": {
    "name": "ipython",
    "version": 3
   },
   "file_extension": ".py",
   "mimetype": "text/x-python",
   "name": "python",
   "nbconvert_exporter": "python",
   "pygments_lexer": "ipython3",
   "version": "3.11.9"
  }
 },
 "nbformat": 4,
 "nbformat_minor": 5
}
