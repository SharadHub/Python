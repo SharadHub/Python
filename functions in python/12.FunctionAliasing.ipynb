{
 "cells": [
  {
   "cell_type": "markdown",
   "id": "e60d6365",
   "metadata": {},
   "source": [
    "Function aliasing means giving another name to a function, just like a shortcut. It allows you to call a function using a different name."
   ]
  },
  {
   "cell_type": "code",
   "execution_count": null,
   "id": "4a9070a2",
   "metadata": {},
   "outputs": [
    {
     "data": {
      "text/plain": [
       "4"
      ]
     },
     "execution_count": 2,
     "metadata": {},
     "output_type": "execute_result"
    }
   ],
   "source": [
    "# 1. Create a function square(x) and alias it as sqr. Call both versions.\n",
    "def square(x):\n",
    "    return x ** x\n",
    "\n",
    "sqr = square\n",
    "\n",
    "square(2)\n",
    "sqr(3)\n",
    "\n",
    "\n"
   ]
  },
  {
   "cell_type": "code",
   "execution_count": null,
   "id": "04b8a06e",
   "metadata": {},
   "outputs": [
    {
     "name": "stdout",
     "output_type": "stream",
     "text": [
      "66\n"
     ]
    }
   ],
   "source": [
    "# 2. Alias the built-in function max() as maximum and find the max of a list.\n",
    "maximum = max \n",
    "\n",
    "num = [23,44,32,12,66,21]\n",
    "\n",
    "print(maximum(num))\n"
   ]
  },
  {
   "cell_type": "code",
   "execution_count": 4,
   "id": "0bd64e08",
   "metadata": {},
   "outputs": [
    {
     "name": "stdout",
     "output_type": "stream",
     "text": [
      "hi!! i am iron man\n",
      "hi!! i am ironman\n"
     ]
    }
   ],
   "source": [
    "# 3. Make a function shout(msg) that returns the uppercase version of the message. Alias it to yell and use both.\n",
    "\n",
    "def shout(msg):\n",
    "    return msg.lower()\n",
    "\n",
    "yell = shout\n",
    "print(shout(\"Hi!! I am Iron Man\"))\n",
    "print(yell(\"Hi!! I am IronMan\"))"
   ]
  }
 ],
 "metadata": {
  "kernelspec": {
   "display_name": "Python 3",
   "language": "python",
   "name": "python3"
  },
  "language_info": {
   "codemirror_mode": {
    "name": "ipython",
    "version": 3
   },
   "file_extension": ".py",
   "mimetype": "text/x-python",
   "name": "python",
   "nbconvert_exporter": "python",
   "pygments_lexer": "ipython3",
   "version": "3.11.9"
  }
 },
 "nbformat": 4,
 "nbformat_minor": 5
}
