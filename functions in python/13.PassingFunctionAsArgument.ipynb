{
 "cells": [
  {
   "cell_type": "markdown",
   "id": "22fe2793",
   "metadata": {},
   "source": [
    "Function as an Argument:\n",
    "In Python Functions are the first-class object so we can assign them to variables, call them from another functions and pass them as an argument in other functions."
   ]
  },
  {
   "cell_type": "code",
   "execution_count": null,
   "id": "26b2d95b",
   "metadata": {},
   "outputs": [
    {
     "name": "stdout",
     "output_type": "stream",
     "text": [
      "9\n",
      "20\n"
     ]
    }
   ],
   "source": [
    "# Write a function calculate(func, x, y) that takes another function and two numbers. The passed function will perform addition or multiplication.\n",
    "\n",
    "\n",
    "def add(a,b):\n",
    "    return a + b\n",
    "\n",
    "def multiply(a,b):\n",
    "    return a * b\n",
    "\n",
    "\n",
    "def calculate(func, a, b):\n",
    "    return func(a,b)\n",
    "\n",
    "print(calculate(add, 4,5))\n",
    "print(calculate(multiply, 4,5))"
   ]
  },
  {
   "cell_type": "code",
   "execution_count": null,
   "id": "5dab088b",
   "metadata": {},
   "outputs": [
    {
     "name": "stdout",
     "output_type": "stream",
     "text": [
      "False\n",
      "False\n"
     ]
    }
   ],
   "source": [
    "# Define two functions: positive(n) and negative(n) — pass them into another function apply(func, number).\n",
    "\n",
    "def positive(n):\n",
    "    if n >= 0:\n",
    "        return True\n",
    "    return False\n",
    "\n",
    "def negative(n):\n",
    "    if n < 0:\n",
    "        return False\n",
    "    return False\n",
    "\n",
    "def apply(func,number):\n",
    "    return func(number)\n",
    "\n",
    "print(apply(positive, -9))\n",
    "print(apply(negative, 9))"
   ]
  },
  {
   "cell_type": "code",
   "execution_count": 12,
   "id": "9fd068f2",
   "metadata": {},
   "outputs": [
    {
     "name": "stdout",
     "output_type": "stream",
     "text": [
      "HELLO MY NAME IS BISHAL\n",
      "hello my name is bishal\n"
     ]
    }
   ],
   "source": [
    "# Create a function formatter(func, sentence) where func could be str.upper, str.lower, or your own custom title case converter.\n",
    "\n",
    "def uppercase(sentence):\n",
    "    return sentence.upper()\n",
    "\n",
    "def lowercase(sentence):\n",
    "    return sentence.lower()\n",
    "\n",
    "def formatter(func, sentence):\n",
    "    return func(sentence)\n",
    "\n",
    "print(formatter(uppercase, \"Hello My name is Bishal\"))\n",
    "print(formatter(lowercase, \"Hello My name is Bishal\"))"
   ]
  }
 ],
 "metadata": {
  "kernelspec": {
   "display_name": "Python 3",
   "language": "python",
   "name": "python3"
  },
  "language_info": {
   "codemirror_mode": {
    "name": "ipython",
    "version": 3
   },
   "file_extension": ".py",
   "mimetype": "text/x-python",
   "name": "python",
   "nbconvert_exporter": "python",
   "pygments_lexer": "ipython3",
   "version": "3.11.9"
  }
 },
 "nbformat": 4,
 "nbformat_minor": 5
}
