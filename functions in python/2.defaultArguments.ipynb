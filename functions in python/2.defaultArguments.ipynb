{
 "cells": [
  {
   "cell_type": "markdown",
   "id": "5d51ed15",
   "metadata": {},
   "source": [
    "defined parameters in the function which gives exact same value if none of the arguments are passed through the function call"
   ]
  },
  {
   "cell_type": "code",
   "execution_count": 1,
   "id": "5cb2a119",
   "metadata": {},
   "outputs": [
    {
     "data": {
      "text/plain": [
       "'I want apple juice.'"
      ]
     },
     "execution_count": 1,
     "metadata": {},
     "output_type": "execute_result"
    }
   ],
   "source": [
    "def juice(fruit = \"apple\"):\n",
    "    return f\"I want {fruit} juice.\"\n",
    "\n",
    "juice()"
   ]
  },
  {
   "cell_type": "markdown",
   "id": "2ac47482",
   "metadata": {},
   "source": [
    "Default arguments must come after non-default ones."
   ]
  },
  {
   "cell_type": "code",
   "execution_count": null,
   "id": "fca86b42",
   "metadata": {},
   "outputs": [
    {
     "data": {
      "text/plain": [
       "'My name is bishal and I am 23 years old.'"
      ]
     },
     "execution_count": 3,
     "metadata": {},
     "output_type": "execute_result"
    }
   ],
   "source": [
    "def profile(name, age = 23):\n",
    "    return f\"My name is {name} and I am {age} years old.\"\n",
    "\n",
    "profile(\"bishal\",)"
   ]
  },
  {
   "cell_type": "code",
   "execution_count": 11,
   "id": "a4d18546",
   "metadata": {},
   "outputs": [
    {
     "data": {
      "text/plain": [
       "'bmw'"
      ]
     },
     "execution_count": 11,
     "metadata": {},
     "output_type": "execute_result"
    }
   ],
   "source": [
    "def train_model(model, epochs=10, batch_size=32):\n",
    "    # train your model with default or given values\n",
    "    return model\n",
    "train_model(\"bmw\")  # Uses default epochs and batch_size\n"
   ]
  },
  {
   "cell_type": "code",
   "execution_count": 7,
   "id": "7536e115",
   "metadata": {},
   "outputs": [
    {
     "data": {
      "text/plain": [
       "'apple'"
      ]
     },
     "execution_count": 7,
     "metadata": {},
     "output_type": "execute_result"
    }
   ],
   "source": [
    "def clean_text(text, lowercase=True, remove_stopwords=False):\n",
    "    if lowercase:\n",
    "        text = text.lower()\n",
    "    # more cleaning\n",
    "    return text\n",
    "clean_text(\"APPLE\")\n"
   ]
  }
 ],
 "metadata": {
  "kernelspec": {
   "display_name": "Python 3",
   "language": "python",
   "name": "python3"
  },
  "language_info": {
   "codemirror_mode": {
    "name": "ipython",
    "version": 3
   },
   "file_extension": ".py",
   "mimetype": "text/x-python",
   "name": "python",
   "nbconvert_exporter": "python",
   "pygments_lexer": "ipython3",
   "version": "3.11.9"
  }
 },
 "nbformat": 4,
 "nbformat_minor": 5
}
