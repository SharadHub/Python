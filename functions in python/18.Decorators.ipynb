{
 "cells": [
  {
   "cell_type": "markdown",
   "id": "3b2eaafd",
   "metadata": {},
   "source": [
    "A Decorator is a function that modifies or enhances another function without changing its code.\n",
    "You wrap one function inside another to add extra features. It's like putting a cover over a book to make it look better, without changing the inside pages.\n",
    "\n"
   ]
  },
  {
   "cell_type": "code",
   "execution_count": null,
   "id": "106c8f80",
   "metadata": {},
   "outputs": [
    {
     "name": "stdout",
     "output_type": "stream",
     "text": [
      "this is something before original function\n",
      "Display function is running\n",
      "this is something after original function\n"
     ]
    }
   ],
   "source": [
    "def decorator_function(original_function):\n",
    "    def wrapper_function():\n",
    "        print(\"this is something before original function\")\n",
    "        original_function()\n",
    "        print(\"this is something after original function\")\n",
    "    return wrapper_function\n",
    "\n",
    "\"\"\"decorator_function takes another function original_function as an argument.\n",
    "\n",
    "It wraps it inside wrapper_function which adds extra behavior before and after.\n",
    "\n",
    "@decorator_function automatically decorates the display() function.\n",
    "\n",
    "When you call display(), you are actually calling the wrapped version.\n",
    "\n",
    "\"\"\"\n",
    "@decorator_function\n",
    "def display():\n",
    "    print(\"Display function is running\")\n",
    "    \n",
    "display()\n",
    "    \n"
   ]
  },
  {
   "cell_type": "code",
   "execution_count": 11,
   "id": "1ff25dad",
   "metadata": {},
   "outputs": [
    {
     "name": "stdout",
     "output_type": "stream",
     "text": [
      "Starting function before\n",
      "Hello World\n",
      "function ended\n"
     ]
    }
   ],
   "source": [
    "# Exercise 1:\n",
    "# Create a decorator that prints \"Starting function...\" before and \"Function ended.\" after running any function.\n",
    "\n",
    "def func1(first_func):\n",
    "    def wrap():\n",
    "        print(\"Starting function before\")\n",
    "        first_func()\n",
    "        print(\"function ended\")\n",
    "    return wrap\n",
    "\n",
    "@func1\n",
    "def display():\n",
    "    print(\"Hello World\")\n",
    "    \n",
    "display()"
   ]
  },
  {
   "cell_type": "code",
   "execution_count": 20,
   "id": "ca42faad",
   "metadata": {},
   "outputs": [
    {
     "name": "stdout",
     "output_type": "stream",
     "text": [
      "25\n"
     ]
    }
   ],
   "source": [
    "# Exercise 2:\n",
    "# Write a decorator that squares the output of any function returning a number.\n",
    "\n",
    "def squares(num):\n",
    "    def wrap(*args, **kwargs):\n",
    "        result = num(*args, **kwargs)\n",
    "        return result**2\n",
    "    return wrap\n",
    "\n",
    "@squares\n",
    "def output():\n",
    "    return 5\n",
    "\n",
    "if __name__ == \"__main__\":\n",
    "    print(output())\n",
    "    \n"
   ]
  },
  {
   "cell_type": "code",
   "execution_count": 31,
   "id": "8fe62462",
   "metadata": {},
   "outputs": [
    {
     "name": "stdout",
     "output_type": "stream",
     "text": [
      "Input must be Positive\n",
      "4.0\n"
     ]
    }
   ],
   "source": [
    "# Exercise 3:\n",
    "# Make a decorator that checks if the input argument is positive before allowing the function to run.\n",
    "\n",
    "def positive(function):\n",
    "    def wrap(num):\n",
    "        if num > 0:\n",
    "            return function(num)\n",
    "        else:\n",
    "            return \"Input must be Positive\"\n",
    "    return wrap\n",
    "\n",
    "@positive\n",
    "def display(num):\n",
    "    return num ** 0.5\n",
    "\n",
    "if __name__ == \"__main__\":\n",
    "    print(display(-16))\n",
    "    print(display(16))"
   ]
  }
 ],
 "metadata": {
  "kernelspec": {
   "display_name": "Python 3",
   "language": "python",
   "name": "python3"
  },
  "language_info": {
   "codemirror_mode": {
    "name": "ipython",
    "version": 3
   },
   "file_extension": ".py",
   "mimetype": "text/x-python",
   "name": "python",
   "nbconvert_exporter": "python",
   "pygments_lexer": "ipython3",
   "version": "3.11.9"
  }
 },
 "nbformat": 4,
 "nbformat_minor": 5
}
