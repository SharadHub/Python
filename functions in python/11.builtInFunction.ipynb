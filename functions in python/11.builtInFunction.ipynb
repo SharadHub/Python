{
 "cells": [
  {
   "cell_type": "markdown",
   "id": "62379365",
   "metadata": {},
   "source": [
    "Buit-in function "
   ]
  },
  {
   "cell_type": "code",
   "execution_count": null,
   "id": "d1216725",
   "metadata": {},
   "outputs": [
    {
     "name": "stdout",
     "output_type": "stream",
     "text": [
      "55\n"
     ]
    }
   ],
   "source": [
    "# Use built-in function sum() to get the total of a list.\n",
    "mylist = [1,2,3,4,5,6,7,8,9,10]\n",
    "print(sum(mylist))\n"
   ]
  },
  {
   "cell_type": "code",
   "execution_count": 3,
   "id": "4c2e0d92",
   "metadata": {},
   "outputs": [
    {
     "name": "stdout",
     "output_type": "stream",
     "text": [
      "True\n"
     ]
    }
   ],
   "source": [
    "# Create a user-defined function is_even(num) that returns True or False.\n",
    "def is_even(num):\n",
    "    if num % 2 == 0:\n",
    "        return True\n",
    "    return False\n",
    "print(is_even(10))"
   ]
  },
  {
   "cell_type": "code",
   "execution_count": 11,
   "id": "17d884fb",
   "metadata": {},
   "outputs": [
    {
     "name": "stdout",
     "output_type": "stream",
     "text": [
      "12\n"
     ]
    }
   ],
   "source": [
    "# Combine both: Use sum() inside your own function to sum only even numbers in a list.\n",
    "def is_even(myNum):\n",
    "    myNum = [i for i in myNum if i % 2 == 0]\n",
    "    return sum(myNum)\n",
    "\n",
    "print(is_even([1,2,3,4,5,6]))"
   ]
  }
 ],
 "metadata": {
  "kernelspec": {
   "display_name": "Python 3",
   "language": "python",
   "name": "python3"
  },
  "language_info": {
   "codemirror_mode": {
    "name": "ipython",
    "version": 3
   },
   "file_extension": ".py",
   "mimetype": "text/x-python",
   "name": "python",
   "nbconvert_exporter": "python",
   "pygments_lexer": "ipython3",
   "version": "3.11.9"
  }
 },
 "nbformat": 4,
 "nbformat_minor": 5
}
