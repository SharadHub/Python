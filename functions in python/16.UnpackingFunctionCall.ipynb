{
 "cells": [
  {
   "cell_type": "markdown",
   "id": "c805ba40",
   "metadata": {},
   "source": [
    "Unpacking is the breaking apart a collections like list, tuples, sets and dictionaires and passing through the function."
   ]
  },
  {
   "cell_type": "code",
   "execution_count": 1,
   "id": "72960af7",
   "metadata": {},
   "outputs": [
    {
     "data": {
      "text/plain": [
       "(2, 4, 6)"
      ]
     },
     "execution_count": 1,
     "metadata": {},
     "output_type": "execute_result"
    }
   ],
   "source": [
    "# Create a function add_numbers(a, b, c) and Unpack a list [2, 4, 6] to call the function.\n",
    "\n",
    "def add_numbers(a,b,c):\n",
    "    return a,b,c\n",
    "\n",
    "num = [2,4,6]\n",
    "add_numbers(*num)"
   ]
  },
  {
   "cell_type": "code",
   "execution_count": 3,
   "id": "172fc105",
   "metadata": {},
   "outputs": [
    {
     "data": {
      "text/plain": [
       "'My name is Bishal Bista'"
      ]
     },
     "execution_count": 3,
     "metadata": {},
     "output_type": "execute_result"
    }
   ],
   "source": [
    "def names(first_name,last_name):\n",
    "    return f\"My name is {first_name} {last_name}\"\n",
    "\n",
    "name = [\"Bishal\", \"Bista\"]\n",
    "\n",
    "names(*name)"
   ]
  },
  {
   "cell_type": "code",
   "execution_count": 12,
   "id": "fdae36fd",
   "metadata": {},
   "outputs": [
    {
     "data": {
      "text/plain": [
       "\"This is made by Toyota,it's model is Camry and made in 2022\""
      ]
     },
     "execution_count": 12,
     "metadata": {},
     "output_type": "execute_result"
    }
   ],
   "source": [
    "# Write a function car_info(make, model, year)\n",
    "# Pass a dictionary {\"make\": \"Toyota\", \"model\": \"Camry\", \"year\": 2022} using unpacking.\n",
    "def car_info(make,model,year):\n",
    "    return f\"This is made by {make},it's model is {model} and made in {year}\"\n",
    "\n",
    "info = {\"make\": \"Toyota\", \"model\": \"Camry\", \"year\": 2022}\n",
    "\n",
    "car_info(**info)\n"
   ]
  },
  {
   "cell_type": "code",
   "execution_count": 8,
   "id": "80d5d1ac",
   "metadata": {},
   "outputs": [
    {
     "data": {
      "text/plain": [
       "'My name is Bishal Bista,I am 22 years old and I live in Sarlahi.'"
      ]
     },
     "execution_count": 8,
     "metadata": {},
     "output_type": "execute_result"
    }
   ],
   "source": [
    "# Create a function that accepts name, age, and city.\n",
    "# Call it by unpacking a tuple.\n",
    "\n",
    "def profile(name,age,city):\n",
    "    return f\"My name is {name},I am {age} years old and I live in {city}.\"\n",
    "\n",
    "pro = (\"Bishal Bista\", 22, \"Sarlahi\")\n",
    "\n",
    "profile(*pro)\n"
   ]
  }
 ],
 "metadata": {
  "kernelspec": {
   "display_name": "Python 3",
   "language": "python",
   "name": "python3"
  },
  "language_info": {
   "codemirror_mode": {
    "name": "ipython",
    "version": 3
   },
   "file_extension": ".py",
   "mimetype": "text/x-python",
   "name": "python",
   "nbconvert_exporter": "python",
   "pygments_lexer": "ipython3",
   "version": "3.11.9"
  }
 },
 "nbformat": 4,
 "nbformat_minor": 5
}
