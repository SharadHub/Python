{
 "cells": [
  {
   "cell_type": "markdown",
   "id": "28198345",
   "metadata": {},
   "source": [
    "1. Simple Return\n",
    "Write a function add_numbers(a, b) that returns the sum of two numbers."
   ]
  },
  {
   "cell_type": "code",
   "execution_count": 1,
   "id": "96d3c735",
   "metadata": {},
   "outputs": [
    {
     "data": {
      "text/plain": [
       "300"
      ]
     },
     "execution_count": 1,
     "metadata": {},
     "output_type": "execute_result"
    }
   ],
   "source": [
    "def add_numbers(a,b):\n",
    "    return a + b\n",
    "\n",
    "add_numbers(156,144)"
   ]
  },
  {
   "cell_type": "markdown",
   "id": "307df519",
   "metadata": {},
   "source": [
    "2. Default Arguments\n",
    "Write a function greet(name=\"User\") that prints \"Hello, [name]!\"."
   ]
  },
  {
   "cell_type": "code",
   "execution_count": 3,
   "id": "0e4d7bd4",
   "metadata": {},
   "outputs": [
    {
     "data": {
      "text/plain": [
       "'Hello, [User]!'"
      ]
     },
     "execution_count": 3,
     "metadata": {},
     "output_type": "execute_result"
    }
   ],
   "source": [
    "def greet(name = \"User\"):\n",
    "    return f\"Hello, [{name}]!\"\n",
    "\n",
    "greet()"
   ]
  },
  {
   "cell_type": "markdown",
   "id": "ccf41183",
   "metadata": {},
   "source": [
    "3. Keyword Arguments\n",
    "Write a function describe_pet(animal_type, pet_name) and call it using keyword arguments"
   ]
  },
  {
   "cell_type": "code",
   "execution_count": 4,
   "id": "1f4ceb47",
   "metadata": {},
   "outputs": [
    {
     "name": "stdout",
     "output_type": "stream",
     "text": [
      "This is Cat and it's name is J\n"
     ]
    }
   ],
   "source": [
    "def describe_pet(animal_type = \"Dog\", pet_name = \"Musu\"):\n",
    "    return f\"This is {animal_type} and it's name is {pet_name}\"\n",
    "\n",
    "print(describe_pet(animal_type=\"Cat\", pet_name=\"J\"))"
   ]
  },
  {
   "cell_type": "markdown",
   "id": "0cfd51cf",
   "metadata": {},
   "source": [
    "4. Sum using args\n",
    "Write a function sum_all(*numbers) that returns the sum of all numbers passed"
   ]
  },
  {
   "cell_type": "code",
   "execution_count": 5,
   "id": "f3e6310f",
   "metadata": {},
   "outputs": [
    {
     "name": "stdout",
     "output_type": "stream",
     "text": [
      "The list of numbers is: (1, 2, 3, 4, 5)\n",
      "The sum of all numbers in the list is 15\n"
     ]
    }
   ],
   "source": [
    "def sum_all(*numbers):\n",
    "    print(\"The list of numbers is:\",numbers)\n",
    "    \n",
    "    total = sum(numbers)\n",
    "    return f\"The sum of all numbers in the list is {total}\"\n",
    "\n",
    "print(sum_all(1,2,3,4,5))\n",
    "    "
   ]
  },
  {
   "cell_type": "markdown",
   "id": "e33f14ba",
   "metadata": {},
   "source": [
    "**5. Student Info using kwargs\n",
    "Write a function student_info(**details) that prints each key and value in the format: \"key: value\"."
   ]
  },
  {
   "cell_type": "code",
   "execution_count": 9,
   "id": "a6b3e33e",
   "metadata": {},
   "outputs": [
    {
     "name": "stdout",
     "output_type": "stream",
     "text": [
      "Profile Info:\n",
      "Name = Bishal Bista\n",
      "Age = 22\n",
      "Address = Lalitpur\n",
      "Profession = Student\n",
      "Hobby = Football\n"
     ]
    }
   ],
   "source": [
    "def student_info(**details):\n",
    "    print(\"Profile Info:\")\n",
    "    for key, value in details.items():\n",
    "        print(f\"{key} = {value}\")\n",
    "\n",
    "student_info(Name = \"Bishal Bista\", Age = 22, Address = \"Lalitpur\", Profession = \"Student\", Hobby= \"Football\")"
   ]
  },
  {
   "cell_type": "markdown",
   "id": "5dcf2853",
   "metadata": {},
   "source": [
    "6. Correct Call\n",
    "Write a function book(title, author) and call it correctly using both positional and keyword arguments."
   ]
  },
  {
   "cell_type": "code",
   "execution_count": null,
   "id": "c78c1a9a",
   "metadata": {},
   "outputs": [
    {
     "data": {
      "text/plain": [
       "'Book = Harry Potter is Written By = J.K Rowlings'"
      ]
     },
     "execution_count": 17,
     "metadata": {},
     "output_type": "execute_result"
    }
   ],
   "source": [
    "def book(title, author):\n",
    "    return f\"Book = {title} is Written By = {author}\"\n",
    "\n",
    "book(title = \"Harry Potter\", author = \"J.K Rowlings\")\n",
    "book(\"Harry Potter\", \"J.K Rowlings\")\n"
   ]
  },
  {
   "cell_type": "markdown",
   "id": "1789549f",
   "metadata": {},
   "source": [
    "7. Local vs Global\n",
    "Create a variable name = \"World\", then inside a function change it to \"Python\", and print both inside and outside."
   ]
  },
  {
   "cell_type": "code",
   "execution_count": 34,
   "id": "414a4734",
   "metadata": {},
   "outputs": [
    {
     "name": "stdout",
     "output_type": "stream",
     "text": [
      "Hello! World\n",
      "Hello! Python\n"
     ]
    }
   ],
   "source": [
    "name = \"World\"\n",
    "\n",
    "def func():\n",
    "    global name\n",
    "    name = \"Python\"\n",
    "    \n",
    "print(\"Hello!\",name)\n",
    "func()\n",
    "print(\"Hello!\", name)\n",
    "\n",
    "    "
   ]
  },
  {
   "cell_type": "markdown",
   "id": "b15ba6a3",
   "metadata": {},
   "source": [
    "8. Nested Function Practice\n",
    "Write a function outer(x) that defines an inner(y) function which returns x + y. outer(10) should return a function which adds 10 to any number."
   ]
  },
  {
   "cell_type": "code",
   "execution_count": 48,
   "id": "f14ac513",
   "metadata": {},
   "outputs": [
    {
     "name": "stdout",
     "output_type": "stream",
     "text": [
      "30\n"
     ]
    }
   ],
   "source": [
    "def outer(x):\n",
    "    def inner(y):\n",
    "        return x + y\n",
    "    return inner\n",
    "\n",
    "sum_10 = outer(10)\n",
    "\n",
    "print(sum_10(20))"
   ]
  },
  {
   "cell_type": "markdown",
   "id": "9c730943",
   "metadata": {},
   "source": [
    "9. Type Hints\n",
    "Write a function multiply(a: int, b: int) -> int that multiplies two integers."
   ]
  },
  {
   "cell_type": "code",
   "execution_count": 49,
   "id": "52a42445",
   "metadata": {},
   "outputs": [
    {
     "data": {
      "text/plain": [
       "15"
      ]
     },
     "execution_count": 49,
     "metadata": {},
     "output_type": "execute_result"
    }
   ],
   "source": [
    "def multiply(a:int, b:int) -> int:\n",
    "    return a * b\n",
    "\n",
    "multiply(3,5)"
   ]
  },
  {
   "cell_type": "markdown",
   "id": "d95af57f",
   "metadata": {},
   "source": [
    "10. Recursion\n",
    "Write a function factorial(n) using recursion."
   ]
  },
  {
   "cell_type": "code",
   "execution_count": 50,
   "id": "293e6741",
   "metadata": {},
   "outputs": [
    {
     "name": "stdout",
     "output_type": "stream",
     "text": [
      "120\n"
     ]
    }
   ],
   "source": [
    "def factorial(n):\n",
    "    if n == 0:\n",
    "        return 1\n",
    "    return n * factorial(n-1)\n",
    "\n",
    "print(factorial(5))"
   ]
  },
  {
   "cell_type": "markdown",
   "id": "474d6aea",
   "metadata": {},
   "source": [
    "11. Lambda\n",
    "Write a lambda function to square a number."
   ]
  },
  {
   "cell_type": "code",
   "execution_count": 64,
   "id": "401ac97e",
   "metadata": {},
   "outputs": [
    {
     "name": "stdout",
     "output_type": "stream",
     "text": [
      "The square of the number is:25\n"
     ]
    }
   ],
   "source": [
    "square = lambda x: x**2\n",
    "square(5)\n",
    "print(f\"The square of the number is:{square(5)}\")"
   ]
  },
  {
   "cell_type": "markdown",
   "id": "9ddec040",
   "metadata": {},
   "source": [
    "12. Simple Decorator\n",
    "Create a decorator that prints \"Function is running\" before running any function."
   ]
  },
  {
   "cell_type": "code",
   "execution_count": null,
   "id": "c02094af",
   "metadata": {},
   "outputs": [
    {
     "name": "stdout",
     "output_type": "stream",
     "text": [
      "Function is running\n",
      "This is after og\n"
     ]
    }
   ],
   "source": [
    "def func(og_func):\n",
    "    def wrap():\n",
    "        og_func()\n",
    "        print(\"This is after og\")\n",
    "    return wrap\n",
    "\n",
    "@func\n",
    "def display():\n",
    "    print(\"Function is running\")\n",
    "    \n",
    "display()"
   ]
  },
  {
   "cell_type": "markdown",
   "id": "cca10483",
   "metadata": {},
   "source": [
    "13. Higher-Order Function\n",
    "Write a function operate(func, a, b) that takes another function func and two numbers a and b, and applies func(a, b)."
   ]
  },
  {
   "cell_type": "code",
   "execution_count": 69,
   "id": "cdb02674",
   "metadata": {},
   "outputs": [
    {
     "name": "stdout",
     "output_type": "stream",
     "text": [
      "8\n",
      "2\n",
      "1.6666666666666667\n",
      "15\n",
      "2\n",
      "1\n"
     ]
    }
   ],
   "source": [
    "def operate(func, a, b):\n",
    "    return func(a,b)\n",
    "\n",
    "\n",
    "def add(x,y):\n",
    "    return x + y\n",
    "\n",
    "def sub(x, y):\n",
    "    return x - y\n",
    "\n",
    "def divide(x, y):\n",
    "    return x / y\n",
    "\n",
    "def multiply(x, y):\n",
    "    return x * y\n",
    "\n",
    "def modulus(x, y):\n",
    "    return x % y\n",
    "def float_division(x, y):\n",
    "    return x // y\n",
    "\n",
    "print(operate(add, 5, 3))  \n",
    "print(operate(sub, 5, 3))  \n",
    "print(operate(divide, 5, 3))  \n",
    "print(operate(multiply, 5, 3))  \n",
    "print(operate(modulus, 5, 3))  \n",
    "print(operate(float_division, 5, 3))  "
   ]
  },
  {
   "cell_type": "markdown",
   "id": "9131186d",
   "metadata": {},
   "source": [
    "write a function that takes list and return a new list with unique elements of the first list\n",
    "list = [1,2,3,3,3,4,5,5,5,5]\n",
    "new list = [1,2,3,4,5]"
   ]
  },
  {
   "cell_type": "code",
   "execution_count": 1,
   "id": "7f21c2ff",
   "metadata": {},
   "outputs": [
    {
     "name": "stdout",
     "output_type": "stream",
     "text": [
      "[1, 2, 3, 4, 5]\n"
     ]
    }
   ],
   "source": [
    "def unique_items(l):\n",
    "    results = []\n",
    "    for i in l:\n",
    "        if i not in results:\n",
    "            results.append(i)\n",
    "    return results\n",
    "\n",
    "l = [1,2,3,3,3,4,5,5,5,]\n",
    "out = unique_items(l)\n",
    "print(out)"
   ]
  },
  {
   "cell_type": "markdown",
   "id": "6259bc71",
   "metadata": {},
   "source": [
    "write a function that accept hyphen-separated sequence of words as a parameter and return the words as hyphen-separated sequence after sorting them alphabetically\n",
    "\n",
    "input:\n",
    "green-red-yellow-black-white\n",
    "\n",
    "output:\n",
    "black-green-red-white-yellow"
   ]
  },
  {
   "cell_type": "code",
   "execution_count": 24,
   "id": "3d4f086f",
   "metadata": {},
   "outputs": [
    {
     "name": "stdout",
     "output_type": "stream",
     "text": [
      "Input: green-red-yellow-black-white\n",
      "Output: black-green-red-white-yellow\n"
     ]
    }
   ],
   "source": [
    "def hyphen_sequence():\n",
    "    color = ['green','red','yellow','black', 'white']\n",
    "    \n",
    "    color.sort()\n",
    "    \n",
    "    joined_color = \"-\".join(color)\n",
    "    \n",
    "    print(\"Input:\", \"-\".join(['green','red','yellow','black', 'white']))\n",
    "    \n",
    "    print(\"Output:\", joined_color)\n",
    "\n",
    "hyphen_sequence()"
   ]
  },
  {
   "cell_type": "markdown",
   "id": "177c5712",
   "metadata": {},
   "source": [
    "A Dictionary contains following information of 5 employees\n",
    "-first name\n",
    "-last name\n",
    "-age\n",
    "-grade(skilled, semi-skilled, highly skilled)\n",
    "Write a program using map, filter and reduce to a list of employees (first name + last name) who are highly skilled"
   ]
  },
  {
   "cell_type": "code",
   "execution_count": 32,
   "id": "5f0ffdc9",
   "metadata": {},
   "outputs": [
    {
     "data": {
      "text/plain": [
       "['John Cena', 'Randy Orton']"
      ]
     },
     "execution_count": 32,
     "metadata": {},
     "output_type": "execute_result"
    }
   ],
   "source": [
    "employees =[\n",
    "    {\n",
    "    \"fname\": \"Bishal\", \"lname\": 'Bista',\"age\" : 22,\"grade\": \"skilled\"\n",
    "    },\n",
    "    \n",
    "    {\n",
    "    \"fname\": \"Sajan\",\"lname\": 'Bista',\"age\" : 20,\"grade\": \"semi-skilled\"\n",
    "    },\n",
    "    \n",
    "    {\n",
    "    \"fname\": \"John\",\"lname\": 'Cena',\"age\" : 21,\"grade\": \"highly-skilled\"\n",
    "    },\n",
    "    \n",
    "    {\n",
    "    \"fname\": \"Randy\",\"lname\": 'Orton',\"age\" : 22,\"grade\": \"highly-skilled\"\n",
    "    },\n",
    "    \n",
    "    {\n",
    "    \"fname\": \"Roman\",\"lname\": 'Reign',\"age\" : 20,\"grade\": \"skilled\"\n",
    "    }\n",
    "]\n",
    "\n",
    "\n",
    "list(filter(lambda x:True if x[\"grade\"] == \"highly-skilled\" else False, employees))\n",
    "\n",
    "l = [\n",
    "        {'fname': 'John', 'lname': 'Cena', 'age': 21, 'grade': 'highly-skilled'},\n",
    "        {'fname': 'Randy', 'lname': 'Orton', 'age': 22, 'grade': 'highly-skilled'}\n",
    "    ]\n",
    "\n",
    "list(map(lambda x: x[\"fname\"] + \" \" + x[\"lname\"], l))\n"
   ]
  }
 ],
 "metadata": {
  "kernelspec": {
   "display_name": "Python 3",
   "language": "python",
   "name": "python3"
  },
  "language_info": {
   "codemirror_mode": {
    "name": "ipython",
    "version": 3
   },
   "file_extension": ".py",
   "mimetype": "text/x-python",
   "name": "python",
   "nbconvert_exporter": "python",
   "pygments_lexer": "ipython3",
   "version": "3.11.9"
  }
 },
 "nbformat": 4,
 "nbformat_minor": 5
}
