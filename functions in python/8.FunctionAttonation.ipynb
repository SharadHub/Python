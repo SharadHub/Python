{
 "cells": [
  {
   "cell_type": "code",
   "execution_count": null,
   "id": "4e691ad5",
   "metadata": {},
   "outputs": [
    {
     "name": "stdout",
     "output_type": "stream",
     "text": [
      "16\n"
     ]
    }
   ],
   "source": [
    "#Using Integer\n",
    "def square(a:int) -> int:\n",
    "    return a * a\n",
    "print(square(4))"
   ]
  },
  {
   "cell_type": "code",
   "execution_count": 3,
   "id": "ebac2cd4",
   "metadata": {},
   "outputs": [
    {
     "name": "stdout",
     "output_type": "stream",
     "text": [
      "5.0\n"
     ]
    }
   ],
   "source": [
    "#Using Float\n",
    "\n",
    "def half(b:float)->float:\n",
    "    return b/2\n",
    "print(half(10))"
   ]
  },
  {
   "cell_type": "code",
   "execution_count": 4,
   "id": "30f73cab",
   "metadata": {},
   "outputs": [
    {
     "name": "stdout",
     "output_type": "stream",
     "text": [
      "Hello Bishal\n"
     ]
    }
   ],
   "source": [
    "#Using String\n",
    "def say_hello(name:str)->str:\n",
    "    return f\"Hello {name}\"\n",
    "print(say_hello(\"Bishal\"))"
   ]
  },
  {
   "cell_type": "code",
   "execution_count": 15,
   "id": "0d030df1",
   "metadata": {},
   "outputs": [
    {
     "name": "stdout",
     "output_type": "stream",
     "text": [
      "31 is prime number\n"
     ]
    }
   ],
   "source": [
    "def prime(num:int) -> int:\n",
    "    if num <= 1:\n",
    "        return False\n",
    "    \n",
    "    for i in range(2,num):\n",
    "        if num % i == 0:\n",
    "            return f\"{num} is not prime number\"\n",
    "    return f\"{num} is prime number\"\n",
    "\n",
    "print(prime(31))"
   ]
  },
  {
   "cell_type": "code",
   "execution_count": 11,
   "id": "ddd67258",
   "metadata": {},
   "outputs": [
    {
     "name": "stdout",
     "output_type": "stream",
     "text": [
      "Not Eligible\n"
     ]
    }
   ],
   "source": [
    "\n",
    "#using boolean\n",
    "def is_eligible(flag: bool)->str:\n",
    "    return \"Eligible\" if flag else \"Not Eligible\"\n",
    "print(is_eligible(False))"
   ]
  },
  {
   "cell_type": "code",
   "execution_count": null,
   "id": "6594624f",
   "metadata": {},
   "outputs": [
    {
     "name": "stdout",
     "output_type": "stream",
     "text": [
      "15\n"
     ]
    }
   ],
   "source": [
    "#Using list\n",
    "def sum_values(values:list[int])->int:\n",
    "    return sum(values)\n",
    "print(sum_values([1,2,3,4,5]))"
   ]
  },
  {
   "cell_type": "code",
   "execution_count": null,
   "id": "432b6396",
   "metadata": {},
   "outputs": [
    {
     "name": "stdout",
     "output_type": "stream",
     "text": [
      "Length:4, Height:4\n"
     ]
    }
   ],
   "source": [
    "#using tuple\n",
    "def format(coords:tuple[float,float])->str:\n",
    "    return f\"Length:{coords[0]}, Height:{coords[1]}\"\n",
    "\n",
    "print(format((4,4)))\n"
   ]
  },
  {
   "cell_type": "code",
   "execution_count": null,
   "id": "badf5a52",
   "metadata": {},
   "outputs": [
    {
     "name": "stdout",
     "output_type": "stream",
     "text": [
      "CPU:4 cores, RAM:16 GB\n"
     ]
    }
   ],
   "source": [
    "#Using dictionary\n",
    "def config_info(config:[str, int])->str:\n",
    "    return f\"CPU:{config['cpu']} cores, RAM:{config['ram']} GB\"\n",
    "\n",
    "print(config_info({'cpu': 4,'ram': 16}))"
   ]
  }
 ],
 "metadata": {
  "kernelspec": {
   "display_name": "Python 3",
   "language": "python",
   "name": "python3"
  },
  "language_info": {
   "codemirror_mode": {
    "name": "ipython",
    "version": 3
   },
   "file_extension": ".py",
   "mimetype": "text/x-python",
   "name": "python",
   "nbconvert_exporter": "python",
   "pygments_lexer": "ipython3",
   "version": "3.11.9"
  }
 },
 "nbformat": 4,
 "nbformat_minor": 5
}
