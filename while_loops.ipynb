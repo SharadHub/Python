{
 "cells": [
  {
   "cell_type": "markdown",
   "id": "fdbed2d0-c9f0-4496-8dcd-42143c357536",
   "metadata": {},
   "source": [
    "multiplication table"
   ]
  },
  {
   "cell_type": "code",
   "execution_count": 2,
   "id": "7e34766f-7ba5-45fa-b79d-8914ce040cfe",
   "metadata": {},
   "outputs": [
    {
     "name": "stdout",
     "output_type": "stream",
     "text": [
      "enter the number:\n",
      " 2\n"
     ]
    },
    {
     "name": "stdout",
     "output_type": "stream",
     "text": [
      "2\n",
      "4\n",
      "6\n",
      "8\n",
      "10\n",
      "12\n",
      "14\n",
      "16\n",
      "18\n"
     ]
    }
   ],
   "source": [
    "num = int(input(\"enter the number:\\n\"))\n",
    "i = 1 \n",
    "while i<10:\n",
    "    mul = num * i\n",
    "    print(mul)\n",
    "    i += 1"
   ]
  },
  {
   "cell_type": "markdown",
   "id": "dc0d3f44-e010-44c0-b375-b9c5f8617d6b",
   "metadata": {},
   "source": [
    "print the output multipl times "
   ]
  },
  {
   "cell_type": "code",
   "execution_count": 4,
   "id": "8128629a-4512-4057-acf5-500c18d867e4",
   "metadata": {},
   "outputs": [
    {
     "name": "stdout",
     "output_type": "stream",
     "text": [
      "my name is Bishal Bista\n",
      "my name is Bishal Bista\n",
      "my name is Bishal Bista\n",
      "my name is Bishal Bista\n",
      "my name is Bishal Bista\n",
      "my name is Bishal Bista\n",
      "my name is Bishal Bista\n",
      "my name is Bishal Bista\n",
      "my name is Bishal Bista\n",
      "my name is Bishal Bista\n"
     ]
    }
   ],
   "source": [
    "name = \"Bishal Bista\"\n",
    "i = 0\n",
    "\n",
    "while i < 10:\n",
    "    print(\"my name is\", name)\n",
    "    i += 1\n"
   ]
  },
  {
   "cell_type": "markdown",
   "id": "b97252d2-542e-4d7d-bf55-9d6f10263a6f",
   "metadata": {},
   "source": [
    "number guessing game"
   ]
  },
  {
   "cell_type": "code",
   "execution_count": 5,
   "id": "35f69442-f6cd-4567-bb49-aace49f5d3d9",
   "metadata": {},
   "outputs": [
    {
     "name": "stdout",
     "output_type": "stream",
     "text": [
      "Enter the guess:\n",
      " 77\n"
     ]
    },
    {
     "name": "stdout",
     "output_type": "stream",
     "text": [
      "Guess is high\n",
      "\n"
     ]
    },
    {
     "name": "stdout",
     "output_type": "stream",
     "text": [
      "Enter the guess:\n",
      " 55\n"
     ]
    },
    {
     "name": "stdout",
     "output_type": "stream",
     "text": [
      "Guess is low\n",
      "\n"
     ]
    },
    {
     "name": "stdout",
     "output_type": "stream",
     "text": [
      "Enter the guess:\n",
      " 65\n"
     ]
    },
    {
     "name": "stdout",
     "output_type": "stream",
     "text": [
      "Guess is high\n",
      "\n"
     ]
    },
    {
     "name": "stdout",
     "output_type": "stream",
     "text": [
      "Enter the guess:\n",
      " 60\n"
     ]
    },
    {
     "name": "stdout",
     "output_type": "stream",
     "text": [
      "Guess is low\n",
      "\n"
     ]
    },
    {
     "name": "stdout",
     "output_type": "stream",
     "text": [
      "Enter the guess:\n",
      " 63\n"
     ]
    },
    {
     "name": "stdout",
     "output_type": "stream",
     "text": [
      "Guess is high\n",
      "\n"
     ]
    },
    {
     "name": "stdout",
     "output_type": "stream",
     "text": [
      "Enter the guess:\n",
      " 62\n"
     ]
    },
    {
     "name": "stdout",
     "output_type": "stream",
     "text": [
      "You guessed the right number\n"
     ]
    }
   ],
   "source": [
    "import random\n",
    "\n",
    "the_number = random.randint(1,100)\n",
    "guess = int(input(\"Enter the guess:\\n\"))\n",
    "while guess != the_number:\n",
    "    if guess < the_number:\n",
    "        print(\"Guess is low\\n\")\n",
    "    else:\n",
    "        print(\"Guess is high\\n\")\n",
    "    guess = int(input(\"Enter the guess:\\n\"))\n",
    "print(\"You guessed the right number\")"
   ]
  }
 ],
 "metadata": {
  "kernelspec": {
   "display_name": "Python 3 (ipykernel)",
   "language": "python",
   "name": "python3"
  },
  "language_info": {
   "codemirror_mode": {
    "name": "ipython",
    "version": 3
   },
   "file_extension": ".py",
   "mimetype": "text/x-python",
   "name": "python",
   "nbconvert_exporter": "python",
   "pygments_lexer": "ipython3",
   "version": "3.11.9"
  }
 },
 "nbformat": 4,
 "nbformat_minor": 5
}
