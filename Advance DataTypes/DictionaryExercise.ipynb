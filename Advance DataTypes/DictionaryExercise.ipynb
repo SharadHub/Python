{
 "cells": [
  {
   "cell_type": "code",
   "execution_count": 17,
   "id": "83bca463",
   "metadata": {},
   "outputs": [],
   "source": [
    "user_profile = {\n",
    "    \"name\": \"Ravi\",\n",
    "    \"age\": 27,\n",
    "    \"location\": {\n",
    "        \"city\": \"Mumbai\",\n",
    "        \"country\": \"India\"\n",
    "    },\n",
    "    \"skills\": [\"Python\", \"Machine Learning\", \"Data Analysis\"],\n",
    "    \"projects\": [\n",
    "        {\"title\": \"Stock Predictor\", \"completed\": True},\n",
    "        {\"title\": \"Chatbot\", \"completed\": False}\n",
    "    ]\n",
    "}"
   ]
  },
  {
   "cell_type": "code",
   "execution_count": 25,
   "id": "d21b4fde",
   "metadata": {},
   "outputs": [
    {
     "name": "stdout",
     "output_type": "stream",
     "text": [
      "Mumbai\n"
     ]
    }
   ],
   "source": [
    "print(user_profile['location']['city'])"
   ]
  },
  {
   "cell_type": "code",
   "execution_count": 26,
   "id": "84bc0b3c",
   "metadata": {},
   "outputs": [
    {
     "name": "stdout",
     "output_type": "stream",
     "text": [
      "Machine Learning\n"
     ]
    }
   ],
   "source": [
    "print(user_profile['skills'][1])"
   ]
  },
  {
   "cell_type": "code",
   "execution_count": 27,
   "id": "e88c2eb6",
   "metadata": {},
   "outputs": [],
   "source": [
    "user_profile[\"projects\"][1][\"completed\"] = True\n"
   ]
  },
  {
   "cell_type": "code",
   "execution_count": 28,
   "id": "11a9c6bd",
   "metadata": {},
   "outputs": [
    {
     "name": "stdout",
     "output_type": "stream",
     "text": [
      "{'name': 'Ravi', 'age': 27, 'location': {'city': 'Mumbai', 'country': 'India'}, 'skills': ['Python', 'Machine Learning', 'Data Analysis'], 'projects': [{'title': 'Stock Predictor', 'completed': True}, {'title': 'Chatbot', 'completed': True}], 'email': 'ravi123@gmail.com'}\n"
     ]
    }
   ],
   "source": [
    "user_profile[\"email\"] =\"ravi123@gmail.com\"\n",
    "print(user_profile)"
   ]
  },
  {
   "cell_type": "code",
   "execution_count": 34,
   "id": "a02bb706",
   "metadata": {},
   "outputs": [
    {
     "name": "stdout",
     "output_type": "stream",
     "text": [
      "Project: Stock Predictor | Completed : True\n",
      "Project: Chatbot | Completed : True\n"
     ]
    }
   ],
   "source": [
    "for project in user_profile[\"projects\"]:\n",
    "    print(f\"Project: {project['title']} | Completed : {project['completed']}\")"
   ]
  }
 ],
 "metadata": {
  "kernelspec": {
   "display_name": "Python 3",
   "language": "python",
   "name": "python3"
  },
  "language_info": {
   "codemirror_mode": {
    "name": "ipython",
    "version": 3
   },
   "file_extension": ".py",
   "mimetype": "text/x-python",
   "name": "python",
   "nbconvert_exporter": "python",
   "pygments_lexer": "ipython3",
   "version": "3.11.9"
  }
 },
 "nbformat": 4,
 "nbformat_minor": 5
}
