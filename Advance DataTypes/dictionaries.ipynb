{
 "cells": [
  {
   "cell_type": "code",
   "execution_count": 2,
   "id": "41cd908d",
   "metadata": {},
   "outputs": [
    {
     "name": "stdout",
     "output_type": "stream",
     "text": [
      "{'name': 'Bishal Bista', 'Address': 'Sarlahi', 'Contact': 9866123946}\n"
     ]
    }
   ],
   "source": [
    "arr1 = {\n",
    "        \"name\" : \"Bishal Bista\",\n",
    "        \"Address\" : \"Sarlahi\",\n",
    "        \"Contact\" : 9866123946\n",
    "    }\n",
    "\n",
    "\n",
    "print(arr1)"
   ]
  },
  {
   "cell_type": "code",
   "execution_count": 12,
   "id": "7ce154f9",
   "metadata": {},
   "outputs": [
    {
     "name": "stdout",
     "output_type": "stream",
     "text": [
      "{'name': 'Bishal Bista', 'age': 22, 'course': 'BCA'}\n"
     ]
    }
   ],
   "source": [
    "# 🔧 Task: Create your own dictionary for a student\n",
    "# Keys: name, age, course\n",
    "student = {\n",
    "    \"name\": \"Bishal Bista\",\n",
    "    \"age\" : 22,\n",
    "    \"course\" : \"BCA\"\n",
    "}\n",
    "\n",
    "print(student)"
   ]
  },
  {
   "cell_type": "code",
   "execution_count": null,
   "id": "715f47d6",
   "metadata": {},
   "outputs": [
    {
     "name": "stdout",
     "output_type": "stream",
     "text": [
      "Bishal Bista\n",
      "22\n",
      "BCA\n"
     ]
    }
   ],
   "source": [
    "#printing outputs individually\n",
    "\n",
    "print(student[\"name\"])\n",
    "print(student[\"age\"])\n",
    "print(student[\"course\"])"
   ]
  },
  {
   "cell_type": "code",
   "execution_count": 24,
   "id": "925ae765",
   "metadata": {},
   "outputs": [],
   "source": [
    "# 🔧 Task:\n",
    "# 1. Change student's course to \"AI\"\n",
    "# 2. Add a new key 'grade' with value 'A'\n",
    "student[\"course\"] = \"AI\"\n",
    "student[\"grade\"] = \"A\"\n"
   ]
  },
  {
   "cell_type": "code",
   "execution_count": 25,
   "id": "e7fed24a",
   "metadata": {},
   "outputs": [
    {
     "name": "stdout",
     "output_type": "stream",
     "text": [
      "{'name': 'Bishal Bista', 'age': 22, 'course': 'AI', 'grade': 'A'}\n"
     ]
    }
   ],
   "source": [
    "print(student)"
   ]
  },
  {
   "cell_type": "code",
   "execution_count": 27,
   "id": "44aaf105",
   "metadata": {},
   "outputs": [],
   "source": [
    "# 🔧 Task:\n",
    "# Delete the 'grade' key from your student dictionary\n",
    "del student[\"grade\"]\n",
    "\n"
   ]
  },
  {
   "cell_type": "code",
   "execution_count": 28,
   "id": "bf99d03b",
   "metadata": {},
   "outputs": [
    {
     "name": "stdout",
     "output_type": "stream",
     "text": [
      "{'name': 'Bishal Bista', 'age': 22, 'course': 'AI'}\n"
     ]
    }
   ],
   "source": [
    "print(student)"
   ]
  },
  {
   "cell_type": "code",
   "execution_count": null,
   "id": "4a9f62fd",
   "metadata": {},
   "outputs": [
    {
     "data": {
      "text/plain": [
       "False"
      ]
     },
     "execution_count": 31,
     "metadata": {},
     "output_type": "execute_result"
    }
   ],
   "source": [
    "#checking if keys are present in the variable\n",
    "\"course\" in student\n",
    "\n",
    "\"grade\" in student"
   ]
  },
  {
   "cell_type": "code",
   "execution_count": 33,
   "id": "a5c44f5e",
   "metadata": {},
   "outputs": [
    {
     "name": "stdout",
     "output_type": "stream",
     "text": [
      "{(1, 2, 3): 'tuple'}\n"
     ]
    }
   ],
   "source": [
    "x = {(1,2,3) : \"tuple\"}\n",
    "print(x)"
   ]
  },
  {
   "cell_type": "markdown",
   "id": "d0f7813b",
   "metadata": {},
   "source": [
    "Write code that:\n",
    "\n",
    "Creates a book dictionary with keys: title, author, year\n",
    "\n",
    "Updates the year\n",
    "\n",
    "Adds a new key rating\n",
    "\n",
    "Deletes the author\n",
    "\n",
    "Checks if title is in the dictionary"
   ]
  },
  {
   "cell_type": "code",
   "execution_count": 34,
   "id": "fd6c1095",
   "metadata": {},
   "outputs": [
    {
     "name": "stdout",
     "output_type": "stream",
     "text": [
      "{'Title': 'Harry Potter', 'Author': 'J.K Rowling', 'Year': 2002}\n"
     ]
    }
   ],
   "source": [
    "book = {\n",
    "    \"Title\" : \"Harry Potter\",\n",
    "    \"Author\" : \"J.K Rowling\",\n",
    "    \"Year\" : 2002\n",
    "}\n",
    "print(book)"
   ]
  },
  {
   "cell_type": "code",
   "execution_count": 41,
   "id": "15f1e5f9",
   "metadata": {},
   "outputs": [
    {
     "name": "stdout",
     "output_type": "stream",
     "text": [
      "True\n"
     ]
    }
   ],
   "source": [
    "# book[\"Year\"] = 2000\n",
    "# book[\"Rating\"] = \"Excellent\"\n",
    "# del book[\"Author\"]\n",
    "# print(book)\n",
    "\n",
    "\n",
    "print(\"Title\" in book)"
   ]
  },
  {
   "cell_type": "markdown",
   "id": "6f55113a",
   "metadata": {},
   "source": [
    "Looping through the Dictionaries"
   ]
  },
  {
   "cell_type": "code",
   "execution_count": null,
   "id": "35d6e645",
   "metadata": {},
   "outputs": [
    {
     "name": "stdout",
     "output_type": "stream",
     "text": [
      "Title\n",
      "Year\n",
      "Rating\n"
     ]
    }
   ],
   "source": [
    "#accessing keys through loop\n",
    "\n",
    "for key in book:\n",
    "    print(key)"
   ]
  },
  {
   "cell_type": "code",
   "execution_count": null,
   "id": "33190946",
   "metadata": {},
   "outputs": [
    {
     "name": "stdout",
     "output_type": "stream",
     "text": [
      "Harry Potter\n",
      "2000\n",
      "Excellent\n"
     ]
    }
   ],
   "source": [
    "#accessing values through loop\n",
    "\n",
    "for value in book.values():\n",
    "    print(value)"
   ]
  },
  {
   "cell_type": "code",
   "execution_count": 48,
   "id": "f352124f",
   "metadata": {},
   "outputs": [
    {
     "name": "stdout",
     "output_type": "stream",
     "text": [
      "Title → Harry Potter\n",
      "Year → 2000\n",
      "Rating → Excellent\n"
     ]
    }
   ],
   "source": [
    "#accessing keys and values through loop\n",
    "\n",
    "for key,values in book.items():\n",
    "    print(f\"{key} → {values}\")"
   ]
  },
  {
   "cell_type": "code",
   "execution_count": 49,
   "id": "8b9bb851",
   "metadata": {},
   "outputs": [
    {
     "name": "stdout",
     "output_type": "stream",
     "text": [
      "The key is Title and The value is Harry Potter\n",
      "The key is Year and The value is 2000\n",
      "The key is Rating and The value is Excellent\n"
     ]
    }
   ],
   "source": [
    "# Print: \"The key is X and the value is Y\" for each key-value pair\n",
    "\n",
    "for key,values in book.items():\n",
    "    print(f\"The key is {key} and The value is {values}\")"
   ]
  },
  {
   "cell_type": "markdown",
   "id": "7436e40e",
   "metadata": {},
   "source": [
    "Built-in functions in dictionary"
   ]
  },
  {
   "cell_type": "code",
   "execution_count": null,
   "id": "290aeb96",
   "metadata": {},
   "outputs": [
    {
     "name": "stdout",
     "output_type": "stream",
     "text": [
      "{}\n"
     ]
    }
   ],
   "source": [
    "book.get(\"Title\",\"Not found\") #return value of the key and if not found return default result\n",
    "book.keys() #return all the keys \n",
    "book.values() #return all the values\n",
    "book.items() # return all the keys and values in pair\n",
    "book.pop(\"Rating\") #removes key and returns its values\n",
    "book.clear() #removes all key and values in the dictionary\n",
    "print(book)\n"
   ]
  },
  {
   "cell_type": "markdown",
   "id": "56fd7c0c",
   "metadata": {},
   "source": [
    "Nested Dictionaries"
   ]
  },
  {
   "cell_type": "code",
   "execution_count": 1,
   "id": "82104012",
   "metadata": {},
   "outputs": [
    {
     "name": "stdout",
     "output_type": "stream",
     "text": [
      "{'Book1': {'Title': 'The Alchemist', 'Author': 'Paulo Cohelo', 'Year': 1985}, 'Book2': {'Title': 'Power Of Your Subconscious Mind', 'Author': 'Dr. Murphy', 'Year': 1945}}\n"
     ]
    }
   ],
   "source": [
    "# Create a 'library' dictionary with two books\n",
    "# Each book should have title, author, and year\n",
    "\n",
    "library = {\n",
    "    \"Book1\" : {\"Title\":\"The Alchemist\", \"Author\":\"Paulo Cohelo\", \"Year\":1985},\n",
    "    \"Book2\" : {\"Title\":\"Power Of Your Subconscious Mind\", \"Author\":\"Dr. Murphy\", \"Year\":1945}\n",
    "}\n",
    "print(library)"
   ]
  },
  {
   "cell_type": "code",
   "execution_count": 3,
   "id": "31db6119",
   "metadata": {},
   "outputs": [
    {
     "name": "stdout",
     "output_type": "stream",
     "text": [
      "Paulo Cohelo\n"
     ]
    }
   ],
   "source": [
    "print(library[\"Book1\"][\"Author\"])"
   ]
  },
  {
   "cell_type": "markdown",
   "id": "9f57a529",
   "metadata": {},
   "source": [
    "Dictionary Comprehension"
   ]
  },
  {
   "cell_type": "code",
   "execution_count": 7,
   "id": "376d8d21",
   "metadata": {},
   "outputs": [
    {
     "name": "stdout",
     "output_type": "stream",
     "text": [
      "{'a': 1, 'b': 2, 'c': 3}\n"
     ]
    }
   ],
   "source": [
    "# A dictionary from a list: [\"a\", \"b\", \"c\"] → {\"a\":1, \"b\":2, \"c\":3}\n",
    "\n",
    "i = [\"a\",\"b\",\"c\"]\n",
    "\n",
    "mylist = {x: index + 1 for index, x in enumerate(i)}\n",
    "\n",
    "print(mylist)"
   ]
  },
  {
   "cell_type": "markdown",
   "id": "645b50a1",
   "metadata": {},
   "source": [
    "Real-World Problem Using Dictionary: Student Grades System"
   ]
  },
  {
   "cell_type": "code",
   "execution_count": null,
   "id": "58141610",
   "metadata": {},
   "outputs": [
    {
     "name": "stdout",
     "output_type": "stream",
     "text": [
      "['Alice', 'Bob', 'Charlie'] scored [85, 92, 78]\n"
     ]
    }
   ],
   "source": [
    "students = [\"Alice\", \"Bob\", \"Charlie\"]\n",
    "grades = [85, 92, 78]\n"
   ]
  },
  {
   "cell_type": "markdown",
   "id": "1fa97f7b",
   "metadata": {},
   "source": [
    "Create a dictionary that maps each student to their grade\n",
    "→Result: {\"Alice\": 85, \"Bob\": 92, \"Charlie\": 78}\n",
    "\n",
    "Print out each student’s name and grade using a loop\n",
    "→Format: Alice scored 85\n",
    "\n",
    "Add a new student \"Diana\" with grade 88 to the dictionary\n",
    "\n",
    "Remove \"Charlie\" from the dictionary\n",
    "\n",
    "Use .get() to safely check if \"Eve\" exists in the dictionary, and return \"Not Found\" if not"
   ]
  },
  {
   "cell_type": "code",
   "execution_count": null,
   "id": "29683eb6",
   "metadata": {},
   "outputs": [],
   "source": [
    "zipped_data = {name: grade for name, grade in zip(students, grades)}\n",
    "print(f\"Results:{zipped_data}\")"
   ]
  },
  {
   "cell_type": "code",
   "execution_count": null,
   "id": "a5710725",
   "metadata": {},
   "outputs": [],
   "source": [
    "for key, value in zipped_data.items():\n",
    "    print(f\"{key} scored {value}\")"
   ]
  },
  {
   "cell_type": "code",
   "execution_count": 42,
   "id": "c1493c06",
   "metadata": {},
   "outputs": [],
   "source": [
    "zipped_data[\"Diana\"] = 98"
   ]
  },
  {
   "cell_type": "code",
   "execution_count": 46,
   "id": "c81f0616",
   "metadata": {},
   "outputs": [
    {
     "name": "stdout",
     "output_type": "stream",
     "text": [
      "{'Alice': 85, 'Bob': 92, 'Diana': 98}\n"
     ]
    }
   ],
   "source": [
    "print(zipped_data)"
   ]
  },
  {
   "cell_type": "code",
   "execution_count": 45,
   "id": "0b43b690",
   "metadata": {},
   "outputs": [
    {
     "data": {
      "text/plain": [
       "78"
      ]
     },
     "execution_count": 45,
     "metadata": {},
     "output_type": "execute_result"
    }
   ],
   "source": [
    "zipped_data.pop(\"Charlie\")"
   ]
  },
  {
   "cell_type": "code",
   "execution_count": 47,
   "id": "121600d3",
   "metadata": {},
   "outputs": [
    {
     "data": {
      "text/plain": [
       "'Not Found'"
      ]
     },
     "execution_count": 47,
     "metadata": {},
     "output_type": "execute_result"
    }
   ],
   "source": [
    "zipped_data.get(\"Eve\", \"Not Found\")"
   ]
  }
 ],
 "metadata": {
  "kernelspec": {
   "display_name": "Python 3",
   "language": "python",
   "name": "python3"
  },
  "language_info": {
   "codemirror_mode": {
    "name": "ipython",
    "version": 3
   },
   "file_extension": ".py",
   "mimetype": "text/x-python",
   "name": "python",
   "nbconvert_exporter": "python",
   "pygments_lexer": "ipython3",
   "version": "3.11.9"
  }
 },
 "nbformat": 4,
 "nbformat_minor": 5
}
