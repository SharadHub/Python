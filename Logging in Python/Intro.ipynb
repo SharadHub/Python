{
 "cells": [
  {
   "cell_type": "code",
   "execution_count": null,
   "id": "32ae8043",
   "metadata": {},
   "outputs": [
    {
     "name": "stderr",
     "output_type": "stream",
     "text": [
      "INFO:root:This is an info message\n",
      "WARNING:root:This is a warning\n",
      "ERROR:root:This is an error\n",
      "CRITICAL:root:Critical issue!\n"
     ]
    }
   ],
   "source": [
    "import logging\n",
    "import os\n",
    "\n",
    "# Set up basic configuration\n",
    "logging.basicConfig(level=logging.INFO)\n",
    "\n",
    "logging.debug(\"This is a debug message\")     # Won’t show because level is INFO\n",
    "logging.info(\"This is an info message\")      # Will show\n",
    "logging.warning(\"This is a warning\")         # Will show\n",
    "logging.error(\"This is an error\")            # Will show\n",
    "logging.critical(\"Critical issue!\")          # Will show"
   ]
  }
 ],
 "metadata": {
  "kernelspec": {
   "display_name": "Python 3",
   "language": "python",
   "name": "python3"
  },
  "language_info": {
   "codemirror_mode": {
    "name": "ipython",
    "version": 3
   },
   "file_extension": ".py",
   "mimetype": "text/x-python",
   "name": "python",
   "nbconvert_exporter": "python",
   "pygments_lexer": "ipython3",
   "version": "3.11.9"
  }
 },
 "nbformat": 4,
 "nbformat_minor": 5
}
