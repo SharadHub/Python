{
 "cells": [
  {
   "cell_type": "markdown",
   "id": "24d473fd-fc60-4567-a5e3-dbd7c20a9106",
   "metadata": {},
   "source": [
    "Print numbers from 1 to 50 using a loop."
   ]
  },
  {
   "cell_type": "code",
   "execution_count": null,
   "id": "45f91f6b-84e8-46b1-a621-cd6125424d2c",
   "metadata": {},
   "outputs": [],
   "source": [
    "#for loops\n",
    "\n",
    "i = 1\n",
    "n = 50\n",
    "\n",
    "for i in range(1,n + 1):\n",
    "    print(i)\n",
    "    i += 1\n",
    "\n",
    "# #while loops\n",
    "\n",
    "while(i < n + 1):\n",
    "    print(i)\n",
    "    i += 1"
   ]
  },
  {
   "cell_type": "markdown",
   "id": "ecf9a086-c86e-45dc-9152-cda18223d6d9",
   "metadata": {},
   "source": [
    "Print the first 10 even numbers."
   ]
  },
  {
   "cell_type": "code",
   "execution_count": 19,
   "id": "e0de242f-ed5f-4468-9736-97f224a63043",
   "metadata": {},
   "outputs": [],
   "source": [
    "# dynamically printing first 10 even numbers\n",
    "\n",
    "length = int(input(\"Enter the length of the list\"))\n",
    "even_num = []\n",
    "num = 0\n",
    "while len(even_num) < length:\n",
    "    if num % 2 ==0:\n",
    "        even_num.append(num)\n",
    "    num += 1\n",
    "print(\"First\",length,\"even number are:\",even_num)\n",
    "\n",
    "# for loop\n",
    "\n",
    "count = 10\n",
    "for i in range(count):\n",
    "    even_num = i * 2\n",
    "    print(even_num)\n",
    "\n",
    "# while loop\n",
    "\n",
    "count = 0 \n",
    "num = 0\n",
    "\n",
    "while count <10:\n",
    "    if num % 2 == 0:\n",
    "        print(num)\n",
    "        count += 1\n",
    "    num += 1"
   ]
  },
  {
   "cell_type": "markdown",
   "id": "630548aa-c4e7-4f39-bca5-2aa949563134",
   "metadata": {},
   "source": [
    "Sum all numbers in a list using a loop."
   ]
  },
  {
   "cell_type": "code",
   "execution_count": 3,
   "id": "63c56dda-8c6b-49a0-8604-88b6a77ab398",
   "metadata": {},
   "outputs": [
    {
     "name": "stdout",
     "output_type": "stream",
     "text": [
      "sum of the  [10, 20, 30, 40, 50] is  150\n"
     ]
    }
   ],
   "source": [
    "# using for loop \n",
    "total = 0\n",
    "num = [10, 20, 30, 40, 50]\n",
    "for num in num:\n",
    "    total += num\n",
    "print(\"sum of numbers in List\", total)\n",
    "\n",
    "# using while loop\n",
    "num = [10, 20, 30, 40, 50]\n",
    "total = 0\n",
    "i = 0\n",
    "while i < len(num):\n",
    "    total += num[i]\n",
    "    i += 1\n",
    "print(\"sum of the \",num, \"is \", total)"
   ]
  },
  {
   "cell_type": "markdown",
   "id": "d72ff507-f29d-4ad1-b84b-750bc9881fca",
   "metadata": {},
   "source": [
    "Loop through a list of student names and print those with more than 5 letters."
   ]
  },
  {
   "cell_type": "code",
   "execution_count": 1,
   "id": "9c41fb88-95da-4639-9c74-1af20241e483",
   "metadata": {},
   "outputs": [
    {
     "name": "stdout",
     "output_type": "stream",
     "text": [
      "bishal\n",
      "samiksha\n",
      "asmita\n"
     ]
    }
   ],
   "source": [
    "#using for loop \n",
    "student = [\"bishal\", \"ankit\", \"sajan\", \"samiksha\", \"asmita\",\"ram\", \"sita\", \"rita\", \"gita\", \"ria\"]\n",
    "i = 0\n",
    "\n",
    "for i in student:\n",
    "    if len(i) > 5:\n",
    "        print(i)\n",
    "\n",
    "#using while loop\n",
    "\n",
    "while i < len(student):\n",
    "    name = student[i]\n",
    "    if len(name) > 5:\n",
    "        print(name)\n",
    "    i += 1"
   ]
  },
  {
   "cell_type": "markdown",
   "id": "81b6a700-c8c4-4fbc-a214-1350d00e9540",
   "metadata": {},
   "source": [
    "Write a program to check if a number is positive, negative, or zero."
   ]
  },
  {
   "cell_type": "code",
   "execution_count": 2,
   "id": "e37f8c4e-fc66-4eb8-b016-3b5324c31f4d",
   "metadata": {},
   "outputs": [
    {
     "name": "stdout",
     "output_type": "stream",
     "text": [
      "Enter the number 33\n"
     ]
    },
    {
     "name": "stdout",
     "output_type": "stream",
     "text": [
      "33.0 is the positive number\n"
     ]
    }
   ],
   "source": [
    "#using if else statement\n",
    "\n",
    "num = float(input(\"Enter the number\"))\n",
    "\n",
    "if num < 0:\n",
    "    print(num,\"is the negative number\")\n",
    "elif num > 0:\n",
    "    print(num,\"is the positive number\")\n",
    "else:\n",
    "    print(num,\"is the zero\")"
   ]
  },
  {
   "cell_type": "markdown",
   "id": "0d24e8ae-b9e9-4efa-baa4-07f43d2be993",
   "metadata": {},
   "source": [
    "A student gets grades: A (90+), B (75-89), C (60-74), Fail (<60). Take marks and print grade."
   ]
  },
  {
   "cell_type": "code",
   "execution_count": 16,
   "id": "f5648df3-3349-44a8-ae08-280901741520",
   "metadata": {},
   "outputs": [
    {
     "name": "stdout",
     "output_type": "stream",
     "text": [
      "Enter the marks 101\n"
     ]
    },
    {
     "name": "stdout",
     "output_type": "stream",
     "text": [
      "Invalid Input\n"
     ]
    },
    {
     "name": "stdout",
     "output_type": "stream",
     "text": [
      "Do you want to enter more marks? (yes/no):  yes\n",
      "Enter the marks 100\n"
     ]
    },
    {
     "name": "stdout",
     "output_type": "stream",
     "text": [
      "A\n"
     ]
    },
    {
     "name": "stdout",
     "output_type": "stream",
     "text": [
      "Do you want to enter more marks? (yes/no):  yes\n",
      "Enter the marks 89\n"
     ]
    },
    {
     "name": "stdout",
     "output_type": "stream",
     "text": [
      "B\n"
     ]
    },
    {
     "name": "stdout",
     "output_type": "stream",
     "text": [
      "Do you want to enter more marks? (yes/no):  22\n"
     ]
    },
    {
     "name": "stdout",
     "output_type": "stream",
     "text": [
      "Thank you! Program ended.\n"
     ]
    }
   ],
   "source": [
    "#using if else statement\n",
    "def marks():\n",
    "    while True:\n",
    "        marks = float(input(\"Enter the marks\"))\n",
    "        if 100 >= marks >= 90:\n",
    "            print(\"A\")\n",
    "        elif 90 > marks >= 75:\n",
    "            print(\"B\")\n",
    "        elif 60 <= marks <= 74:\n",
    "            print(\"C\")\n",
    "        elif marks < 60:\n",
    "            print(\"Fail!!!\")\n",
    "        else:\n",
    "            print(\"Invalid Input\")\n",
    "        repeat = input(\"Do you want to enter more marks? (yes/no): \").strip().lower()\n",
    "        if repeat != \"yes\":\n",
    "            print(\"Thank you! Program ended.\")\n",
    "            break\n",
    "\n",
    "marks()"
   ]
  },
  {
   "cell_type": "markdown",
   "id": "8d3e7380-5850-4a0a-a27d-d25a2fb7b09b",
   "metadata": {},
   "source": [
    "Check if a given year is a leap year."
   ]
  },
  {
   "cell_type": "code",
   "execution_count": 30,
   "id": "3de24172-00ee-4927-bae8-3d70da0fdb30",
   "metadata": {},
   "outputs": [
    {
     "name": "stdout",
     "output_type": "stream",
     "text": [
      "Enter the year 2020\n"
     ]
    },
    {
     "name": "stdout",
     "output_type": "stream",
     "text": [
      "2020 is a leap year\n"
     ]
    },
    {
     "name": "stdout",
     "output_type": "stream",
     "text": [
      "Do you want to enter more marks? (yes/no):  yes\n",
      "Enter the year 2001\n"
     ]
    },
    {
     "name": "stdout",
     "output_type": "stream",
     "text": [
      "2001 is not a leap year\n"
     ]
    },
    {
     "name": "stdout",
     "output_type": "stream",
     "text": [
      "Do you want to enter more marks? (yes/no):  no\n"
     ]
    },
    {
     "name": "stdout",
     "output_type": "stream",
     "text": [
      "Thank you! Program ended.\n"
     ]
    }
   ],
   "source": [
    "#using if else statement\n",
    "def leap_year():\n",
    "    while True:\n",
    "        year = int(input(\"Enter the year\"))\n",
    "        if (year % 4 == 0 and year % 100 != 0) or (year % 400 == 0):\n",
    "            print(f\"{year} is a leap year\")\n",
    "        else:\n",
    "            print(f\"{year} is not a leap year\")\n",
    "\n",
    "        repeat = input(\"Do you want to enter more marks? (yes/no): \").strip().lower()\n",
    "        if repeat != \"yes\":\n",
    "            print(\"Thank you! Program ended.\")\n",
    "            break\n",
    "leap_year()"
   ]
  },
  {
   "cell_type": "markdown",
   "id": "7fa0b524-8373-409d-a665-626e0f30bb43",
   "metadata": {},
   "source": [
    "Print numbers 1 to 10, skip 5."
   ]
  },
  {
   "cell_type": "code",
   "execution_count": 1,
   "id": "cef2fc5b-62b4-4c96-9e4b-2a8833b06115",
   "metadata": {},
   "outputs": [
    {
     "name": "stdout",
     "output_type": "stream",
     "text": [
      "Your list [1, 2, 3, 4, 5, 6, 7, 8, 9, 10]\n",
      "1\n",
      "2\n",
      "3\n",
      "4\n",
      "6\n",
      "7\n",
      "8\n",
      "9\n",
      "10\n"
     ]
    }
   ],
   "source": [
    "num = []\n",
    "while True:\n",
    "    number = input(\"Enter numbers from 1 t0 10 (or type 'done' to finish):\")\n",
    "    if number.lower() == 'done':\n",
    "        break\n",
    "    if number.isdigit():\n",
    "        num.append(int(number))\n",
    "    else:\n",
    "        print(\"invalid\")\n",
    "        \n",
    "print(f\"Your list {num}\")\n",
    "\n",
    "for i in num:\n",
    "    if i == 5:\n",
    "        continue\n",
    "    print(i)"
   ]
  },
  {
   "cell_type": "markdown",
   "id": "128d24b3-37fb-4e05-866b-32f54b86a65a",
   "metadata": {},
   "source": [
    "Print list of fruits, stop if “mango” is found."
   ]
  },
  {
   "cell_type": "code",
   "execution_count": null,
   "id": "10589543-8f01-4e8f-ac72-8aa642350041",
   "metadata": {},
   "outputs": [],
   "source": [
    "fruits = []\n",
    "while True:\n",
    "    fruit = input(\"Enter fruits name (or type 'done' to finish):\")\n",
    "    if fruit.lower() == 'done':\n",
    "        break\n",
    "    fruits.append(fruit)\n",
    "print(f\"Your list {fruits}\")\n",
    "\n",
    "for i in fruits:\n",
    "    if i == \"mango\":\n",
    "        break\n",
    "    print(i)"
   ]
  },
  {
   "cell_type": "markdown",
   "id": "cb4186eb-c4ab-40ad-ae0d-9a1ab1905199",
   "metadata": {},
   "source": [
    "Write a loop where nothing happens if value is even, using pass."
   ]
  },
  {
   "cell_type": "code",
   "execution_count": 1,
   "id": "4379aefa-16af-456b-8878-c829aebb6756",
   "metadata": {},
   "outputs": [
    {
     "name": "stdout",
     "output_type": "stream",
     "text": [
      "enter numbers (or type 'done' to finish): done\n"
     ]
    },
    {
     "name": "stdout",
     "output_type": "stream",
     "text": [
      "Your list is: []\n"
     ]
    }
   ],
   "source": [
    "number = []\n",
    "while True:\n",
    "    num = input(\"enter numbers (or type 'done' to finish):\")\n",
    "    if num.lower() == 'done':\n",
    "        break\n",
    "    if num.isdigit():\n",
    "        number.append(int(num))\n",
    "print(f\"Your list is: {number}\")\n",
    "\n",
    "for i in number:\n",
    "    if i % 2 == 0:\n",
    "        pass\n",
    "    else:\n",
    "        print(f\"{i} is odd\")"
   ]
  },
  {
   "cell_type": "code",
   "execution_count": null,
   "id": "fa7ca5e4-d0df-4f3c-9b0c-ec9b81672833",
   "metadata": {},
   "outputs": [],
   "source": [
    "# funcion\n",
    "\n",
    "# Write a function to add two numbers.\n",
    "\n",
    "# Create a function to find factorial of a number.\n",
    "\n",
    "# Write a function that checks if a number is prime."
   ]
  },
  {
   "cell_type": "code",
   "execution_count": null,
   "id": "e5f82bc3-ec17-483d-a714-079756161857",
   "metadata": {},
   "outputs": [],
   "source": [
    "# string\n",
    "\n",
    "# Count vowels in a string.\n",
    "word = str(input(\"enter a word:\"))\n",
    "\n",
    "vowel = \"aeiou\"\n",
    "count= 0\n",
    "for i in word:\n",
    "    if i in vowel:\n",
    "        print(f\"{i}\")\n",
    "        \n",
    "        count += 1\n",
    "print(count)\n",
    "\n",
    "# Reverse a string.\n",
    "re = \"abcdejklfg\"[::-1]\n",
    "print(re)\n",
    "\n",
    "# Check if a word is a palindrome.\n",
    "word = input(\"enter the word:\")\n",
    "revstr = \"\"\n",
    "# revstr = \"\".join(reversed(word))\n",
    "for i in word:\n",
    "    revstr = i + revstr\n",
    "print(revstr)\n",
    "\n",
    "if word == revstr:\n",
    "    print(\" the word is palindrome\")\n",
    "else:\n",
    "    print(\"the word is not palindrome\")\n",
    "\n",
    "# Extract domain name from email (e.g., name@gmail.com → gmail.com)\n",
    "\n",
    "email = input(\"enter your email address\")\n",
    "domain = email.split('@')[1]\n",
    "print(domain)"
   ]
  },
  {
   "cell_type": "code",
   "execution_count": null,
   "id": "9afc6e26-3c16-406a-839c-fc5c5bcece23",
   "metadata": {},
   "outputs": [
    {
     "name": "stdout",
     "output_type": "stream",
     "text": [
      "enter the list items ( or type 'done' to finish): 100\n",
      "enter the list items ( or type 'done' to finish): 23\n",
      "enter the list items ( or type 'done' to finish): 34\n",
      "enter the list items ( or type 'done' to finish): 11\n",
      "enter the list items ( or type 'done' to finish): 1\n",
      "enter the list items ( or type 'done' to finish): 45\n",
      "enter the list items ( or type 'done' to finish): 27\n",
      "enter the list items ( or type 'done' to finish): 59\n",
      "enter the list items ( or type 'done' to finish): 18\n",
      "enter the list items ( or type 'done' to finish): done\n"
     ]
    },
    {
     "name": "stdout",
     "output_type": "stream",
     "text": [
      "my list items are:[100, 23, 34, 11, 1, 45, 27, 59, 18]\n",
      "[1, 11, 18, 23, 27, 34, 45, 59, 100]\n"
     ]
    }
   ],
   "source": [
    "# list\n",
    "\n",
    "# Add, remove items in a list.\n",
    "\n",
    "myList = []\n",
    "while True:\n",
    "    myli = input(\"enter list items (or type 'done' to finish):\")\n",
    "    if myli.lower() == 'done':\n",
    "        break\n",
    "    myList.append(myli)\n",
    "    \n",
    "print(f\"My list is: {myList}\")\n",
    "\n",
    "myList.pop(1)\n",
    "print(myList)\n",
    "\n",
    "myList.remove(\"apple\")\n",
    "print(myList)\n",
    "\n",
    "del myList[0]\n",
    "print(myList)\n",
    "\n",
    "myList.clear()\n",
    "print(myList)\n",
    "    \n",
    "# Sort a list of numbers.\n",
    "mySort = []\n",
    "while True:\n",
    "    so = input(\"enter the list items ( or type 'done' to finish):\")\n",
    "    if so.lower() == 'done':\n",
    "        break\n",
    "        \n",
    "    mySort.append(int(so))\n",
    "print(f\"my list items are:{mySort}\")\n",
    "mySort.sort()\n",
    "print(mySort)\n",
    "\n",
    "# Merge two lists and remove duplicates.\n",
    "\n",
    "\n",
    "# Find max and min from a list.\n"
   ]
  },
  {
   "cell_type": "code",
   "execution_count": null,
   "id": "17ea59ee-c0f8-4c28-8559-de1a3b0ee4bc",
   "metadata": {},
   "outputs": [],
   "source": [
    "# tuple\n",
    "\n",
    "# Create a tuple with numbers.\n",
    "\n",
    "# Convert tuple to list and vice versa.\n",
    "\n",
    "# Find index of a value in tuple."
   ]
  },
  {
   "cell_type": "code",
   "execution_count": null,
   "id": "c2e49a76-3b65-422e-b8cc-b609255feff3",
   "metadata": {},
   "outputs": [],
   "source": [
    "# set\n",
    "\n",
    "# Remove duplicates from a list using a set.\n",
    "\n",
    "# Find common elements between two sets.\n",
    "\n",
    "# Use set to find unique words in a sentence."
   ]
  },
  {
   "cell_type": "code",
   "execution_count": null,
   "id": "ec918904-78b5-417c-b883-6cea96ab5b93",
   "metadata": {},
   "outputs": [],
   "source": [
    "# dictionary\n",
    "\n",
    "# Create a dictionary of student names and marks.\n",
    "\n",
    "# Find the student with the highest marks.\n",
    "\n",
    "# Count the frequency of each letter in a string."
   ]
  }
 ],
 "metadata": {
  "kernelspec": {
   "display_name": "Python 3",
   "language": "python",
   "name": "python3"
  },
  "language_info": {
   "codemirror_mode": {
    "name": "ipython",
    "version": 3
   },
   "file_extension": ".py",
   "mimetype": "text/x-python",
   "name": "python",
   "nbconvert_exporter": "python",
   "pygments_lexer": "ipython3",
   "version": "3.11.9"
  }
 },
 "nbformat": 4,
 "nbformat_minor": 5
}
