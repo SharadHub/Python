{
 "cells": [
  {
   "cell_type": "markdown",
   "id": "5f96c016",
   "metadata": {},
   "source": [
    "String is the data type which takes the alphabets as a input "
   ]
  },
  {
   "cell_type": "markdown",
   "id": "ce6f96bd",
   "metadata": {},
   "source": [
    "string concatenation and aruthmetic string operation"
   ]
  },
  {
   "cell_type": "code",
   "execution_count": null,
   "id": "7cce1ec7",
   "metadata": {},
   "outputs": [
    {
     "name": "stdout",
     "output_type": "stream",
     "text": [
      "hello world!!!\n",
      "hihihihihi\n"
     ]
    }
   ],
   "source": [
    "print(\"hello\" + \" \" + \"world!!!\")  #it is the concatenation to join two or more strings\n",
    "print(\"hi\" * 5) # we can multiply strings with numbers"
   ]
  },
  {
   "cell_type": "markdown",
   "id": "e2064167",
   "metadata": {},
   "source": [
    "logical operation"
   ]
  },
  {
   "cell_type": "code",
   "execution_count": null,
   "id": "70486a3e",
   "metadata": {},
   "outputs": [
    {
     "data": {
      "text/plain": [
       "'hello'"
      ]
     },
     "execution_count": 5,
     "metadata": {},
     "output_type": "execute_result"
    }
   ],
   "source": [
    "\"hello\" or \"world\""
   ]
  },
  {
   "cell_type": "code",
   "execution_count": 6,
   "id": "7e3bebf5",
   "metadata": {},
   "outputs": [
    {
     "data": {
      "text/plain": [
       "'world'"
      ]
     },
     "execution_count": 6,
     "metadata": {},
     "output_type": "execute_result"
    }
   ],
   "source": [
    "\"hello\" and \"world\"\n"
   ]
  },
  {
   "cell_type": "markdown",
   "id": "63861bea",
   "metadata": {},
   "source": [
    "for loop in the string"
   ]
  },
  {
   "cell_type": "code",
   "execution_count": 38,
   "id": "a2fe23e9",
   "metadata": {},
   "outputs": [
    {
     "name": "stdout",
     "output_type": "stream",
     "text": [
      "hi\n",
      "\t\t\n",
      "hi\n",
      "\t\t\n",
      "hi\n",
      "\t\t\n",
      "hi\n",
      "\t\t\n",
      "hi\n",
      "\t\t\n"
     ]
    }
   ],
   "source": [
    "i = 0\n",
    "for i in \"water\":\n",
    "    print(\"hi\\n\\t\\t\")\n"
   ]
  },
  {
   "cell_type": "markdown",
   "id": "ca0a4f60",
   "metadata": {},
   "source": [
    "membership operation"
   ]
  },
  {
   "cell_type": "code",
   "execution_count": null,
   "id": "f68fe66c",
   "metadata": {},
   "outputs": [
    {
     "data": {
      "text/plain": [
       "True"
      ]
     },
     "execution_count": 12,
     "metadata": {},
     "output_type": "execute_result"
    }
   ],
   "source": [
    "\"B\" in \"Bishal\" #check if character exists in the string or not"
   ]
  },
  {
   "cell_type": "markdown",
   "id": "b3870e0e",
   "metadata": {},
   "source": [
    "STRING METHODS\n",
    "len\n",
    "max\n",
    "min\n",
    "sorted"
   ]
  },
  {
   "cell_type": "code",
   "execution_count": null,
   "id": "50f495e5",
   "metadata": {},
   "outputs": [
    {
     "data": {
      "text/plain": [
       "15"
      ]
     },
     "execution_count": 19,
     "metadata": {},
     "output_type": "execute_result"
    }
   ],
   "source": [
    "s = \"welcome to home\"\n",
    "len(s) #find length of the string"
   ]
  },
  {
   "cell_type": "code",
   "execution_count": null,
   "id": "a4809003",
   "metadata": {},
   "outputs": [
    {
     "data": {
      "text/plain": [
       "'w'"
      ]
     },
     "execution_count": 20,
     "metadata": {},
     "output_type": "execute_result"
    }
   ],
   "source": [
    "s = \"welcome to home\"\n",
    "max(s) #find the largest character by ascii value"
   ]
  },
  {
   "cell_type": "code",
   "execution_count": null,
   "id": "90f7aa29",
   "metadata": {},
   "outputs": [
    {
     "data": {
      "text/plain": [
       "'c'"
      ]
     },
     "execution_count": 22,
     "metadata": {},
     "output_type": "execute_result"
    }
   ],
   "source": [
    "s = \"welcometohome\"\n",
    "min(s) #find the smallest character by ascii value"
   ]
  },
  {
   "cell_type": "code",
   "execution_count": null,
   "id": "c0af161f",
   "metadata": {},
   "outputs": [
    {
     "data": {
      "text/plain": [
       "['w', 't', 'o', 'o', 'o', 'm', 'm', 'l', 'h', 'e', 'e', 'e', 'c']"
      ]
     },
     "execution_count": 24,
     "metadata": {},
     "output_type": "execute_result"
    }
   ],
   "source": [
    "s = \"welcometohome\"\n",
    "sorted(s, reverse = True)  #sorted in descending order"
   ]
  },
  {
   "cell_type": "markdown",
   "id": "fbc085e5",
   "metadata": {},
   "source": [
    "string functions:\n",
    "\n",
    "capitalize\n",
    "title\n",
    "upper\n",
    "lower\n",
    "swapcase"
   ]
  },
  {
   "cell_type": "code",
   "execution_count": null,
   "id": "30c42220",
   "metadata": {},
   "outputs": [
    {
     "data": {
      "text/plain": [
       "'Welcome to home'"
      ]
     },
     "execution_count": 25,
     "metadata": {},
     "output_type": "execute_result"
    }
   ],
   "source": [
    "s = \"welcome to home\"\n",
    "s.capitalize() #make the first letter capital"
   ]
  },
  {
   "cell_type": "code",
   "execution_count": null,
   "id": "bf3349c0",
   "metadata": {},
   "outputs": [
    {
     "data": {
      "text/plain": [
       "'Welcome To Home'"
      ]
     },
     "execution_count": 26,
     "metadata": {},
     "output_type": "execute_result"
    }
   ],
   "source": [
    "s = \"welcome to home\"\n",
    "s.title() #make every first letter of every word capital"
   ]
  },
  {
   "cell_type": "code",
   "execution_count": null,
   "id": "04bb4c85",
   "metadata": {},
   "outputs": [
    {
     "data": {
      "text/plain": [
       "'WELCOME TO HOME'"
      ]
     },
     "execution_count": 27,
     "metadata": {},
     "output_type": "execute_result"
    }
   ],
   "source": [
    "s = \"welcome to home\"\n",
    "s.upper() #turn to uppercase"
   ]
  },
  {
   "cell_type": "code",
   "execution_count": null,
   "id": "589707a4",
   "metadata": {},
   "outputs": [
    {
     "data": {
      "text/plain": [
       "'welcome to home'"
      ]
     },
     "execution_count": 29,
     "metadata": {},
     "output_type": "execute_result"
    }
   ],
   "source": [
    "s = \"WELCOME TO HOME\"\n",
    "s.lower() #turn to lowercase"
   ]
  },
  {
   "cell_type": "code",
   "execution_count": null,
   "id": "8beaa52a",
   "metadata": {},
   "outputs": [
    {
     "data": {
      "text/plain": [
       "'WELCOME TO HOME'"
      ]
     },
     "execution_count": 30,
     "metadata": {},
     "output_type": "execute_result"
    }
   ],
   "source": [
    "s = \"welcome to home\"\n",
    "s.swapcase() #turn uppercase to lowercase and vice versa"
   ]
  },
  {
   "cell_type": "markdown",
   "id": "94a5eaf0",
   "metadata": {},
   "source": [
    "STRING FUNCTIONS:\n",
    "\n",
    "count\n",
    "find\n",
    "index\n",
    "endswith\n",
    "startwith"
   ]
  },
  {
   "cell_type": "code",
   "execution_count": null,
   "id": "241ff048",
   "metadata": {},
   "outputs": [
    {
     "data": {
      "text/plain": [
       "2"
      ]
     },
     "execution_count": 32,
     "metadata": {},
     "output_type": "execute_result"
    }
   ],
   "source": [
    "n = \"My name is Bishal\"\n",
    "n.count(\"s\") # count thhe repeatation of certain character in the strings"
   ]
  },
  {
   "cell_type": "code",
   "execution_count": null,
   "id": "54b0315e",
   "metadata": {},
   "outputs": [
    {
     "data": {
      "text/plain": [
       "11"
      ]
     },
     "execution_count": 33,
     "metadata": {},
     "output_type": "execute_result"
    }
   ],
   "source": [
    "n = \"My name is Bishal\"\n",
    "n.find(\"B\") #find the index of the certain character"
   ]
  },
  {
   "cell_type": "code",
   "execution_count": null,
   "id": "79a35cd2",
   "metadata": {},
   "outputs": [
    {
     "data": {
      "text/plain": [
       "1"
      ]
     },
     "execution_count": 34,
     "metadata": {},
     "output_type": "execute_result"
    }
   ],
   "source": [
    "n = \"My name is Bishal\"\n",
    "n.index(\"y\") #tell the index of the certain character"
   ]
  },
  {
   "cell_type": "code",
   "execution_count": 40,
   "id": "e8fd6ac1",
   "metadata": {},
   "outputs": [
    {
     "data": {
      "text/plain": [
       "True"
      ]
     },
     "execution_count": 40,
     "metadata": {},
     "output_type": "execute_result"
    }
   ],
   "source": [
    "n = \"My name is Bishal\"\n",
    "n.endswith(\"al\")"
   ]
  },
  {
   "cell_type": "code",
   "execution_count": 41,
   "id": "60150868",
   "metadata": {},
   "outputs": [
    {
     "data": {
      "text/plain": [
       "True"
      ]
     },
     "execution_count": 41,
     "metadata": {},
     "output_type": "execute_result"
    }
   ],
   "source": [
    "n = \"My name is Bishal\"\n",
    "n.startswith(\"My\")"
   ]
  },
  {
   "cell_type": "markdown",
   "id": "71ee358e",
   "metadata": {},
   "source": [
    "Format function"
   ]
  },
  {
   "cell_type": "code",
   "execution_count": null,
   "id": "28da0932",
   "metadata": {},
   "outputs": [
    {
     "data": {
      "text/plain": [
       "'my name is Bishal, and i am a male'"
      ]
     },
     "execution_count": 45,
     "metadata": {},
     "output_type": "execute_result"
    }
   ],
   "source": [
    "name = \"Bishal\"\n",
    "gender = \"male\"\n",
    "\n",
    "s = (\"my name is {1}, and i am a {0}\")\n",
    "s.format(gender,name) #gender index is 0 and name index is 1 \n",
    "\n",
    "\n",
    "# m = \"Welcome {} to the Facebook\"\n",
    "# m.format(name)"
   ]
  },
  {
   "cell_type": "markdown",
   "id": "38791be0",
   "metadata": {},
   "source": [
    "ADVANCE PYTHON STRING FUNCTIONS:\n",
    "\n",
    "isalnum\n",
    "isalpha\n",
    "isdigit\n",
    "isidentifier"
   ]
  },
  {
   "cell_type": "code",
   "execution_count": null,
   "id": "2aa75020",
   "metadata": {},
   "outputs": [
    {
     "data": {
      "text/plain": [
       "True"
      ]
     },
     "execution_count": 46,
     "metadata": {},
     "output_type": "execute_result"
    }
   ],
   "source": [
    "i = \"bishal123\"\n",
    "i.isalnum() #check if data is alphanumeric"
   ]
  },
  {
   "cell_type": "code",
   "execution_count": null,
   "id": "8c273b81",
   "metadata": {},
   "outputs": [
    {
     "data": {
      "text/plain": [
       "False"
      ]
     },
     "execution_count": 47,
     "metadata": {},
     "output_type": "execute_result"
    }
   ],
   "source": [
    "i = \"bishal123\"\n",
    "i.isalpha()#check if data is alphabetic"
   ]
  },
  {
   "cell_type": "code",
   "execution_count": null,
   "id": "3b1658e0",
   "metadata": {},
   "outputs": [
    {
     "data": {
      "text/plain": [
       "False"
      ]
     },
     "execution_count": 48,
     "metadata": {},
     "output_type": "execute_result"
    }
   ],
   "source": [
    "i = \"bishal123\"\n",
    "i.isdigit()#check if data is number"
   ]
  },
  {
   "cell_type": "code",
   "execution_count": null,
   "id": "efeecffb",
   "metadata": {},
   "outputs": [
    {
     "data": {
      "text/plain": [
       "True"
      ]
     },
     "execution_count": 49,
     "metadata": {},
     "output_type": "execute_result"
    }
   ],
   "source": [
    "i = \"bishal123\"\n",
    "i.isidentifier()#check if data is identifier"
   ]
  },
  {
   "cell_type": "markdown",
   "id": "eaa836a1",
   "metadata": {},
   "source": [
    "split \n",
    "join"
   ]
  },
  {
   "cell_type": "code",
   "execution_count": null,
   "id": "cdf57ff7",
   "metadata": {},
   "outputs": [
    {
     "data": {
      "text/plain": [
       "['my', 'name', 'is', 'Bishal']"
      ]
     },
     "execution_count": 56,
     "metadata": {},
     "output_type": "execute_result"
    }
   ],
   "source": [
    "d = \"my name is Bishal\"\n",
    "d.split() #it divide every words in the sentence"
   ]
  },
  {
   "cell_type": "code",
   "execution_count": 61,
   "id": "68c167fd",
   "metadata": {},
   "outputs": [
    {
     "data": {
      "text/plain": [
       "'my name is Bishal'"
      ]
     },
     "execution_count": 61,
     "metadata": {},
     "output_type": "execute_result"
    }
   ],
   "source": [
    "d = ['my','name','is','Bishal']\n",
    "i = \" \"\n",
    "i.join(d) #its joint the divided strings into sentence"
   ]
  },
  {
   "cell_type": "markdown",
   "id": "1071511b",
   "metadata": {},
   "source": [
    "functions of the strings:\n",
    "\n",
    "replace\n",
    "strip"
   ]
  },
  {
   "cell_type": "code",
   "execution_count": null,
   "id": "bd149dbe",
   "metadata": {},
   "outputs": [
    {
     "data": {
      "text/plain": [
       "'My name is Sharad'"
      ]
     },
     "execution_count": 62,
     "metadata": {},
     "output_type": "execute_result"
    }
   ],
   "source": [
    "z = \"My name is Bishal\"\n",
    "z.replace(\"Bishal\", \"Sharad\") #replace any word with another word"
   ]
  },
  {
   "cell_type": "code",
   "execution_count": 14,
   "id": "0cfaff39",
   "metadata": {},
   "outputs": [
    {
     "name": "stdout",
     "output_type": "stream",
     "text": [
      "Data Science\n"
     ]
    }
   ],
   "source": [
    "# z = \"My name is Bishal            \"\n",
    "# len(z)\n",
    "# z.strip()  #remove the unwanted spaces \n",
    "\n",
    "s = \"Data Science\"\n",
    "print(s.strip())"
   ]
  },
  {
   "cell_type": "markdown",
   "id": "77a01454",
   "metadata": {},
   "source": [
    "f-string in the Python"
   ]
  },
  {
   "cell_type": "code",
   "execution_count": 67,
   "id": "90fef2bc",
   "metadata": {},
   "outputs": [
    {
     "name": "stdout",
     "output_type": "stream",
     "text": [
      "My name is Bishal, and I am a Male\n"
     ]
    }
   ],
   "source": [
    "name = \"Bishal\"\n",
    "gender = \"Male\"\n",
    "\n",
    "print(f\"My name is {name}, and I am a {gender}\")"
   ]
  },
  {
   "cell_type": "markdown",
   "id": "381e2f04",
   "metadata": {},
   "source": [
    "Exercise of the String"
   ]
  },
  {
   "cell_type": "markdown",
   "id": "0c54bcf6",
   "metadata": {},
   "source": [
    "find the length of the string without using len()"
   ]
  },
  {
   "cell_type": "code",
   "execution_count": 6,
   "id": "69810730",
   "metadata": {},
   "outputs": [
    {
     "name": "stdout",
     "output_type": "stream",
     "text": [
      "1\n",
      "2\n",
      "3\n",
      "4\n",
      "5\n",
      "6\n",
      "7\n",
      "8\n",
      "9\n",
      "10\n",
      "11\n",
      "12\n"
     ]
    }
   ],
   "source": [
    "name = \"Bishal Bista\"\n",
    "count = 0\n",
    "for i in name:\n",
    "    count += 1\n",
    "    print(count)\n"
   ]
  },
  {
   "cell_type": "markdown",
   "id": "6dfeaf22",
   "metadata": {},
   "source": [
    "extract username from the email "
   ]
  },
  {
   "cell_type": "code",
   "execution_count": 9,
   "id": "0f714d5a",
   "metadata": {},
   "outputs": [
    {
     "name": "stdout",
     "output_type": "stream",
     "text": [
      "bishalbista\n"
     ]
    }
   ],
   "source": [
    "email = \"bishalbista@gmail.com\"\n",
    "\n",
    "e = email.split(\"@\")\n",
    "\n",
    "print(e[0])"
   ]
  },
  {
   "cell_type": "markdown",
   "id": "57724bf2",
   "metadata": {},
   "source": [
    "to check if the number is palindrome or not "
   ]
  },
  {
   "cell_type": "code",
   "execution_count": 13,
   "id": "c20e6c91",
   "metadata": {},
   "outputs": [
    {
     "name": "stdout",
     "output_type": "stream",
     "text": [
      "This string is palindrome\n"
     ]
    }
   ],
   "source": [
    "name = input(\"Enter the string\")\n",
    "name1 = (name[::-1])\n",
    "\n",
    "if name == name1:\n",
    "    print(\"This string is palindrome\")\n",
    "else:\n",
    "    print(\"This string is not palindrome\")\n"
   ]
  },
  {
   "cell_type": "markdown",
   "id": "cd552d0f",
   "metadata": {},
   "source": []
  }
 ],
 "metadata": {
  "kernelspec": {
   "display_name": "Python 3",
   "language": "python",
   "name": "python3"
  },
  "language_info": {
   "codemirror_mode": {
    "name": "ipython",
    "version": 3
   },
   "file_extension": ".py",
   "mimetype": "text/x-python",
   "name": "python",
   "nbconvert_exporter": "python",
   "pygments_lexer": "ipython3",
   "version": "3.11.9"
  }
 },
 "nbformat": 4,
 "nbformat_minor": 5
}
