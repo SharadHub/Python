{
 "cells": [
  {
   "cell_type": "markdown",
   "id": "140ef2bd",
   "metadata": {},
   "source": [
    "creating function"
   ]
  },
  {
   "cell_type": "code",
   "execution_count": 1,
   "id": "167e0714",
   "metadata": {},
   "outputs": [
    {
     "name": "stdout",
     "output_type": "stream",
     "text": [
      "hello bishal, welcome to the python\n"
     ]
    }
   ],
   "source": [
    "print(\"hello bishal, welcome to the python\")"
   ]
  },
  {
   "cell_type": "code",
   "execution_count": 2,
   "id": "7cf1108b",
   "metadata": {},
   "outputs": [
    {
     "name": "stdout",
     "output_type": "stream",
     "text": [
      "hello asmita, welcome to the python\n"
     ]
    }
   ],
   "source": [
    "print(\"hello asmita, welcome to the python\")"
   ]
  },
  {
   "cell_type": "code",
   "execution_count": 10,
   "id": "3e265b3d",
   "metadata": {},
   "outputs": [
    {
     "name": "stdout",
     "output_type": "stream",
     "text": [
      "hello asmita, Welcome to our home\n"
     ]
    }
   ],
   "source": [
    "def greet(name):\n",
    "    h = f\"hello {name}, Welcome to our home\"\n",
    "    return h\n",
    "\n",
    "res = greet(\"asmita\")\n",
    "print(res)\n"
   ]
  },
  {
   "cell_type": "markdown",
   "id": "372d738c",
   "metadata": {},
   "source": [
    "function without parameter"
   ]
  },
  {
   "cell_type": "code",
   "execution_count": 1,
   "id": "092c57d3",
   "metadata": {},
   "outputs": [
    {
     "name": "stdout",
     "output_type": "stream",
     "text": [
      "Hello Bishal, Welcome to my Blog\n"
     ]
    }
   ],
   "source": [
    "def greet():\n",
    "    output = f\"Hello Bishal, Welcome to my Blog\"\n",
    "    return output\n",
    "\n",
    "res = greet()\n",
    "print(res)"
   ]
  },
  {
   "cell_type": "markdown",
   "id": "d0134375",
   "metadata": {},
   "source": [
    "Accessing names from the list using function"
   ]
  },
  {
   "cell_type": "code",
   "execution_count": 8,
   "id": "4d122bd7",
   "metadata": {},
   "outputs": [
    {
     "name": "stdout",
     "output_type": "stream",
     "text": [
      "\n",
      "It is my list of names:['ram', 'shyam', 'sita', 'gita', 'rita', 'mia']\n",
      "\n",
      "Hello ram, Welcome to my Blog\n",
      "Hello shyam, Welcome to my Blog\n",
      "Hello sita, Welcome to my Blog\n",
      "Hello gita, Welcome to my Blog\n",
      "Hello rita, Welcome to my Blog\n",
      "Hello mia, Welcome to my Blog\n"
     ]
    }
   ],
   "source": [
    "h = []\n",
    "while True:\n",
    "    hh = input(\"Enter the name (or type 'done' to finish):\")\n",
    "    if hh.lower() == 'done':\n",
    "        break\n",
    "    h.append(hh)\n",
    "        \n",
    "print(f\"\\nIt is my list of names:{h}\\n\")\n",
    "    \n",
    "def greet(name):\n",
    "    return f\"Hello {name}, Welcome to my Blog\"\n",
    "\n",
    "for name in h:\n",
    "    res = greet(name)\n",
    "    print(res)"
   ]
  },
  {
   "cell_type": "markdown",
   "id": "afe32dfc",
   "metadata": {},
   "source": [
    "checking odd and even number in python function"
   ]
  },
  {
   "cell_type": "code",
   "execution_count": null,
   "id": "cef00424",
   "metadata": {},
   "outputs": [
    {
     "name": "stdout",
     "output_type": "stream",
     "text": [
      "1 Odd Number\n",
      "2 Even Number\n",
      "3 Odd Number\n",
      "4 Even Number\n",
      "5 Odd Number\n",
      "6 Even Number\n",
      "7 Odd Number\n",
      "8 Even Number\n",
      "9 Odd Number\n",
      "10 Even Number\n"
     ]
    }
   ],
   "source": [
    "def odd_even(num):\n",
    "\n",
    "    if num % 2 == 0:\n",
    "        return \"Even Number\"\n",
    "    else:\n",
    "        return \"Odd Number\"\n",
    "\n",
    "for i in range(1,11):\n",
    "    res = odd_even(i)\n",
    "    print(i,res)\n",
    "    \n",
    "    "
   ]
  }
 ],
 "metadata": {
  "kernelspec": {
   "display_name": "Python 3",
   "language": "python",
   "name": "python3"
  },
  "language_info": {
   "codemirror_mode": {
    "name": "ipython",
    "version": 3
   },
   "file_extension": ".py",
   "mimetype": "text/x-python",
   "name": "python",
   "nbconvert_exporter": "python",
   "pygments_lexer": "ipython3",
   "version": "3.11.9"
  }
 },
 "nbformat": 4,
 "nbformat_minor": 5
}
