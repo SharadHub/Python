{
 "cells": [
  {
   "cell_type": "markdown",
   "id": "3ae11869",
   "metadata": {},
   "source": [
    "Banking Application --> ATM Machine"
   ]
  },
  {
   "cell_type": "code",
   "execution_count": null,
   "id": "6b33e6ee",
   "metadata": {},
   "outputs": [],
   "source": [
    "    "
   ]
  }
 ],
 "metadata": {
  "language_info": {
   "name": "python"
  }
 },
 "nbformat": 4,
 "nbformat_minor": 5
}
