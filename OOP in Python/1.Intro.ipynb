{
 "cells": [
  {
   "cell_type": "markdown",
   "id": "1ca6b7ba",
   "metadata": {},
   "source": [
    "🧪 Your Turn\n",
    "Write your own class:\n",
    "🔧 Task:\n",
    "Create a class called Student with:\n",
    "Attributes: name, age, course\n",
    "A method introduce() that prints: \"Hi, I am {name}, {age} years old, studying {course}\"\n",
    "Then:\n",
    "Create 2 different students as objects\n",
    "Call introduce() on both"
   ]
  },
  {
   "cell_type": "code",
   "execution_count": 1,
   "id": "da6c1c47",
   "metadata": {},
   "outputs": [
    {
     "name": "stdout",
     "output_type": "stream",
     "text": [
      "Hi, I am Bishal Bista, 22 years old, studying BCA\n",
      "Hi, I am Sajan Bista, 22 years old, studying BCA\n",
      "Hi, I am Asmita Bista, 22 years old, studying BCA\n",
      "Hi, I am Samikshya Bista, 22 years old, studying BCA\n",
      "Hi, I am Ankit Bista, 22 years old, studying BCA\n"
     ]
    }
   ],
   "source": [
    "class Student:\n",
    "    def __init__(self, name, age, course):\n",
    "        self.name = name\n",
    "        self.age = age\n",
    "        self.course = course\n",
    "    def introduce(self):\n",
    "        print(f\"Hi, I am {self.name}, {self.age} years old, studying {self.course}\")\n",
    "        \n",
    "student1 = Student(\"Bishal Bista\", 22, \"BCA\")\n",
    "student2 = Student(\"Sajan Bista\", 22, \"BCA\")\n",
    "student3 = Student(\"Asmita Bista\", 22, \"BCA\")\n",
    "student4 = Student(\"Samikshya Bista\", 22, \"BCA\")\n",
    "student5 = Student(\"Ankit Bista\", 22, \"BCA\")\n",
    "\n",
    "\n",
    "student1.introduce()\n",
    "student2.introduce()\n",
    "student3.introduce()\n",
    "student4.introduce()\n",
    "student5.introduce()"
   ]
  },
  {
   "cell_type": "code",
   "execution_count": null,
   "id": "4311f16f",
   "metadata": {},
   "outputs": [],
   "source": [
    "class Car:\n",
    "    # Constructor method: gets called when we create an object\n",
    "    def __init__(self, brand, model):\n",
    "        self.brand = brand  # attribute\n",
    "        self.model = model  # attribute\n",
    "\n",
    "    # Method (function inside class)\n",
    "    def display_info(self):\n",
    "        print(f\"This car is a {self.brand} {self.model}\")\n"
   ]
  }
 ],
 "metadata": {
  "kernelspec": {
   "display_name": "Python 3",
   "language": "python",
   "name": "python3"
  },
  "language_info": {
   "codemirror_mode": {
    "name": "ipython",
    "version": 3
   },
   "file_extension": ".py",
   "mimetype": "text/x-python",
   "name": "python",
   "nbconvert_exporter": "python",
   "pygments_lexer": "ipython3",
   "version": "3.11.9"
  }
 },
 "nbformat": 4,
 "nbformat_minor": 5
}
