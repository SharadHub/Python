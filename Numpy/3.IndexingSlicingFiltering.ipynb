{
 "cells": [
  {
   "cell_type": "markdown",
   "id": "a867058a",
   "metadata": {},
   "source": [
    "indexing"
   ]
  },
  {
   "cell_type": "code",
   "execution_count": 1,
   "id": "2ebb8588",
   "metadata": {},
   "outputs": [],
   "source": [
    "import numpy as np\n",
    "\n",
    "study_hours = np.array([6,2,5,2,4,3,7])"
   ]
  },
  {
   "cell_type": "code",
   "execution_count": 2,
   "id": "76369699",
   "metadata": {},
   "outputs": [
    {
     "name": "stdout",
     "output_type": "stream",
     "text": [
      "6\n",
      "7\n",
      "5\n",
      "3\n"
     ]
    }
   ],
   "source": [
    "print(study_hours[0])\n",
    "print(study_hours[-1])\n",
    "print(study_hours[-5])\n",
    "print(study_hours[-2])"
   ]
  },
  {
   "cell_type": "markdown",
   "id": "a05a1d8c",
   "metadata": {},
   "source": [
    "slicing"
   ]
  },
  {
   "cell_type": "code",
   "execution_count": 3,
   "id": "cd86625e",
   "metadata": {},
   "outputs": [],
   "source": [
    "import numpy as np\n",
    "\n",
    "study_hours = np.array([6,2,5,2,4,3,7])"
   ]
  },
  {
   "cell_type": "code",
   "execution_count": 6,
   "id": "8175014c",
   "metadata": {},
   "outputs": [
    {
     "name": "stdout",
     "output_type": "stream",
     "text": [
      "[2 5 2 4]\n",
      "[6 2 5]\n"
     ]
    }
   ],
   "source": [
    "print(study_hours[1:-2])\n",
    "\n",
    "print(study_hours[0:3]) #day 1 to day 3"
   ]
  },
  {
   "cell_type": "markdown",
   "id": "8e46152a",
   "metadata": {},
   "source": [
    "filtering"
   ]
  },
  {
   "cell_type": "code",
   "execution_count": 7,
   "id": "8b2d696d",
   "metadata": {},
   "outputs": [
    {
     "name": "stdout",
     "output_type": "stream",
     "text": [
      "[6 5 4 3 7]\n"
     ]
    }
   ],
   "source": [
    "print(study_hours[study_hours > 2])"
   ]
  },
  {
   "cell_type": "markdown",
   "id": "928d6e71",
   "metadata": {},
   "source": [
    "Exercise 3:\n",
    "\n",
    "Print your study hours for the weekend (assume last 2 days).\n",
    "\n",
    "Print days where you studied more than 4 hours.\n",
    "\n",
    "Calculate average score only for days where score > 40."
   ]
  },
  {
   "cell_type": "code",
   "execution_count": 13,
   "id": "f8a3f06f",
   "metadata": {},
   "outputs": [
    {
     "name": "stdout",
     "output_type": "stream",
     "text": [
      "[7 6 4]\n",
      "days i learned more than 4 hours are:[7 6]\n",
      "The average productivity score is 56.67\n"
     ]
    }
   ],
   "source": [
    "learning_time = np.array([7, 6, 4])\n",
    "print(learning_time)\n",
    "\n",
    "print(f\"days i learned more than 4 hours are:{learning_time[learning_time > 4]}\")\n",
    "\n",
    "productivity_score = learning_time * 10\n",
    "average_productivity_score = productivity_score.mean()\n",
    "print(f\"The average productivity score is {average_productivity_score:.2f}\")"
   ]
  },
  {
   "cell_type": "markdown",
   "id": "f9091b72",
   "metadata": {},
   "source": [
    "Top 3 productivity scores\n",
    "\n",
    "Day(s) with score above weekly average"
   ]
  },
  {
   "cell_type": "code",
   "execution_count": 15,
   "id": "bf888f0f",
   "metadata": {},
   "outputs": [
    {
     "name": "stdout",
     "output_type": "stream",
     "text": [
      "[70 60 40]\n",
      "[70 60]\n"
     ]
    }
   ],
   "source": [
    "print(productivity_score)\n",
    "print(productivity_score[average_productivity_score < productivity_score])"
   ]
  }
 ],
 "metadata": {
  "kernelspec": {
   "display_name": "Python 3",
   "language": "python",
   "name": "python3"
  },
  "language_info": {
   "codemirror_mode": {
    "name": "ipython",
    "version": 3
   },
   "file_extension": ".py",
   "mimetype": "text/x-python",
   "name": "python",
   "nbconvert_exporter": "python",
   "pygments_lexer": "ipython3",
   "version": "3.11.9"
  }
 },
 "nbformat": 4,
 "nbformat_minor": 5
}
