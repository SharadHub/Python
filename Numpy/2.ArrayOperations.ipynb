{
 "cells": [
  {
   "cell_type": "markdown",
   "id": "3c1e569c",
   "metadata": {},
   "source": [
    "Array operations let you do math on entire datasets at once — this is vectorization, and it makes NumPy blazing fast and powerful."
   ]
  },
  {
   "cell_type": "code",
   "execution_count": 2,
   "id": "89e1cae3",
   "metadata": {},
   "outputs": [],
   "source": [
    "import numpy as np"
   ]
  },
  {
   "cell_type": "code",
   "execution_count": 5,
   "id": "b905f002",
   "metadata": {},
   "outputs": [
    {
     "name": "stdout",
     "output_type": "stream",
     "text": [
      "[7.  2.5 5.  3.  5.  3.5 9. ]\n",
      "[12  4 10  4  8  6 14]\n"
     ]
    }
   ],
   "source": [
    "hours = np.array([6, 2, 5, 2, 4, 3, 7])\n",
    "bonus = np.array([1, 0.5, 0, 1, 1, 0.5, 2])\n",
    "\n",
    "# Add arrays elementwise\n",
    "total_with_bonus = hours + bonus  \n",
    "print(total_with_bonus)\n",
    "# Multiply each element by 2\n",
    "double_hours = hours * 2  \n",
    "\n",
    "print(double_hours)"
   ]
  },
  {
   "cell_type": "code",
   "execution_count": 9,
   "id": "78081cf4",
   "metadata": {},
   "outputs": [
    {
     "name": "stdout",
     "output_type": "stream",
     "text": [
      "Total time I studied each day of the week is [6.1 2.2 5.3 2.4 4.5 3.6 7.7] hours\n",
      "My productivity score for each day throughout the week is [61. 22. 53. 24. 45. 36. 77.]\n",
      "My average productivity score of this week is 45.43\n",
      "My maximum productivity score of this week is 77.0\n"
     ]
    }
   ],
   "source": [
    "import numpy as np\n",
    "hours = np.array([6, 2, 5, 2, 4, 3, 7])\n",
    "extra_hours = np.array([0.1, 0.2, 0.3, 0.4, 0.5, 0.6, 0.7])\n",
    "\n",
    "total_hours = hours + extra_hours\n",
    "\n",
    "print(f\"Total time I studied each day of the week is {total_hours} hours\")\n",
    "\n",
    "productivity_score = total_hours * 10\n",
    "\n",
    "print(f\"My productivity score for each day throughout the week is {productivity_score}\")\n",
    "\n",
    "print(f\"My average productivity score of this week is {productivity_score.mean():.2f}\")\n",
    "\n",
    "print(f\"My maximum productivity score of this week is {productivity_score.max()}\")"
   ]
  }
 ],
 "metadata": {
  "kernelspec": {
   "display_name": "Python 3",
   "language": "python",
   "name": "python3"
  },
  "language_info": {
   "codemirror_mode": {
    "name": "ipython",
    "version": 3
   },
   "file_extension": ".py",
   "mimetype": "text/x-python",
   "name": "python",
   "nbconvert_exporter": "python",
   "pygments_lexer": "ipython3",
   "version": "3.11.9"
  }
 },
 "nbformat": 4,
 "nbformat_minor": 5
}
