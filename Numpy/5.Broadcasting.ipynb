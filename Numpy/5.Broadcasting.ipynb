{
 "cells": [
  {
   "cell_type": "markdown",
   "id": "c0857422",
   "metadata": {},
   "source": [
    "Broadcasting allows numpy to perform operation on arrays of different shapes without writing loops."
   ]
  },
  {
   "cell_type": "code",
   "execution_count": 2,
   "id": "f88b07f6",
   "metadata": {},
   "outputs": [
    {
     "name": "stdout",
     "output_type": "stream",
     "text": [
      "Money I saved in each day of the first week of the May is:[150 200 250 300 350 400 450]\n"
     ]
    }
   ],
   "source": [
    "#SYNTAX\n",
    "#Scalar Broadcasting = 1D array + number \n",
    "\n",
    "#data of money saved in each day of the first week in the month of may\n",
    "\n",
    "import numpy as np \n",
    "\n",
    "money_saved = np.array([100,150,200,250,300,350,400])\n",
    "\n",
    "\"\"\"\n",
    "    Initially above data was the idea to save money but I have been saving 50 rupees more than the initial plan\n",
    "    \"\"\"\n",
    "\n",
    "adjusted_saving = money_saved + 50\n",
    "\n",
    "print(f\"Money I saved in each day of the first week of the May is:{adjusted_saving}\")"
   ]
  },
  {
   "cell_type": "code",
   "execution_count": 16,
   "id": "52bd11ce",
   "metadata": {},
   "outputs": [
    {
     "name": "stdout",
     "output_type": "stream",
     "text": [
      "The Marks of the students including theory Practical scores is\n",
      ":[[85 85 90]\n",
      " [90 93 87]\n",
      " [95 85 93]]\n",
      "The Normalized scores is\n",
      ":[[ 85.71428571  88.23529412  95.58823529]\n",
      " [ 92.85714286 100.          91.17647059]\n",
      " [100.          88.23529412 100.        ]]\n"
     ]
    }
   ],
   "source": [
    "#SYNTAX\n",
    "# Vector Broadcasting = 2D + 1D \n",
    "\n",
    "scores = np.array([\n",
    "    #eng,nep,math\n",
    "    [60,60,65],  #student 1\n",
    "    [65,68,62],  #student 2\n",
    "    [70,60,68]   #student 3\n",
    "])\n",
    "\n",
    "\"\"\"\n",
    "This is the marks of the # subjects English, Nepali and Math in which I forgot to add Practical marks so Now I will add 25 to each subjects of each students\n",
    "    \"\"\"\n",
    "practical_scores = np.array([25,25,25])\n",
    "\n",
    "new_scores = scores + practical_scores\n",
    "\n",
    "print(f\"The Marks of the students including theory Practical scores is\\n:{new_scores}\")\n",
    "\n",
    "#Normalizing Test Scores\n",
    "\n",
    "max_per_subject = scores.max(axis=0)\n",
    "\n",
    "normalized_scores = (scores / max_per_subject * 100)\n",
    "\n",
    "print(f\"The Normalized scores is\\n:{normalized_scores}\")"
   ]
  },
  {
   "cell_type": "markdown",
   "id": "81a296ae",
   "metadata": {},
   "source": [
    "Exercise 6\n",
    "\n",
    "Add 1 hour extra to every day — use broadcasting (no loops).\n",
    "\n",
    "Add bonus hours: [0, 0.5, 1, 0.5, 0] — one for each day.\n",
    "\n",
    "Calculate total hours per student using .sum(axis=1)\n",
    "\n",
    "Print who studied the most."
   ]
  },
  {
   "cell_type": "code",
   "execution_count": 32,
   "id": "36438437",
   "metadata": {},
   "outputs": [
    {
     "name": "stdout",
     "output_type": "stream",
     "text": [
      "The study data after adding 1 in each data is \n",
      "[[2 3 4 3 2]\n",
      " [3 4 5 4 3]\n",
      " [4 5 6 5 4]]\n",
      "\n",
      "The amount of hours each student studied after adding bonus hours is \n",
      "[[1.  2.5 4.  2.5 1. ]\n",
      " [2.  3.5 5.  3.5 2. ]\n",
      " [3.  4.5 6.  4.5 3. ]]\n",
      "\n",
      "The total time each students take to study is [11. 16. 21.]\n",
      "\n",
      "The student who studied maximum hour is one who studied 21.0 hours\n"
     ]
    }
   ],
   "source": [
    "study_data = np.array([\n",
    "    [1, 2, 3, 2, 1],\n",
    "    [2, 3, 4, 3, 2],\n",
    "    [3, 4, 5, 4, 3]\n",
    "])\n",
    "#adding extra 1 hour\n",
    "extra = study_data + 1\n",
    "\n",
    "print(f\"The study data after adding 1 in each data is \\n{extra}\\n\")\n",
    "\n",
    "#creating bonus hours array to add in the study data\n",
    "bonus_hours = np.array([0, 0.5, 1, 0.5, 0])\n",
    "\n",
    "#adding bonus hours and new study data\n",
    "new_study_data = bonus_hours + study_data\n",
    "\n",
    "print(f\"The amount of hours each student studied after adding bonus hours is \\n{new_study_data}\\n\")\n",
    "\n",
    "#calculating total hour student studied\n",
    "TotalHourPerStudent = new_study_data.sum(axis=1)\n",
    "\n",
    "print(f\"The total time each students take to study is {TotalHourPerStudent}\\n\")\n",
    "\n",
    "#printing the student who studied the maximum hours\n",
    "print(f\"The student who studied maximum hour is one who studied {TotalHourPerStudent.max()} hours\")"
   ]
  }
 ],
 "metadata": {
  "kernelspec": {
   "display_name": "Python 3",
   "language": "python",
   "name": "python3"
  },
  "language_info": {
   "codemirror_mode": {
    "name": "ipython",
    "version": 3
   },
   "file_extension": ".py",
   "mimetype": "text/x-python",
   "name": "python",
   "nbconvert_exporter": "python",
   "pygments_lexer": "ipython3",
   "version": "3.11.9"
  }
 },
 "nbformat": 4,
 "nbformat_minor": 5
}
