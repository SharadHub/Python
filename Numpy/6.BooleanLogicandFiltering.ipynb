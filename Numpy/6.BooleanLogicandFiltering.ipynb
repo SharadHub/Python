{
 "cells": [
  {
   "cell_type": "code",
   "execution_count": null,
   "id": "e81e09d3",
   "metadata": {},
   "outputs": [
    {
     "name": "stdout",
     "output_type": "stream",
     "text": [
      "[False False  True  True  True]\n",
      "[36 40 42]\n"
     ]
    }
   ],
   "source": [
    "import numpy as np\n",
    "\n",
    "temperature = np.array([35, 34, 36, 40, 42])  #highest temperature recorded in the last 5 days\n",
    "\n",
    "mask = temperature > 35\n",
    "\n",
    "print(mask) #checking if temperature is higher than 35 or not\n",
    "\n",
    "print(temperature[mask]) #temperature higher than 35"
   ]
  },
  {
   "cell_type": "code",
   "execution_count": null,
   "id": "c5c69593",
   "metadata": {},
   "outputs": [
    {
     "name": "stdout",
     "output_type": "stream",
     "text": [
      "['Low' 'Low' 'High' 'High' 'High']\n"
     ]
    }
   ],
   "source": [
    "cond = np.where(temperature <= 35, 'Low','High') #this code prints temperature less or equal to 35 as Low but high to more than that \n",
    "print(cond)"
   ]
  },
  {
   "cell_type": "code",
   "execution_count": 10,
   "id": "283ba06b",
   "metadata": {},
   "outputs": [
    {
     "name": "stdout",
     "output_type": "stream",
     "text": [
      "[ True  True False False False]\n",
      "Coolest days in the last winter are [21 24]\n"
     ]
    }
   ],
   "source": [
    "temperature2 = np.array([21,24,26,27,30]) #temperature of random 5 days from past winter\n",
    "\n",
    "cool_days = temperature2 < 25\n",
    "\n",
    "print(cool_days)\n",
    "\n",
    "print(f\"Coolest days in the last winter are {temperature2[cool_days]}\")"
   ]
  },
  {
   "cell_type": "code",
   "execution_count": 11,
   "id": "655dcef1",
   "metadata": {},
   "outputs": [],
   "source": [
    "import numpy as np\n",
    "\n",
    "#array of daily productivity scores (out of 100) of one week\n",
    "scores = np.array([45, 80, 60, 30, 90, 50, 25])\n"
   ]
  },
  {
   "cell_type": "markdown",
   "id": "e2f889fd",
   "metadata": {},
   "source": [
    "Print the days where score is below 50\n",
    "\n",
    "Replace scores < 50 with 0 (use np.where())\n",
    "\n",
    "Calculate the new average productivity\n",
    "\n",
    "Print how many days were poor productivity days (score < 50)"
   ]
  },
  {
   "cell_type": "code",
   "execution_count": 22,
   "id": "b5e4eef7",
   "metadata": {},
   "outputs": [
    {
     "name": "stdout",
     "output_type": "stream",
     "text": [
      "[ True False False  True False False  True]\n",
      "[45 30 25]\n",
      "['Poor' 'Good' 'Good' 'Poor' 'Good' 'Good' 'Poor']\n",
      "[ 0 80 60  0 90 50  0]\n",
      "54.285714285714285\n",
      "3\n"
     ]
    }
   ],
   "source": [
    "mask = scores < 50\n",
    "\n",
    "#gives boolean result of the condition inside of the array\n",
    "print(mask)\n",
    "\n",
    "#fetch the result from the array according to the condition \n",
    "print(scores[mask])\n",
    "\n",
    "poor_productivity = np.where(scores < 50, 'Poor', 'Good')\n",
    "\n",
    "print(poor_productivity)\n",
    "\n",
    "adjusted_scores = np.where(scores < 50, 0,scores)\n",
    "\n",
    "print(adjusted_scores)\n",
    "\n",
    "#gives out average productivity throughout the week\n",
    "print(scores.mean())\n",
    "\n",
    "# #count days where  productivity were poor\n",
    "poor_days = mask.sum()\n",
    "print(poor_days)\n",
    "\n"
   ]
  }
 ],
 "metadata": {
  "kernelspec": {
   "display_name": "Python 3",
   "language": "python",
   "name": "python3"
  },
  "language_info": {
   "codemirror_mode": {
    "name": "ipython",
    "version": 3
   },
   "file_extension": ".py",
   "mimetype": "text/x-python",
   "name": "python",
   "nbconvert_exporter": "python",
   "pygments_lexer": "ipython3",
   "version": "3.11.9"
  }
 },
 "nbformat": 4,
 "nbformat_minor": 5
}
