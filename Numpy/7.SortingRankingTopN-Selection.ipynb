{
 "cells": [
  {
   "cell_type": "markdown",
   "id": "eaeae361",
   "metadata": {},
   "source": [
    "Sorting, Ranking and Top-N Selection in Numpy is organizing and filtering arrays based on values"
   ]
  },
  {
   "cell_type": "code",
   "execution_count": null,
   "id": "1f7a1716",
   "metadata": {},
   "outputs": [
    {
     "name": "stdout",
     "output_type": "stream",
     "text": [
      "The sorted Prices of gold are:[ 95800.  148700.  168500.  180000.  210471.5 220986. ]\n"
     ]
    }
   ],
   "source": [
    "import numpy as np\n",
    "\n",
    "\n",
    "\n",
    "gold_prices = np.array([180000, 220986, 210471.5, 95800, 168500, 148700])\n",
    "\n",
    "#sorting the prices from ascending to descending order\n",
    "\n",
    "sorted_price = np.sort(gold_prices)\n",
    "\n",
    "print(f\"The sorted Prices of gold are:{sorted_price}\")"
   ]
  },
  {
   "cell_type": "markdown",
   "id": "01353c90",
   "metadata": {},
   "source": [
    "Argsort (Get indices of the sorted array)"
   ]
  },
  {
   "cell_type": "code",
   "execution_count": null,
   "id": "bcdc808a",
   "metadata": {},
   "outputs": [
    {
     "name": "stdout",
     "output_type": "stream",
     "text": [
      "[3 5 4 0 2 1]\n"
     ]
    }
   ],
   "source": [
    "sorted_price = np.argsort(gold_prices) # it gives the indices of the sorted arrays\n",
    "\n",
    "print(sorted_price) #print indices"
   ]
  },
  {
   "cell_type": "markdown",
   "id": "89f61851",
   "metadata": {},
   "source": [
    "Top-N values = It gives the top values from first element to n-element"
   ]
  },
  {
   "cell_type": "code",
   "execution_count": 7,
   "id": "5571fa30",
   "metadata": {},
   "outputs": [
    {
     "name": "stdout",
     "output_type": "stream",
     "text": [
      "[180000.  210471.5 220986. ]\n"
     ]
    }
   ],
   "source": [
    "top3_high_price = np.sort(gold_prices)[-3:]\n",
    "#it print the top 3 highest valuse from the array named gold_prices\n",
    "print(top3_high_price)"
   ]
  },
  {
   "cell_type": "code",
   "execution_count": 20,
   "id": "ee7dd68b",
   "metadata": {},
   "outputs": [
    {
     "name": "stdout",
     "output_type": "stream",
     "text": [
      "[[ 2020  2021  2022  2023  2024]\n",
      " [16547 28924 42165 42500 46206]]\n"
     ]
    }
   ],
   "source": [
    "import numpy as np\n",
    "\n",
    "# bitcoin price from year 2020 to 2021\n",
    "bitcoin_prices = np.array([\n",
    "    [2020, 2021, 2022, 2023, 2024],\n",
    "    [28924, 46206, 16547, 42165, 42500]\n",
    "])\n",
    "sort_bitcoin = np.sort(bitcoin_prices)\n",
    "\n",
    "#it gives the result of sorted array of 2D\n",
    "print(np.sort(bitcoin_prices, axis = 1))\n"
   ]
  },
  {
   "cell_type": "code",
   "execution_count": 23,
   "id": "cd3f747a",
   "metadata": {},
   "outputs": [
    {
     "name": "stdout",
     "output_type": "stream",
     "text": [
      "[ 810  900  500  200  300 1350   25   75   50  150]\n",
      "The top 3 sales happen today are: [ 810  900 1350]\n"
     ]
    }
   ],
   "source": [
    "sales_today = np.array([810, 900, 500, 200, 300, 1350, 25, 75, 50, 150])\n",
    "\n",
    "print(sales_today)\n",
    "\n",
    "top3_SalesToday = np.sort(sales_today)[-3:]\n",
    "\n",
    "print(f\"The top 3 sales happen today are: {top3_SalesToday}\")"
   ]
  },
  {
   "cell_type": "markdown",
   "id": "2fd54274",
   "metadata": {},
   "source": [
    "Exercise 1: Basic Sorting \n",
    "\n",
    "You are given a list of test scores:\n",
    "\n",
    "scores = np.array([88, 95, 70, 100, 60])\n",
    "\n",
    "Sort the scores in ascending order\n",
    "\n",
    "Find the highest 3 scores\n",
    "\n",
    "Print their original indices (use np.argsort())"
   ]
  },
  {
   "cell_type": "code",
   "execution_count": null,
   "id": "0dc2230b",
   "metadata": {},
   "outputs": [
    {
     "name": "stdout",
     "output_type": "stream",
     "text": [
      "[ 60  70  88  95 100]\n",
      "The top 3 Highest scores are: [ 88  95 100]\n",
      "[4 2 0 1 3]\n"
     ]
    }
   ],
   "source": [
    "# exercise 1\n",
    "import numpy as np\n",
    "scores = np.array([88, 95, 70, 100, 60])\n",
    "\n",
    "sorted_score = np.sort(scores) # it will sort the array in ascending order \n",
    "\n",
    "print(sorted_score) # print sorted array \n",
    "\n",
    "top3 = np.sort(scores)[-3:] # it gives top 3 scores \n",
    "\n",
    "print(f\"The top 3 Highest scores are: {top3}\")\n",
    "\n",
    "index_sort = np.argsort(scores)\n",
    "\n",
    "print(index_sort) #gives the indices of the array after sorting"
   ]
  },
  {
   "cell_type": "markdown",
   "id": "fabbac04",
   "metadata": {},
   "source": [
    " Exercise 2: 2D Matrix Sorting\n",
    "\n",
    " You have this study log:\n",
    "\n",
    "study_log = np.array([\n",
    "    [3, 2, 1],\n",
    "    [6, 4, 5],\n",
    "    [2, 3, 2]\n",
    "])\n",
    "\n",
    "Sort each row of the matrix\n",
    "\n",
    "Sort each column\n",
    "\n",
    "Print top study day (highest value) per student"
   ]
  },
  {
   "cell_type": "code",
   "execution_count": null,
   "id": "bec33204",
   "metadata": {},
   "outputs": [
    {
     "name": "stdout",
     "output_type": "stream",
     "text": [
      "[[1 2 3]\n",
      " [4 5 6]\n",
      " [2 2 3]] \n",
      "\n",
      "[[2 2 1]\n",
      " [3 3 2]\n",
      " [6 4 5]] \n",
      "\n",
      "6\n"
     ]
    }
   ],
   "source": [
    "# exercise 2\n",
    "study_log = np.array([\n",
    "    [3, 2, 1],\n",
    "    [6, 4, 5],\n",
    "    [2, 3, 2]\n",
    "])\n",
    "\n",
    "print(np.sort(study_log, axis = 1),\"\\n\") #Sort each row of the matrix\n",
    "\n",
    "print(np.sort(study_log, axis = 0),\"\\n\") #Sort each column\n",
    "\n",
    "print(study_log.max()) #Print top study day (highest value) per student\n"
   ]
  },
  {
   "cell_type": "markdown",
   "id": "78b376d7",
   "metadata": {},
   "source": [
    "Exercise 3: Real-World Application (Sales)\n",
    "\n",
    "sales = np.array([100, 300, 50, 450, 600, 90])\n",
    "\n",
    "Get top 3 sales days\n",
    "\n",
    "Show their original positions\n",
    "\n",
    "Replace the lowest sale with the average of top 3"
   ]
  },
  {
   "cell_type": "code",
   "execution_count": 46,
   "id": "d39912f5",
   "metadata": {},
   "outputs": [
    {
     "name": "stdout",
     "output_type": "stream",
     "text": [
      "The top 3 sales of today are: [300 450 600]\n",
      "\n",
      "The original indices are: [2 5 0 1 3 4]\n",
      "\n",
      "Average sales from the top 3 is  450.0\n",
      "\n",
      "The minimum sales fot the day is 50\n",
      "\n",
      "After replacing the lowest sales with average sales of top 3 [100 300 450 450 600  90]\n"
     ]
    }
   ],
   "source": [
    "# exercise 3\n",
    "\n",
    "sales = np.array([100, 300, 50, 450, 600, 90])\n",
    "\n",
    "top3_sales = np.sort(sales)[-3:] # Get top 3 sales days\n",
    "\n",
    "print(f\"The top 3 sales of today are: {top3_sales}\\n\")\n",
    "\n",
    "index_sorting = np.argsort(sales) #  gives their original indices\n",
    "\n",
    "print(f\"The original indices are: {index_sorting}\\n\")\n",
    "\n",
    "average_top3 = top3_sales.mean()\n",
    "\n",
    "print(f\"Average sales from the top 3 is  {average_top3}\\n\") # gives average from top 3 sales \n",
    "\n",
    "minimum_sales = sales.min()\n",
    "\n",
    "print(f\"The minimum sales fot the day is {minimum_sales}\\n\") # gives the minimum sales from the array\n",
    "\n",
    "sales_modify = sales.copy()\n",
    "\n",
    "minimum_index = np.argmin(sales)\n",
    "\n",
    "sales_modify[minimum_index] = average_top3\n",
    "\n",
    "print(f\"After replacing the lowest sales with average sales of top 3 {sales_modify}\")"
   ]
  }
 ],
 "metadata": {
  "kernelspec": {
   "display_name": "Python 3",
   "language": "python",
   "name": "python3"
  },
  "language_info": {
   "codemirror_mode": {
    "name": "ipython",
    "version": 3
   },
   "file_extension": ".py",
   "mimetype": "text/x-python",
   "name": "python",
   "nbconvert_exporter": "python",
   "pygments_lexer": "ipython3",
   "version": "3.11.9"
  }
 },
 "nbformat": 4,
 "nbformat_minor": 5
}
