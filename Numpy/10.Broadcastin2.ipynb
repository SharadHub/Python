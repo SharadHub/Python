{
 "cells": [
  {
   "cell_type": "code",
   "execution_count": 2,
   "id": "7bc6f54b",
   "metadata": {},
   "outputs": [
    {
     "name": "stdout",
     "output_type": "stream",
     "text": [
      "[6 7 8]\n"
     ]
    }
   ],
   "source": [
    "#  Add a scalar to an array\n",
    "\n",
    "import numpy as np\n",
    "a = np.array([1, 2, 3])\n",
    "result = a + 5  # Each element gets 5 added\n",
    "print(result)"
   ]
  },
  {
   "cell_type": "code",
   "execution_count": 3,
   "id": "5cc97466",
   "metadata": {},
   "outputs": [
    {
     "name": "stdout",
     "output_type": "stream",
     "text": [
      "[[2 3 4]\n",
      " [5 6 7]]\n"
     ]
    }
   ],
   "source": [
    "matrix = np.array([[1, 2, 3], [4, 5, 6]])\n",
    "bias = np.array([1, 1, 1])\n",
    "result = matrix + bias\n",
    "print(result)"
   ]
  },
  {
   "cell_type": "code",
   "execution_count": 4,
   "id": "cb831c14",
   "metadata": {},
   "outputs": [
    {
     "name": "stdout",
     "output_type": "stream",
     "text": [
      "[[-10.   0.  10.]\n",
      " [-10.   0.  10.]]\n"
     ]
    }
   ],
   "source": [
    "data = np.array([[10, 20, 30], [5, 15, 25]])\n",
    "row_means = data.mean(axis=1, keepdims=True)\n",
    "normalized = data - row_means\n",
    "print(normalized)"
   ]
  },
  {
   "cell_type": "markdown",
   "id": "9da912d0",
   "metadata": {},
   "source": [
    "Exercise 1: Sales Boost\n",
    "You have a daily sales array. Add a 10% commission bonus using broadcasting."
   ]
  },
  {
   "cell_type": "code",
   "execution_count": 6,
   "id": "3278bd81",
   "metadata": {},
   "outputs": [
    {
     "name": "stdout",
     "output_type": "stream",
     "text": [
      "Sales after adding 10% commission are:[1320. 1485. 1089. 1595. 1760. 1980. 2200.]\n"
     ]
    }
   ],
   "source": [
    "import numpy as np\n",
    "\n",
    "# Daily sales for a week (Monday to Sunday)\n",
    "daily_sales = np.array([1200, 1350, 990, 1450, 1600, 1800, 2000])\n",
    "\n",
    "#  multiply the array by 1.10 to add 10%.\n",
    "sales_with_bonus = daily_sales * 1.10\n",
    "\n",
    "print(f\"Sales after adding 10% commission are:{sales_with_bonus}\")"
   ]
  },
  {
   "cell_type": "markdown",
   "id": "94f449d8",
   "metadata": {},
   "source": [
    "Exercise 2: Normalize Data\n",
    "Given a 2D matrix of student scores, subtract the mean score of each student (row-wise normalization)."
   ]
  },
  {
   "cell_type": "code",
   "execution_count": 8,
   "id": "cbd2dca3",
   "metadata": {},
   "outputs": [
    {
     "name": "stdout",
     "output_type": "stream",
     "text": [
      "[84.33333333 88.         75.         90.66666667]\n",
      "[[84.33333333]\n",
      " [88.        ]\n",
      " [75.        ]\n",
      " [90.66666667]]\n"
     ]
    }
   ],
   "source": [
    "import numpy as np\n",
    "\n",
    "scores = np.array([\n",
    "    #math,sci,eng\n",
    "    [78, 85, 90], #student 1\n",
    "    [92, 88, 84], #student 2\n",
    "    [70, 75, 80], #student 3\n",
    "    [88, 94, 90] #student 4\n",
    "])\n",
    "\n",
    "#mean of each row\n",
    "row_means = scores.mean(axis=1)\n",
    "print(row_means)\n",
    "\n",
    "# normalizing each row by substracting its mean\n",
    "normalised_score = np.mean(scores, axis=1, keepdims=True)\n",
    "\n",
    "print(normalised_score)\n",
    "\n"
   ]
  },
  {
   "cell_type": "markdown",
   "id": "73bd413d",
   "metadata": {},
   "source": [
    "Exercise 3: Image Simulation\n",
    "Simulate a grayscale image (3x3 matrix). Increase brightness using a scalar and add a “filter” (another matrix) using broadcasting."
   ]
  },
  {
   "cell_type": "code",
   "execution_count": 9,
   "id": "7cbf1c9b",
   "metadata": {},
   "outputs": [
    {
     "name": "stdout",
     "output_type": "stream",
     "text": [
      "Filtered Image:\n",
      "[[180 190 200]\n",
      " [220 230 240]\n",
      " [260 270 280]]\n"
     ]
    }
   ],
   "source": [
    "import numpy as np\n",
    "\n",
    "#dummy data\n",
    "image = np.array([\n",
    "    [120, 130, 140],\n",
    "    [150, 160, 170],\n",
    "    [180, 190, 200]\n",
    "])\n",
    "\n",
    "# brightness\n",
    "brightness = 50\n",
    "\n",
    "# filter to apply (vertical boost)\n",
    "filter_matrix = np.array([\n",
    "    [10],\n",
    "    [20],\n",
    "    [30]\n",
    "])\n",
    "\n",
    "# increase brightness\n",
    "brightened_image = image + brightness\n",
    "\n",
    "# filter using broadcasting\n",
    "filtered_image = brightened_image + filter_matrix\n",
    "\n",
    "# Print final result\n",
    "print(\"Filtered Image:\")\n",
    "print(filtered_image)\n"
   ]
  }
 ],
 "metadata": {
  "kernelspec": {
   "display_name": "Python 3",
   "language": "python",
   "name": "python3"
  },
  "language_info": {
   "codemirror_mode": {
    "name": "ipython",
    "version": 3
   },
   "file_extension": ".py",
   "mimetype": "text/x-python",
   "name": "python",
   "nbconvert_exporter": "python",
   "pygments_lexer": "ipython3",
   "version": "3.11.9"
  }
 },
 "nbformat": 4,
 "nbformat_minor": 5
}
