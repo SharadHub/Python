{
 "cells": [
  {
   "cell_type": "markdown",
   "id": "5172af3e",
   "metadata": {},
   "source": [
    "A 2D NumPy array is like a table — rows and columns of numbers.\n",
    "Shape looks like (rows, columns)"
   ]
  },
  {
   "cell_type": "code",
   "execution_count": 3,
   "id": "b1a397e7",
   "metadata": {},
   "outputs": [
    {
     "name": "stdout",
     "output_type": "stream",
     "text": [
      "[[85 90 88]\n",
      " [78 80 75]\n",
      " [92 88 95]]\n"
     ]
    }
   ],
   "source": [
    "import numpy as np\n",
    "\n",
    "scores = np.array([\n",
    "# Math, Science, English\n",
    "    [85, 90, 88],  # (Student 1)\n",
    "    [78, 80, 75],  # Student 2\n",
    "    [92, 88, 95]   # Student 3\n",
    "])\n",
    "print(scores)"
   ]
  },
  {
   "cell_type": "code",
   "execution_count": 5,
   "id": "54b9ab8a",
   "metadata": {},
   "outputs": [
    {
     "name": "stdout",
     "output_type": "stream",
     "text": [
      "(3, 3)\n",
      "2\n",
      "[85 90 88]\n",
      "[85 78 92]\n",
      "75\n",
      "[85. 86. 86.]\n",
      "[87.66666667 77.66666667 91.66666667]\n"
     ]
    }
   ],
   "source": [
    "print(scores.shape)        # (3, 3)\n",
    "print(scores.ndim)          # 2 dimensions\n",
    "print(scores[0])            # First row (Student 1)\n",
    "print(scores[:, 0])         # First column (Math scores)\n",
    "print(scores[1, 2])         # Row 1, Col 2 → Student 2's English\n",
    "print(scores.mean(axis=0))  # Average of each column (subject)\n",
    "print(scores.mean(axis=1))  # Average of each row (student)\n"
   ]
  },
  {
   "cell_type": "markdown",
   "id": "e75b7349",
   "metadata": {},
   "source": [
    "Create a 2D array of 4 students and 3 subjects\n",
    "\n",
    "Print:\n",
    "\n",
    "Shape and dimension\n",
    "\n",
    "All Science scores\n",
    "\n",
    "Highest score in English\n",
    "\n",
    "Average score of each student\n",
    "\n",
    "Average score for each subject"
   ]
  },
  {
   "cell_type": "code",
   "execution_count": null,
   "id": "6ed19c7f",
   "metadata": {},
   "outputs": [
    {
     "name": "stdout",
     "output_type": "stream",
     "text": [
      "[[45 55 65]\n",
      " [56 98 78]\n",
      " [89 67 81]]\n",
      "(3, 3)\n",
      "2\n",
      "[55 98 67]\n",
      "89\n",
      "[63.33333333 73.33333333 74.66666667]\n",
      "[55.         77.33333333 79.        ]\n"
     ]
    }
   ],
   "source": [
    "marks = np.array([\n",
    "#eng, science, math\n",
    "    [45, 55, 65],\n",
    "    [56, 98, 78],\n",
    "    [89, 67, 81]\n",
    "])\n",
    "print(marks)\n",
    "print(marks.shape)\n",
    "print(marks.ndim)\n",
    "print(marks[:,1])\n",
    "print(marks[:,0].max())\n",
    "print(marks.mean(axis=0))\n",
    "print(marks.mean(axis=1))\n",
    "\n",
    "\n",
    "print()"
   ]
  },
  {
   "cell_type": "code",
   "execution_count": 16,
   "id": "78b30982",
   "metadata": {},
   "outputs": [
    {
     "name": "stdout",
     "output_type": "stream",
     "text": [
      "Average score per student: [55.         77.33333333 79.        ]\n",
      "Average score per subject: [63.33333333 73.33333333 74.66666667]\n",
      "Best performing student is Student 3 with average 79.00\n",
      "Weakest subject is English with average 63.33\n"
     ]
    }
   ],
   "source": [
    "import numpy as np\n",
    "\n",
    "# Student scores: [English, Science, Math]\n",
    "marks = np.array([\n",
    "    [45, 55, 65],   # Student 1\n",
    "    [56, 98, 78],   # Student 2\n",
    "    [89, 67, 81]    # Student 3\n",
    "])\n",
    "\n",
    "# Average score per student (row-wise)\n",
    "student_avg = marks.mean(axis=1)\n",
    "print(f\"Average score per student: {student_avg}\")\n",
    "\n",
    "# Average score per subject (column-wise)\n",
    "subject_avg = marks.mean(axis=0)\n",
    "print(f\"Average score per subject: {subject_avg}\")\n",
    "\n",
    "# Best performing student (highest average)\n",
    "best_student_index = student_avg.argmax()\n",
    "print(f\"Best performing student is Student {best_student_index + 1} with average {student_avg[best_student_index]:.2f}\")\n",
    "\n",
    "# Weakest subject (lowest average)\n",
    "weakest_subject_index = subject_avg.argmin()\n",
    "subjects = ['English', 'Science', 'Math']\n",
    "print(f\"Weakest subject is {subjects[weakest_subject_index]} with average {subject_avg[weakest_subject_index]:.2f}\")\n"
   ]
  }
 ],
 "metadata": {
  "kernelspec": {
   "display_name": "Python 3",
   "language": "python",
   "name": "python3"
  },
  "language_info": {
   "codemirror_mode": {
    "name": "ipython",
    "version": 3
   },
   "file_extension": ".py",
   "mimetype": "text/x-python",
   "name": "python",
   "nbconvert_exporter": "python",
   "pygments_lexer": "ipython3",
   "version": "3.11.9"
  }
 },
 "nbformat": 4,
 "nbformat_minor": 5
}
