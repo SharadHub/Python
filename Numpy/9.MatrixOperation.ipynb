{
 "cells": [
  {
   "cell_type": "markdown",
   "id": "b4756262",
   "metadata": {},
   "source": [
    "#Exercise 1: Matrix Multiplication\n",
    "\n",
    "#Create two 2x2 matrices and\n",
    "\n",
    "#Multiply them using both @ and np.dot\n",
    "\n",
    "#Transpose one matrix before multiplying"
   ]
  },
  {
   "cell_type": "code",
   "execution_count": null,
   "id": "0634a595",
   "metadata": {},
   "outputs": [
    {
     "name": "stdout",
     "output_type": "stream",
     "text": [
      "[[2 0]\n",
      " [4 3]\n",
      " [1 5]]\n"
     ]
    },
    {
     "ename": "ValueError",
     "evalue": "shapes (3,2) and (3,2) not aligned: 2 (dim 1) != 3 (dim 0)",
     "output_type": "error",
     "traceback": [
      "\u001b[31m---------------------------------------------------------------------------\u001b[39m",
      "\u001b[31mValueError\u001b[39m                                Traceback (most recent call last)",
      "\u001b[36mCell\u001b[39m\u001b[36m \u001b[39m\u001b[32mIn[23]\u001b[39m\u001b[32m, line 16\u001b[39m\n\u001b[32m     10\u001b[39m \u001b[38;5;66;03m# np.dot(A,B)\u001b[39;00m\n\u001b[32m     11\u001b[39m \n\u001b[32m     12\u001b[39m \u001b[38;5;66;03m# A @ B\u001b[39;00m\n\u001b[32m     14\u001b[39m \u001b[38;5;28mprint\u001b[39m(A.T)\n\u001b[32m---> \u001b[39m\u001b[32m16\u001b[39m \u001b[43mnp\u001b[49m\u001b[43m.\u001b[49m\u001b[43mdot\u001b[49m\u001b[43m(\u001b[49m\u001b[43mA\u001b[49m\u001b[43m.\u001b[49m\u001b[43mT\u001b[49m\u001b[43m,\u001b[49m\u001b[43mB\u001b[49m\u001b[43m)\u001b[49m\n",
      "\u001b[31mValueError\u001b[39m: shapes (3,2) and (3,2) not aligned: 2 (dim 1) != 3 (dim 0)"
     ]
    }
   ],
   "source": [
    "#exercise 1\n",
    "import numpy as np\n",
    "\n",
    "A = np.array([[2, 4, 1],\n",
    "              [0, 3, 5]])\n",
    "\n",
    "B = np.array([[1, 2],\n",
    "              [0, -1],\n",
    "              [4, 3]])\n",
    "\n",
    "# np.dot(A,B)\n",
    "\n",
    "# A @ B\n",
    "\n",
    "print(A.T)\n",
    "\n",
    "np.dot(A.T,B)"
   ]
  },
  {
   "cell_type": "markdown",
   "id": "dbee7455",
   "metadata": {},
   "source": [
    "#Exercise 2: Identity Matrix and Inverse\n",
    "\n",
    "#Create a 3x3 matrix\n",
    "\n",
    "#Find its inverse using np.linalg.inv()\n",
    "\n",
    "#Verify the result by multiplying the matrix with its inverse — it should return an identity matrix."
   ]
  },
  {
   "cell_type": "code",
   "execution_count": null,
   "id": "e28b9803",
   "metadata": {},
   "outputs": [
    {
     "name": "stdout",
     "output_type": "stream",
     "text": [
      "[[ 0.11290323 -0.04032258  0.05241935]\n",
      " [ 0.08064516  0.18548387 -0.14112903]\n",
      " [-0.0483871   0.08870968  0.08467742]]\n"
     ]
    },
    {
     "data": {
      "text/plain": [
       "True"
      ]
     },
     "execution_count": 20,
     "metadata": {},
     "output_type": "execute_result"
    }
   ],
   "source": [
    "#exercise 2\n",
    "M = np.array([[7, 2, -1],\n",
    "              [0, 3, 5],\n",
    "              [4, -2, 6]])\n",
    "\n",
    "I = np.eye(3)\n",
    "\n",
    "M_inv = np.linalg.inv(M)\n",
    "\n",
    "print(M_inv)\n",
    "\n",
    "result = M @ M_inv\n",
    "\n",
    "np.allclose(result, I)\n",
    "\n"
   ]
  },
  {
   "cell_type": "markdown",
   "id": "a565d1dd",
   "metadata": {},
   "source": [
    "#Exercise 3: Dot Product in Practice\n",
    "\n",
    "#Simulate a small dataset:\n",
    "\n",
    "#Create a 2D array X of 3 samples with 2 features\n",
    "\n",
    "#Create a weight array W\n",
    "\n",
    "#Calculate the prediction using dot product"
   ]
  },
  {
   "cell_type": "code",
   "execution_count": null,
   "id": "d3bfc43f",
   "metadata": {},
   "outputs": [
    {
     "name": "stdout",
     "output_type": "stream",
     "text": [
      "[[-3.24]\n",
      " [ 1.91]\n",
      " [ 0.72]]\n"
     ]
    }
   ],
   "source": [
    "#exercise 3\n",
    "import numpy as np\n",
    "\n",
    "X = np.array([[1.2, 3.4],\n",
    "              [0.5, -1.3],\n",
    "              [4.8, 2.2]])\n",
    "\n",
    "W = np.array([[0.7],\n",
    "              [-1.2]])\n",
    "\n",
    "print(X @ W)"
   ]
  }
 ],
 "metadata": {
  "kernelspec": {
   "display_name": "Python 3",
   "language": "python",
   "name": "python3"
  },
  "language_info": {
   "codemirror_mode": {
    "name": "ipython",
    "version": 3
   },
   "file_extension": ".py",
   "mimetype": "text/x-python",
   "name": "python",
   "nbconvert_exporter": "python",
   "pygments_lexer": "ipython3",
   "version": "3.11.9"
  }
 },
 "nbformat": 4,
 "nbformat_minor": 5
}
