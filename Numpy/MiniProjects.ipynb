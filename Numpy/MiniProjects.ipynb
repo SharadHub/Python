{
 "cells": [
  {
   "cell_type": "markdown",
   "id": "dca57b60",
   "metadata": {},
   "source": [
    "Top Performer Dashboard\n",
    "\n",
    "given an array of weekly productivity scores for 5 users:\n",
    "\n",
    "Tasks:\n",
    "\n",
    "Compute the average score per user\n",
    "\n",
    "Identify the top 2 performers\n",
    "\n",
    "Highlight the weakest performing user\n",
    "\n",
    "Replace the lowest average with the mean of the top 2 performers"
   ]
  },
  {
   "cell_type": "code",
   "execution_count": 23,
   "id": "fb725874",
   "metadata": {},
   "outputs": [
    {
     "name": "stdout",
     "output_type": "stream",
     "text": [
      "The average score of the each user is: \n",
      "[81.  72.6 66.  94.  65. ]\n",
      "\n",
      "The top 2 users are \n",
      "[[ 70  60  90 100  85]\n",
      " [ 95  90  98  87 100]]\n",
      "\n",
      "mean of the top 2 performer is: 87.5\n",
      "\n",
      "The Weakest performing user is: 5 with average score of 65.00\n",
      "\n",
      "Updated scores after boosting weakest performer:\n",
      "[[ 70  60  90 100  85]\n",
      " [ 88  70  50  60  95]\n",
      " [ 50  60  75  80  65]\n",
      " [ 95  90  98  87 100]\n",
      " [ 87  87  87  87  87]]\n"
     ]
    }
   ],
   "source": [
    "# Top Performer Dashboard\n",
    "import numpy as np\n",
    "\n",
    "users = np.array([\n",
    "    [70, 60, 90, 100, 85],  # user 1\n",
    "    [88, 70, 50, 60, 95],   # user 2\n",
    "    [50, 60, 75, 80, 65],   # user 3\n",
    "    [95, 90, 98, 87, 100],  # user 4\n",
    "    [60, 65, 70, 55, 75]    # user 5\n",
    "])\n",
    "\n",
    "# the average score per user\n",
    "user_average = np.mean(users,axis=1)\n",
    "print(f\"The average score of the each user is: \\n{user_average}\\n\")\n",
    "\n",
    "# the top 2 performers\n",
    "top2_indices = np.argsort(user_average)[-2:]\n",
    "top2_users = users[top2_indices]\n",
    "\n",
    "print(f\"The top 2 users are \\n{top2_users}\\n\")\n",
    "\n",
    "# mean of the top 2 performer\n",
    "mean_top2 = users[top2_indices].mean()\n",
    "print(f\"mean of the top 2 performer is: {mean_top2}\\n\")\n",
    "\n",
    "# the weakest performing user\n",
    "weak_user = np.argmin(user_average)\n",
    "print(f\"The Weakest performing user is: {weak_user + 1} with average score of {user_average[weak_user]:.2f}\\n\") \n",
    "\n",
    "# Replace the lowest average with the mean of the top 2 performers\n",
    "users_modify = users.copy()\n",
    "users_modify[weak_user] = [mean_top2] * users.shape[1]\n",
    "print(f\"Updated scores after boosting weakest performer:\\n{users_modify}\")"
   ]
  }
 ],
 "metadata": {
  "kernelspec": {
   "display_name": "Python 3",
   "language": "python",
   "name": "python3"
  },
  "language_info": {
   "codemirror_mode": {
    "name": "ipython",
    "version": 3
   },
   "file_extension": ".py",
   "mimetype": "text/x-python",
   "name": "python",
   "nbconvert_exporter": "python",
   "pygments_lexer": "ipython3",
   "version": "3.11.9"
  }
 },
 "nbformat": 4,
 "nbformat_minor": 5
}
