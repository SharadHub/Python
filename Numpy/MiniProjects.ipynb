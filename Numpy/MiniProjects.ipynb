{
 "cells": [
  {
   "cell_type": "markdown",
   "id": "dca57b60",
   "metadata": {},
   "source": [
    "Top Performer Dashboard\n",
    "\n",
    "given an array of weekly productivity scores for 5 users:\n",
    "\n",
    "Tasks:\n",
    "\n",
    "Compute the average score per user\n",
    "\n",
    "Identify the top 2 performers\n",
    "\n",
    "Highlight the weakest performing user\n",
    "\n",
    "Replace the lowest average with the mean of the top 2 performers"
   ]
  },
  {
   "cell_type": "code",
   "execution_count": 23,
   "id": "fb725874",
   "metadata": {},
   "outputs": [
    {
     "name": "stdout",
     "output_type": "stream",
     "text": [
      "The average score of the each user is: \n",
      "[81.  72.6 66.  94.  65. ]\n",
      "\n",
      "The top 2 users are \n",
      "[[ 70  60  90 100  85]\n",
      " [ 95  90  98  87 100]]\n",
      "\n",
      "mean of the top 2 performer is: 87.5\n",
      "\n",
      "The Weakest performing user is: 5 with average score of 65.00\n",
      "\n",
      "Updated scores after boosting weakest performer:\n",
      "[[ 70  60  90 100  85]\n",
      " [ 88  70  50  60  95]\n",
      " [ 50  60  75  80  65]\n",
      " [ 95  90  98  87 100]\n",
      " [ 87  87  87  87  87]]\n"
     ]
    }
   ],
   "source": [
    "# Top Performer Dashboard\n",
    "import numpy as np\n",
    "\n",
    "users = np.array([\n",
    "    [70, 60, 90, 100, 85],  # user 1\n",
    "    [88, 70, 50, 60, 95],   # user 2\n",
    "    [50, 60, 75, 80, 65],   # user 3\n",
    "    [95, 90, 98, 87, 100],  # user 4\n",
    "    [60, 65, 70, 55, 75]    # user 5\n",
    "])\n",
    "\n",
    "# the average score per user\n",
    "user_average = np.mean(users,axis=1)\n",
    "print(f\"The average score of the each user is: \\n{user_average}\\n\")\n",
    "\n",
    "# the top 2 performers\n",
    "top2_indices = np.argsort(user_average)[-2:]\n",
    "top2_users = users[top2_indices]\n",
    "\n",
    "print(f\"The top 2 users are \\n{top2_users}\\n\")\n",
    "\n",
    "# mean of the top 2 performer\n",
    "mean_top2 = users[top2_indices].mean()\n",
    "print(f\"mean of the top 2 performer is: {mean_top2}\\n\")\n",
    "\n",
    "# the weakest performing user\n",
    "weak_user = np.argmin(user_average)\n",
    "print(f\"The Weakest performing user is: {weak_user + 1} with average score of {user_average[weak_user]:.2f}\\n\") \n",
    "\n",
    "# Replace the lowest average with the mean of the top 2 performers\n",
    "users_modify = users.copy()\n",
    "users_modify[weak_user] = [mean_top2] * users.shape[1]\n",
    "print(f\"Updated scores after boosting weakest performer:\\n{users_modify}\")"
   ]
  },
  {
   "cell_type": "markdown",
   "id": "b5775bbe",
   "metadata": {},
   "source": [
    "Performance Analyzer Module\n",
    "\n",
    "Scenario:\n",
    "You’re building a \"Team Performance Analyzer\" for an organization.\n",
    "\n",
    "import numpy as np\n",
    "\n",
    "team_scores = np.array([\n",
    "    [70, 80, 90, 85, 88],  # Team A\n",
    "    [60, 65, 58, 62, 66],  # Team B\n",
    "    [90, 92, 88, 95, 94],  # Team C\n",
    "    [45, 55, 60, 52, 50],  # Team D\n",
    "])\n",
    "\n",
    "# 1. Find average, std, and variance for each team\n",
    "# 2. Identify the most consistent team (lowest std)\n",
    "# 3. Replace lowest performer’s score with team average\n",
    "# 4. Calculate the team with highest mean score"
   ]
  },
  {
   "cell_type": "code",
   "execution_count": 14,
   "id": "f25cfe27",
   "metadata": {},
   "outputs": [
    {
     "name": "stdout",
     "output_type": "stream",
     "text": [
      "Average score of each team is\n",
      " [82.6 62.2 91.8 52.4] \n",
      "\n",
      "Standard Deviation of each team is\n",
      " [7.14 2.99 2.56 5.  ] \n",
      "\n",
      "Variance of each team is\n",
      " [51.04  8.96  6.56 25.04] \n",
      "\n",
      "Team 3 is the most consistent with Standard Deviation of 2.56\n",
      "\n",
      "Scores after replacing lowest with average is \n",
      " [[82 80 90 85 88]\n",
      " [60 65 62 62 66]\n",
      " [90 92 91 95 94]\n",
      " [52 55 60 52 50]] \n",
      "\n",
      "Team 3 has the highest mean with mean value 91.80\n",
      "\n"
     ]
    }
   ],
   "source": [
    "import numpy as np\n",
    "\n",
    "team_scores = np.array([\n",
    "    [70, 80, 90, 85, 88],  # Team A\n",
    "    [60, 65, 58, 62, 66],  # Team B\n",
    "    [90, 92, 88, 95, 94],  # Team C\n",
    "    [45, 55, 60, 52, 50],  # Team D\n",
    "])\n",
    "\n",
    "# average, std, and variance for each team\n",
    "team_avg = team_scores.mean(axis=1)\n",
    "team_std = team_scores.std(axis=1)\n",
    "team_var = team_scores.var(axis=1)\n",
    "\n",
    "team_avg_rounded = np.round(team_avg, 2)\n",
    "team_std_rounded = np.round(team_std, 2)\n",
    "team_var_rounded = np.round(team_var, 2)\n",
    "\n",
    "print(\"Average score of each team is\\n\", team_avg_rounded, \"\\n\")\n",
    "print(\"Standard Deviation of each team is\\n\", team_std_rounded, \"\\n\")\n",
    "print(\"Variance of each team is\\n\", team_var_rounded, \"\\n\")\n",
    "\n",
    "# most consistent team (lowest std)\n",
    "most_consistent = np.argmin(team_std)\n",
    "\n",
    "for i in range(len(team_std)):\n",
    "    if i == most_consistent:\n",
    "        print(f\"Team {i + 1} is the most consistent with Standard Deviation of {team_std[i]:.2f}\\n\")\n",
    "        break\n",
    "\n",
    "# replacing the lowest performer’s score with team average\n",
    "\n",
    "team_scores_modify = team_scores.copy()\n",
    "\n",
    "for i in range (team_scores_modify.shape[0]):\n",
    "    min_index = np.argmin(team_scores_modify[i])\n",
    "    team_scores_modify[i][min_index] = team_avg[i]\n",
    "    \n",
    "print(f\"Scores after replacing lowest with average is \\n {team_scores_modify} \\n\")\n",
    "\n",
    "# the team with highest mean score\n",
    "high_mean = np.argmax(team_avg)\n",
    "for i in range(len(team_avg)):\n",
    "    if i == high_mean:\n",
    "        print(f\"Team {i + 1} has the highest mean with mean value {team_avg[i]:.2f}\\n\")\n",
    "        break"
   ]
  },
  {
   "cell_type": "markdown",
   "id": "41666759",
   "metadata": {},
   "source": [
    "Mini Project: Recommendation Engine Base\n",
    "\n",
    "Simulate: A matrix of 4 users and 5 products (ratings out of 10)\n",
    "\n",
    "Normalize the data (optional)\n",
    "\n",
    "Transpose it\n",
    "\n",
    "Multiply with itself (dot product) to find item similarity\n",
    "\n",
    "This is a building block for content-based recommender systems."
   ]
  },
  {
   "cell_type": "code",
   "execution_count": null,
   "id": "91131928",
   "metadata": {},
   "outputs": [
    {
     "name": "stdout",
     "output_type": "stream",
     "text": [
      "[[10  6  9  0]\n",
      " [ 8  0  9  5]\n",
      " [ 0  7  8  4]\n",
      " [ 4  5  0  6]\n",
      " [ 7  3  6  0]]\n",
      "[[229 101 204  64]\n",
      " [101 119 128  58]\n",
      " [204 128 262  77]\n",
      " [ 64  58  77  77]]\n"
     ]
    }
   ],
   "source": [
    "import numpy as np\n",
    "\n",
    "# Simulated rating matrix: 4 users × 5 products\n",
    "ratings = np.array([\n",
    "    [10, 8, 0, 4, 7],\n",
    "    [6, 0, 7, 5, 3],\n",
    "    [9, 9, 8, 0, 6],\n",
    "    [0, 5, 4, 6, 0]\n",
    "])\n",
    "\n",
    "T = ratings.T\n",
    "print(T)\n",
    "\n",
    "print(ratings @ T)"
   ]
  }
 ],
 "metadata": {
  "kernelspec": {
   "display_name": "Python 3",
   "language": "python",
   "name": "python3"
  },
  "language_info": {
   "codemirror_mode": {
    "name": "ipython",
    "version": 3
   },
   "file_extension": ".py",
   "mimetype": "text/x-python",
   "name": "python",
   "nbconvert_exporter": "python",
   "pygments_lexer": "ipython3",
   "version": "3.11.9"
  }
 },
 "nbformat": 4,
 "nbformat_minor": 5
}
