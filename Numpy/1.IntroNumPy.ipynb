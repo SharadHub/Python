{
 "cells": [
  {
   "cell_type": "markdown",
   "id": "df011319",
   "metadata": {},
   "source": [
    "Create a 1D array of your last 7 days' study hours.\n",
    "\n",
    "Check its shape, size, and data type."
   ]
  },
  {
   "cell_type": "code",
   "execution_count": 6,
   "id": "dd785a37",
   "metadata": {},
   "outputs": [
    {
     "name": "stdout",
     "output_type": "stream",
     "text": [
      "7\n",
      "(7,)\n",
      "int64\n"
     ]
    }
   ],
   "source": [
    "import numpy as np\n",
    "\n",
    "study_hours = np.array([6,2,5,2,4,3,7])\n",
    "\n",
    "# print(study_hours)\n",
    "print(study_hours.size)\n",
    "print(study_hours.shape)\n",
    "print(study_hours.dtype)"
   ]
  },
  {
   "cell_type": "code",
   "execution_count": 12,
   "id": "1e997866",
   "metadata": {},
   "outputs": [
    {
     "name": "stdout",
     "output_type": "stream",
     "text": [
      "Total time I studied is 29 hours\n",
      "Average time I studied is 4.14 hours\n",
      "Maximum time I studied is 7 hours\n"
     ]
    }
   ],
   "source": [
    "print(f\"Total time I studied is {study_hours.sum()} hours\")\n",
    "print(f\"Average time I studied is {study_hours.mean():.2f} hours\")\n",
    "print(f\"Maximum time I studied is {study_hours.max()} hours\")\n"
   ]
  }
 ],
 "metadata": {
  "kernelspec": {
   "display_name": "Python 3",
   "language": "python",
   "name": "python3"
  },
  "language_info": {
   "codemirror_mode": {
    "name": "ipython",
    "version": 3
   },
   "file_extension": ".py",
   "mimetype": "text/x-python",
   "name": "python",
   "nbconvert_exporter": "python",
   "pygments_lexer": "ipython3",
   "version": "3.11.9"
  }
 },
 "nbformat": 4,
 "nbformat_minor": 5
}
