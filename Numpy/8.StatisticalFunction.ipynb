{
 "cells": [
  {
   "cell_type": "markdown",
   "id": "75979a63",
   "metadata": {},
   "source": [
    "Statistical Functions in NumPy helps to analyze and summarize data efficiently."
   ]
  },
  {
   "cell_type": "code",
   "execution_count": 2,
   "id": "8d3d8980",
   "metadata": {},
   "outputs": [
    {
     "name": "stdout",
     "output_type": "stream",
     "text": [
      "Mean: 36.0\n",
      "Median: 40.0\n",
      "Standard Deviation: 18.547236990991408\n",
      "Variance: 344.0\n",
      "Min: 10\n",
      "Max: 60\n",
      "90th Percentile: 56.0\n"
     ]
    }
   ],
   "source": [
    "import numpy as np\n",
    "\n",
    "# data of people death rate of each year from 2019 to 2024\n",
    "\n",
    "death_rate = np.array([10, 20, 60, 40, 50])\n",
    "\n",
    "print(\"Mean:\",np.mean(death_rate))\n",
    "print(\"Median:\",np.median(death_rate))\n",
    "print(\"Standard Deviation:\",np.std(death_rate))\n",
    "print(\"Variance:\",np.var(death_rate))\n",
    "print(\"Min:\",np.min(death_rate))\n",
    "print(\"Max:\",np.max(death_rate))\n",
    "print(\"90th Percentile:\",np.percentile(death_rate, 90))\n",
    "\n"
   ]
  },
  {
   "cell_type": "markdown",
   "id": "66e290a5",
   "metadata": {},
   "source": [
    "salaries = np.array([40000, 55000, 60000, 75000, 50000, 95000, 120000])\n",
    "# 1. Calculate mean, median, std, and variance\n",
    "# 2. Find salaries above average\n",
    "# 3. Replace salaries below median with median"
   ]
  },
  {
   "cell_type": "code",
   "execution_count": 11,
   "id": "d5f99c66",
   "metadata": {},
   "outputs": [
    {
     "name": "stdout",
     "output_type": "stream",
     "text": [
      "Mean:70714.29\n",
      "\n",
      "Median:60000.00\n",
      "\n",
      "Standard Deviation: 26108.10\n",
      "\n",
      "Variance: 681632653.06\n",
      "\n",
      "Salaries above average are: [ 75000  95000 120000]\n",
      "\n",
      "After replacing salaries lower than median with median value we get: [ 60000.  60000.  60000.  75000.  60000.  95000. 120000.]\n"
     ]
    }
   ],
   "source": [
    "# analyze salaries\n",
    "\n",
    "salaries = np.array([40000, 55000, 60000, 75000, 50000, 95000, 120000])\n",
    "\n",
    "# calculate mean, median, std and variance\n",
    "\n",
    "mean_salaries = np.mean(salaries)\n",
    "print(f\"Mean:{mean_salaries:.2f}\\n\")\n",
    "\n",
    "median_salary = np.median(salaries)\n",
    "print(f\"Median:{median_salary:.2f}\\n\")\n",
    "\n",
    "salary_std = np.std(salaries)\n",
    "print(f\"Standard Deviation: {salary_std:.2f}\\n\")\n",
    "\n",
    "salary_variance = np.var(salaries)\n",
    "print(f\"Variance: {salary_variance:.2f}\\n\")\n",
    "\n",
    "# printing salaries above the average\n",
    "above_avg = salaries[salaries > mean_salaries]\n",
    "print(f\"Salaries above average are: {above_avg}\\n\")\n",
    "\n",
    "# replacing salaries below median with the median value\n",
    "\n",
    "salaries_modify = salaries.copy()\n",
    "\n",
    "salaries_modify = np.where(salaries < median_salary,median_salary, salaries)\n",
    "print(f\"After replacing salaries lower than median with median value we get: {salaries_modify}\")"
   ]
  },
  {
   "cell_type": "markdown",
   "id": "71edc92c",
   "metadata": {},
   "source": [
    " Exercise 2: Student Test Scores\n",
    " \n",
    "scores = np.array([\n",
    "    [65, 70, 75],\n",
    "    [90, 85, 88],\n",
    "    [55, 60, 58],\n",
    "    [95, 92, 98]\n",
    "])\n",
    "# 1. Compute average score per student\n",
    "# 2. Compute standard deviation for each student\n",
    "# 3. Identify students with variance > 50"
   ]
  },
  {
   "cell_type": "code",
   "execution_count": 46,
   "id": "9f961fc1",
   "metadata": {},
   "outputs": [
    {
     "name": "stdout",
     "output_type": "stream",
     "text": [
      "[[65 70 75]\n",
      " [90 85 88]\n",
      " [55 60 58]\n",
      " [95 92 98]] \n",
      "\n",
      "Average scores per student are: [70.         87.66666667 57.66666667 95.        ]\n",
      "\n",
      "Standard Deviation of ecery students scores are: [4.0824829  2.05480467 2.05480467 2.44948974]\n",
      "\n",
      "Students with variance > 50:\n",
      "[[[65 70 75]\n",
      "  [90 85 88]\n",
      "  [55 60 58]\n",
      "  [95 92 98]]]\n"
     ]
    }
   ],
   "source": [
    "scores = np.array([\n",
    "    [65, 70, 75],\n",
    "    [90, 85, 88],\n",
    "    [55, 60, 58],\n",
    "    [95, 92, 98]\n",
    "])\n",
    "print(scores,\"\\n\")\n",
    "\n",
    "# average score per student\n",
    "avg_score = scores.mean(axis=1)\n",
    "print(f\"Average scores per student are: {avg_score}\\n\")\n",
    "\n",
    "# standard deviation for each student\n",
    "std_score = scores.std(axis=1)\n",
    "print(f\"Standard Deviation of ecery students scores are: {std_score}\\n\")\n",
    "\n",
    "var_score = np.var(scores)\n",
    "# students with variance > 50\n",
    "high_variance_students = scores[var_score > 50]\n",
    "print(\"Students with variance > 50:\")\n",
    "print(high_variance_students)"
   ]
  },
  {
   "cell_type": "markdown",
   "id": "bd7ec771",
   "metadata": {},
   "source": [
    " Exercise 3: App Ratings\n",
    "\n",
    "ratings = np.array([4.5, 4.8, 4.2, 3.9, 4.0, 4.1, 4.9, 3.5, 4.7])\n",
    "# 1. Find mean, median, and 75th percentile\n",
    "# 2. Identify ratings below average\n",
    "# 3. Replace the lowest rating with average of top 3"
   ]
  },
  {
   "cell_type": "code",
   "execution_count": 48,
   "id": "030e1cab",
   "metadata": {},
   "outputs": [
    {
     "name": "stdout",
     "output_type": "stream",
     "text": [
      "The average rating this app got is: 4.3\n",
      "Median of the rating is: 4.2\n",
      "75th percentile of the rating is: 4.7\n",
      "Rating below average are: [4.2 3.9 4.  4.1 3.5]\n",
      "The top three rating this app has go are: [4.7 4.8 4.9]\n",
      "Average of top3 is 4.8\n",
      "after replacing lowest rating with average of top 3 we get: [4.5 4.8 4.2 3.9 4.  4.1 4.9 4.8 4.7]\n"
     ]
    }
   ],
   "source": [
    "ratings = np.array([4.5, 4.8, 4.2, 3.9, 4.0, 4.1, 4.9, 3.5, 4.7])\n",
    "\n",
    "# average rating\n",
    "average_rating = np.mean(ratings)\n",
    "print(f\"The average rating this app got is: {average_rating:.1f}\")\n",
    "\n",
    "# median of rating\n",
    "rating_median = np.median(ratings)\n",
    "print(f\"Median of the rating is: {rating_median}\")\n",
    "\n",
    "# 75th percentile\n",
    "percentile = np.percentile(ratings, 75)\n",
    "print(f\"75th percentile of the rating is: {percentile}\")\n",
    "\n",
    "# rating below average\n",
    "below_average = ratings[ratings < average_rating]\n",
    "print(f\"Rating below average are: {below_average}\")\n",
    "\n",
    "#  replacing the lowest rating with average of top 3\n",
    "top3 = np.sort(ratings)[-3:]\n",
    "print(f\"The top three rating this app has go are: {top3}\")\n",
    "avg_top3 = np.mean(top3)\n",
    "print(f'Average of top3 is {avg_top3}')\n",
    "\n",
    "rating_modify = ratings.copy()\n",
    "min_index = np.argmin(ratings)\n",
    "rating_modify[min_index] = avg_top3\n",
    "print(f\"after replacing lowest rating with average of top 3 we get: {rating_modify}\")\n"
   ]
  }
 ],
 "metadata": {
  "kernelspec": {
   "display_name": "Python 3",
   "language": "python",
   "name": "python3"
  },
  "language_info": {
   "codemirror_mode": {
    "name": "ipython",
    "version": 3
   },
   "file_extension": ".py",
   "mimetype": "text/x-python",
   "name": "python",
   "nbconvert_exporter": "python",
   "pygments_lexer": "ipython3",
   "version": "3.11.9"
  }
 },
 "nbformat": 4,
 "nbformat_minor": 5
}
