{
 "cells": [
  {
   "cell_type": "code",
   "execution_count": 3,
   "id": "0b0962c0",
   "metadata": {},
   "outputs": [],
   "source": [
    "f = open(\"file/sample.txt\", \"w\")\n",
    "f.write(\"Hello Python\")\n",
    "f.close()"
   ]
  },
  {
   "cell_type": "code",
   "execution_count": 6,
   "id": "2e3e5002",
   "metadata": {},
   "outputs": [],
   "source": [
    "f = open(\"sample1.txt\", \"w\")\n",
    "f.write(\"Hello World\")\n",
    "f.write(\"\\nHow are you?\")\n",
    "f.close()"
   ]
  },
  {
   "cell_type": "code",
   "execution_count": 7,
   "id": "b65260c4",
   "metadata": {},
   "outputs": [],
   "source": [
    "# if file is already present\n",
    "\n",
    "f = open(\"file/sample.txt\", \"w\")\n",
    "f.write(\"My name is Bishal Bista\")\n",
    "f.close()"
   ]
  },
  {
   "cell_type": "code",
   "execution_count": 8,
   "id": "e25250d9",
   "metadata": {},
   "outputs": [],
   "source": [
    "# Introducing append mode\n",
    "\n",
    "f = open(\"file/sample.txt\", \"a\")\n",
    "f.write(\"I am very fine\")\n",
    "f.close()"
   ]
  }
 ],
 "metadata": {
  "kernelspec": {
   "display_name": "Python 3",
   "language": "python",
   "name": "python3"
  },
  "language_info": {
   "codemirror_mode": {
    "name": "ipython",
    "version": 3
   },
   "file_extension": ".py",
   "mimetype": "text/x-python",
   "name": "python",
   "nbconvert_exporter": "python",
   "pygments_lexer": "ipython3",
   "version": "3.11.9"
  }
 },
 "nbformat": 4,
 "nbformat_minor": 5
}
