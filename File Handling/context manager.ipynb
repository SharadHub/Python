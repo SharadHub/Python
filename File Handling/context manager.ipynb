{
 "cells": [
  {
   "cell_type": "code",
   "execution_count": 10,
   "id": "31b2ce59",
   "metadata": {},
   "outputs": [],
   "source": [
    "with open('file/sample.txt', 'w') as f:\n",
    "    f.write(\"Hello there!\")"
   ]
  },
  {
   "cell_type": "code",
   "execution_count": null,
   "id": "5edbbdbe",
   "metadata": {},
   "outputs": [
    {
     "name": "stdout",
     "output_type": "stream",
     "text": [
      "Hello there!\n",
      "Hello Everyone\n",
      "Hi How are you ?\n",
      "Are you all right?\n"
     ]
    }
   ],
   "source": [
    "with open('file/sample.txt', 'r') as f:\n",
    "    s = f.read() # read the text document\n",
    "    print(s)"
   ]
  },
  {
   "cell_type": "code",
   "execution_count": null,
   "id": "604fec25",
   "metadata": {},
   "outputs": [
    {
     "name": "stdout",
     "output_type": "stream",
     "text": [
      "Hello there!\n",
      "\n"
     ]
    }
   ],
   "source": [
    "with open('file/sample.txt', 'r') as f:\n",
    "    s = f.readline() # read the line of text document\n",
    "    print(s)"
   ]
  },
  {
   "cell_type": "code",
   "execution_count": 14,
   "id": "a69d7749",
   "metadata": {},
   "outputs": [],
   "source": [
    "# append mode\n",
    "with open('file/sample.txt', 'a') as f:\n",
    "    s = f.write('\\n My name is Bishal Bista') # write the line in text document"
   ]
  },
  {
   "cell_type": "code",
   "execution_count": 15,
   "id": "7436e454",
   "metadata": {},
   "outputs": [
    {
     "name": "stdout",
     "output_type": "stream",
     "text": [
      "Hello ther\n",
      "e!\n",
      "Hello E\n"
     ]
    }
   ],
   "source": [
    "# read mode \n",
    "with open('file/sample.txt', 'r') as f:\n",
    "    print(f.read(10))\n",
    "    print(f.read(10))"
   ]
  },
  {
   "cell_type": "code",
   "execution_count": 19,
   "id": "1c65f94c",
   "metadata": {},
   "outputs": [],
   "source": [
    "# benefit --> to load the big files in memory\n",
    "\n",
    "big_L = ['hello world\\t' for i in range(1000)]\n",
    "\n",
    "with open('big.txt', 'w') as f:\n",
    "    f.writelines(big_L)"
   ]
  },
  {
   "cell_type": "code",
   "execution_count": 22,
   "id": "29d503a5",
   "metadata": {},
   "outputs": [
    {
     "name": "stdout",
     "output_type": "stream",
     "text": [
      "d\thello woo world\thed\thello woo world\thed\thello woo world\thed\thello woo world\thed\thello woo world\thed\thello woo world\thed\thello woo world\thed\thello woo world\thed\thello woo world\thed\thello woo world\thed\thello woo world\thed\thello woo world\thed\thello woo world\thed\thello woo world\thed\thello woo world\thed\thello woo world\thed\thello woo world\thed\thello woo world\thed\thello woo world\thed\thello woo world\thed\thello woo world\thed\thello woo world\thed\thello woo world\thed\thello woo world\thed\thello woo world\thed\thello woo world\thed\thello woo world\thed\thello woo world\thed\thello woo world\thed\thello woo world\thed\thello woo world\thed\thello woo world\thed\thello woo world\thed\thello woo world\thed\thello woo world\thed\thello woo world\thed\thello woo world\thed\thello woo world\thed\thello woo world\thed\thello woo world\thed\thello woo world\thed\thello woo world\thed\thello woo world\thed\thello woo world\thed\thello woo world\thed\thello woo world\thed\thello woo world\thed\thello woo world\thed\thello woo world\thed\thello woo world\thed\thello woo world\thed\thello woo world\thed\thello woo world\thed\thello woo world\thed\thello woo world\thed\thello woo world\thed\thello woo world\thed\thello woo world\thed\thello woo world\thed\thello woo world\thed\thello woo world\thed\thello woo world\thed\thello woo world\thed\thello woo world\thed\thello woo world\thed\thello woo world\thed\thello woo world\thed\thello woo world\thed\thello woo world\thed\thello woo world\thed\thello woo world\thed\thello woo world\thed\thello woo world\thed\thello woo world\thed\thello woo world\thed\thello woo world\thed\thello woo world\thed\thello woo world\thed\thello woo world\thed\thello woo world\thed\thello woo world\thed\thello woo world\thed\thello woo world\thed\thello woo world\thed\thello woo world\thed\thello woo world\thed\thello woo world\thed\thello woo world\thed\thello woo world\thed\thello woo world\thed\thello woo world\thed\thello woo world\thed\thello woo world\thed\thello woo world\thed\thello woo world\thed\thello woo world\thed\thello woo world\thed\thello woo world\thed\thello woo world\thed\thello woo world\thed\thello woo world\thed\thello woo world\thed\thello woo world\thed\thello woo world\thed\thello woo world\thed\thello woo world\thed\thello woo world\thed\thello woo world\thed\thello woo world\thed\thello woo world\thed\thello woo world\thed\thello woo world\thed\thello woo world\thed\thello woo world\thed\thello woo world\thed\thello woo world\thed\thello woo world\thed\thello woo world\thed\thello woo world\thed\thello woo world\thed\thello woo world\thed\thello woo world\thed\thello woo world\thed\thello woo world\thed\thello woo world\thed\thello woo world\thed\thello woo world\thed\thello woo world\thed\thello woo world\thed\thello woo world\thed\thello woo world\thed\thello woo world\thed\thello woo world\thed\thello woo world\thed\thello woo world\thed\thello woo world\thed\thello woo world\thed\thello woo world\thed\thello woo world\thed\thello woo world\thed\thello woo world\thed\thello woo world\thed\thello woo world\thed\thello woo world\thed\thello woo world\thed\thello woo world\thed\thello woo world\thed\thello woo world\thed\thello woo world\thed\thello woo world\thed\thello woo world\thed\thello woo world\thed\thello woo world\thed\thello woo world\thed\thello woo world\thed\thello woo world\thed\thello woo world\thed\thello woo world\thed\thello woo world\thed\thello woo world\thed\thello woo world\thed\thello woo world\thed\thello woo world\thed\thello woo world\thed\thello woo world\thed\thello woo world\thed\thello woo world\thed\thello woo world\thed\thello woo world\thed\thello woo world\thed\thello woo world\thed\thello woo world\thed\thello woo world\thed\thello woo world\thed\thello woo world\thed\thello woo world\thed\thello woo world\thed\thello woo world\thed\thello woo world\thed\thello woo world\thed\thello woo world\thed\thello woo world\thed\thello woo world\thed\thello woo world\thed\thello woo world\thed\thello woo world\thed\thello woo world\thed\thello woo world\thed\thello woo world\thed\thello woo world\thed\thello woo world\thed\thello woo world\thed\thello woo world\thed\thello woo world\thed\thello woo world\thed\thello woo world\thed\thello woo world\thed\thello woo world\thed\thello woo world\thed\thello woo world\the"
     ]
    }
   ],
   "source": [
    "# text chunks\n",
    "\n",
    "with open('big.txt', 'r') as f:\n",
    "    chunk_size = 10\n",
    "    \n",
    "    while len(f.read(chunk_size)) > 0:\n",
    "        print(f.read(chunk_size,), end='')\n",
    "        f.read(chunk_size)"
   ]
  },
  {
   "cell_type": "code",
   "execution_count": 23,
   "id": "54e723f7",
   "metadata": {},
   "outputs": [
    {
     "name": "stdout",
     "output_type": "stream",
     "text": [
      "hello world\thello world\thello world\thello world\thello world\thello world\thello world\thello world\thello world\thello world\thello world\thello world\thello world\thello world\thello world\thello world\thello world\thello world\thello world\thello world\thello world\thello world\thello world\thello world\thello world\thello world\thello world\thello world\thello world\thello world\thello world\thello world\thello world\thello world\thello world\thello world\thello world\thello world\thello world\thello world\thello world\thello world\thello world\thello world\thello world\thello world\thello world\thello world\thello world\thello world\thello world\thello world\thello world\thello world\thello world\thello world\thello world\thello world\thello world\thello world\thello world\thello world\thello world\thello world\thello world\thello world\thello world\thello world\thello world\thello world\thello world\thello world\thello world\thello world\thello world\thello world\thello world\thello world\thello world\thello world\thello world\thello world\thello world\thello world\thello world\thello world\thello world\thello world\thello world\thello world\thello world\thello world\thello world\thello world\thello world\thello world\thello world\thello world\thello world\thello world\thello world\thello world\thello world\thello world\thello world\thello world\thello world\thello world\thello world\thello world\thello world\thello world\thello world\thello world\thello world\thello world\thello world\thello world\thello world\thello world\thello world\thello world\thello world\thello world\thello world\thello world\thello world\thello world\thello world\thello world\thello world\thello world\thello world\thello world\thello world\thello world\thello world\thello world\thello world\thello world\thello world\thello world\thello world\thello world\thello world\thello world\thello world\thello world\thello world\thello world\thello world\thello world\thello world\thello world\thello world\thello world\thello world\thello world\thello world\thello world\thello world\thello world\thello world\thello world\thello world\thello world\thello world\thello world\thello world\thello world\thello world\thello world\thello world\thello world\thello world\thello world\thello world\thello world\thello world\thello world\thello world\thello world\thello world\thello world\thello world\thello world\thello world\thello world\thello world\thello world\thello world\thello world\thello world\thello world\thello world\thello world\thello world\thello world\thello world\thello world\thello world\thello world\thello world\thello world\thello world\thello world\thello world\thello world\thello world\thello world\thello world\thello world\thello world\thello world\thello world\thello world\thello world\thello world\thello world\thello world\thello world\thello world\thello world\thello world\thello world\thello world\thello world\thello world\thello world\thello world\thello world\thello world\thello world\thello world\thello world\thello world\thello world\thello world\thello world\thello world\thello world\thello world\thello world\thello world\thello world\thello world\thello world\thello world\thello world\thello world\thello world\thello world\thello world\thello world\thello world\thello world\thello world\thello world\thello world\thello world\thello world\thello world\thello world\thello world\thello world\thello world\thello world\thello world\thello world\thello world\thello world\thello world\thello world\thello world\thello world\thello world\thello world\thello world\thello world\thello world\thello world\thello world\thello world\thello world\thello world\thello world\thello world\thello world\thello world\thello world\thello world\thello world\thello world\thello world\thello world\thello world\thello world\thello world\thello world\thello world\thello world\thello world\thello world\thello world\thello world\thello world\thello world\thello world\thello world\thello world\thello world\thello world\thello world\thello world\thello world\thello world\thello world\thello world\thello world\thello world\thello world\thello world\thello world\thello world\thello world\thello world\thello world\thello world\thello world\thello world\thello world\thello world\thello world\thello world\thello world\thello world\thello world\thello world\thello world\thello world\thello world\thello world\thello world\thello world\thello world\thello world\thello world\thello world\thello world\thello world\thello world\thello world\thello world\thello world\thello world\thello world\thello world\thello world\thello world\thello world\thello world\thello world\thello world\thello world\thello world\thello world\thello world\thello world\thello world\thello world\thello world\thello world\thello world\thello world\thello world\thello world\thello world\thello world\thello world\thello world\thello world\thello world\thello world\thello world\thello world\thello world\thello world\thello world\thello world\thello world\thello world\thello world\thello world\thello world\thello world\thello world\thello world\thello world\thello world\thello world\thello world\thello world\thello world\thello world\thello world\thello world\thello world\thello world\thello world\thello world\thello world\thello world\thello world\thello world\thello world\thello world\thello world\thello world\thello world\thello world\thello world\thello world\thello world\thello world\thello world\thello world\thello world\thello world\thello world\thello world\thello world\thello world\thello world\thello world\thello world\thello world\thello world\thello world\thello world\thello world\thello world\thello world\thello world\thello world\thello world\thello world\thello world\thello world\thello world\thello world\thello world\thello world\thello world\thello world\thello world\thello world\thello world\thello world\thello world\thello world\thello world\thello world\thello world\thello world\thello world\thello world\thello world\thello world\thello world\thello world\thello world\thello world\thello world\thello world\thello world\thello world\thello world\thello world\thello world\thello world\thello world\thello world\thello world\thello world\thello world\thello world\thello world\thello world\thello world\thello world\thello world\thello world\thello world\thello world\thello world\thello world\thello world\thello world\thello world\thello world\thello world\thello world\thello world\thello world\thello world\thello world\thello world\thello world\thello world\thello world\thello world\thello world\thello world\thello world\thello world\thello world\thello world\thello world\thello world\thello world\thello world\thello world\thello world\thello world\thello world\thello world\thello world\thello world\thello world\thello world\thello world\thello world\thello world\thello world\thello world\thello world\thello world\thello world\thello world\thello world\thello world\thello world\thello world\thello world\thello world\thello world\thello world\thello world\thello world\thello world\thello world\thello world\thello world\thello world\thello world\thello world\thello world\thello world\thello world\thello world\thello world\thello world\thello world\thello world\thello world\thello world\thello world\thello world\thello world\thello world\thello world\thello world\thello world\thello world\thello world\thello world\thello world\thello world\thello world\thello world\thello world\thello world\thello world\thello world\thello world\thello world\thello world\thello world\thello world\thello world\thello world\thello world\thello world\thello world\thello world\thello world\thello world\thello world\thello world\thello world\thello world\thello world\thello world\thello world\thello world\thello world\thello world\thello world\thello world\thello world\thello world\thello world\thello world\thello world\thello world\thello world\thello world\thello world\thello world\thello world\thello world\thello world\thello world\thello world\thello world\thello world\thello world\thello world\thello world\thello world\thello world\thello world\thello world\thello world\thello world\thello world\thello world\thello world\thello world\thello world\thello world\thello world\thello world\thello world\thello world\thello world\thello world\thello world\thello world\thello world\thello world\thello world\thello world\thello world\thello world\thello world\thello world\thello world\thello world\thello world\thello world\thello world\thello world\thello world\thello world\thello world\thello world\thello world\thello world\thello world\thello world\thello world\thello world\thello world\thello world\thello world\thello world\thello world\thello world\thello world\thello world\thello world\thello world\thello world\thello world\thello world\thello world\thello world\thello world\thello world\thello world\thello world\thello world\thello world\thello world\thello world\thello world\thello world\thello world\thello world\thello world\thello world\thello world\thello world\thello world\thello world\thello world\thello world\thello world\thello world\thello world\thello world\thello world\thello world\thello world\thello world\thello world\thello world\thello world\thello world\thello world\thello world\thello world\thello world\thello world\thello world\thello world\thello world\thello world\thello world\thello world\thello world\thello world\thello world\thello world\thello world\thello world\thello world\thello world\thello world\thello world\thello world\thello world\thello world\thello world\thello world\thello world\thello world\thello world\thello world\thello world\thello world\thello world\thello world\thello world\thello world\thello world\thello world\thello world\thello world\thello world\thello world\thello world\thello world\thello world\thello world\thello world\thello world\thello world\thello world\thello world\thello world\thello world\thello world\thello world\thello world\thello world\thello world\thello world\thello world\thello world\thello world\thello world\thello world\thello world\thello world\thello world\thello world\thello world\thello world\thello world\thello world\thello world\thello world\thello world\thello world\thello world\thello world\thello world\thello world\thello world\thello world\thello world\thello world\thello world\thello world\thello world\thello world\thello world\thello world\thello world\thello world\thello world\thello world\thello world\thello world\thello world\thello world\thello world\thello world\thello world\thello world\thello world\thello world\thello world\thello world\thello world\thello world\thello world\thello world\thello world\thello world\thello world\thello world\thello world\thello world\thello world\thello world\thello world\thello world\thello world\thello world\thello world\thello world\thello world\thello world\thello world\thello world\thello world\thello world\thello world\thello world\thello world\thello world\thello world\thello world\thello world\thello world\thello world\thello world\thello world\thello world\thello world\thello world\thello world\thello world\thello world\thello world\thello world\thello world\thello world\thello world\thello world\thello world\thello world\thello world\thello world\thello world\thello world\thello world\thello world\thello world\thello world\thello world\thello world\thello world\thello world\thello world\thello world\thello world\thello world\thello world\thello world\thello world\thello world\thello world\thello world\thello world\thello world\thello world\thello world\thello world\thello world\thello world\thello world\thello world\thello world\thello world\thello world\thello world\thello world\thello world\thello world\thello world\thello world\thello world\thello world\thello world\thello world\thello world\thello world\thello world\thello world\thello world\thello world\thello world\thello world\thello world\thello world\thello world\thello world\thello world\thello world\thello world\thello world\thello world\thello world\thello world\thello world\thello world\thello world\thello world\thello world\thello world\thello world\thello world\thello world\thello world\thello world\thello world\thello world\thello world\thello world\thello world\thello world\thello world\thello world\thello world\thello world\thello world\thello world\thello world\thello world\thello world\thello world\thello world\thello world\thello world\thello world\thello world\thello world\thello world\thello world\thello world\thello world\thello world\thello world\thello world\thello world\thello world\thello world\thello world\thello world\thello world\thello world\thello world\thello world\thello world\thello world\thello world\thello world\thello world\thello world\thello world\thello world\thello world\thello world\thello world\thello world\thello world\t\n"
     ]
    }
   ],
   "source": [
    "with open('big.txt', 'r') as f:\n",
    "    s = f.read() # read the text document\n",
    "    print(s)"
   ]
  },
  {
   "cell_type": "code",
   "execution_count": 31,
   "id": "a52d9907",
   "metadata": {},
   "outputs": [
    {
     "name": "stdout",
     "output_type": "stream",
     "text": [
      "Hello there\n",
      "0\n"
     ]
    }
   ],
   "source": [
    "# seek and tell\n",
    "with open('file/sample.txt', 'r') as f:\n",
    "    print(f.read(11))\n",
    "    f.seek(0)\n",
    "    print(f.tell())"
   ]
  }
 ],
 "metadata": {
  "kernelspec": {
   "display_name": "Python 3",
   "language": "python",
   "name": "python3"
  },
  "language_info": {
   "codemirror_mode": {
    "name": "ipython",
    "version": 3
   },
   "file_extension": ".py",
   "mimetype": "text/x-python",
   "name": "python",
   "nbconvert_exporter": "python",
   "pygments_lexer": "ipython3",
   "version": "3.11.9"
  }
 },
 "nbformat": 4,
 "nbformat_minor": 5
}
