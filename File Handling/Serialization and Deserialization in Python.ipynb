{
 "cells": [
  {
   "cell_type": "code",
   "execution_count": 2,
   "id": "c1031227",
   "metadata": {},
   "outputs": [],
   "source": [
    "# serializing json module\n",
    "\n",
    "import json\n",
    "\n",
    "L = [1,2,3,4,5,6,7,8]\n",
    "with open('file/test.json', 'w') as f:\n",
    "    json.dump(L, f)"
   ]
  },
  {
   "cell_type": "code",
   "execution_count": 6,
   "id": "4e04012e",
   "metadata": {},
   "outputs": [],
   "source": [
    "# with dictionary\n",
    "\n",
    "d = {\n",
    "    'name' : 'Bishal Bista',\n",
    "    'age' : 22,\n",
    "    'gender' : 'Male'\n",
    "}\n",
    "with open('file/test.json', 'w') as f:\n",
    "    json.dump(d, f, indent=4)"
   ]
  },
  {
   "cell_type": "code",
   "execution_count": 7,
   "id": "14cde7d5",
   "metadata": {},
   "outputs": [
    {
     "name": "stdout",
     "output_type": "stream",
     "text": [
      "{'name': 'Bishal Bista', 'age': 22, 'gender': 'Male'}\n",
      "<class 'dict'>\n"
     ]
    }
   ],
   "source": [
    "#Deserialization\n",
    "\n",
    "import json\n",
    "with open('file/test.json', 'r') as f:\n",
    "    data = json.load(f)\n",
    "    print(data)\n",
    "    print(type(data))"
   ]
  }
 ],
 "metadata": {
  "kernelspec": {
   "display_name": "Python 3",
   "language": "python",
   "name": "python3"
  },
  "language_info": {
   "codemirror_mode": {
    "name": "ipython",
    "version": 3
   },
   "file_extension": ".py",
   "mimetype": "text/x-python",
   "name": "python",
   "nbconvert_exporter": "python",
   "pygments_lexer": "ipython3",
   "version": "3.11.9"
  }
 },
 "nbformat": 4,
 "nbformat_minor": 5
}
