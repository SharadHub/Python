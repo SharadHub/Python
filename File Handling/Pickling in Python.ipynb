{
 "cells": [
  {
   "cell_type": "code",
   "execution_count": 3,
   "id": "af042645",
   "metadata": {},
   "outputs": [],
   "source": [
    "def display_info():\n",
    "    return 'My name is Bishal Bista and I am a Programmer.'\n",
    "\n",
    "d = display_info()\n",
    "\n"
   ]
  },
  {
   "cell_type": "code",
   "execution_count": 6,
   "id": "a190c2da",
   "metadata": {},
   "outputs": [],
   "source": [
    "import pickle\n",
    "\n",
    "with open('file/function.pkl', 'wb') as f:\n",
    "    pickle.dump(d,f)"
   ]
  },
  {
   "cell_type": "code",
   "execution_count": 7,
   "id": "f7dbc466",
   "metadata": {},
   "outputs": [
    {
     "name": "stdout",
     "output_type": "stream",
     "text": [
      "My name is Bishal Bista and I am a Programmer.\n"
     ]
    }
   ],
   "source": [
    "import pickle\n",
    "\n",
    "with open('file/function.pkl', 'rb') as f:\n",
    "    p = pickle.load(f)\n",
    "    print(p)"
   ]
  }
 ],
 "metadata": {
  "kernelspec": {
   "display_name": "Python 3",
   "language": "python",
   "name": "python3"
  },
  "language_info": {
   "codemirror_mode": {
    "name": "ipython",
    "version": 3
   },
   "file_extension": ".py",
   "mimetype": "text/x-python",
   "name": "python",
   "nbconvert_exporter": "python",
   "pygments_lexer": "ipython3",
   "version": "3.11.9"
  }
 },
 "nbformat": 4,
 "nbformat_minor": 5
}
