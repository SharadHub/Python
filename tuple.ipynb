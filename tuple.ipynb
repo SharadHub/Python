{
 "cells": [
  {
   "cell_type": "markdown",
   "id": "0a45f29c-1ada-4771-860a-55114759e62d",
   "metadata": {},
   "source": [
    "this file is created to note down things i have learned in Tuple "
   ]
  },
  {
   "cell_type": "code",
   "execution_count": 2,
   "id": "056f17cc-f0b8-41ea-b4d4-a63275dce8db",
   "metadata": {},
   "outputs": [
    {
     "name": "stdout",
     "output_type": "stream",
     "text": [
      "(1, 2, 3, 'orange', 'Bishal', 0.999)\n"
     ]
    }
   ],
   "source": [
    "myTuple = (1,2,3,\"orange\",\"Bishal\", 0.999)\n",
    "print(myTuple)"
   ]
  },
  {
   "cell_type": "markdown",
   "id": "dc1c5e4d-2863-4201-8ee7-f873bd90d9be",
   "metadata": {},
   "source": [
    "accessing tuple items"
   ]
  },
  {
   "cell_type": "code",
   "execution_count": 6,
   "id": "2f8b5b42-7704-4f56-a6d0-f2fafcb203bc",
   "metadata": {},
   "outputs": [
    {
     "name": "stdout",
     "output_type": "stream",
     "text": [
      "0.999\n",
      "(2, 3, 'orange', 'Bishal', 0.999)\n",
      "(1, 2, 3, 'orange', 'Bishal', 0.999)\n",
      "(0.999,)\n",
      "(1, 2, 3, 'orange', 'Bishal')\n"
     ]
    }
   ],
   "source": [
    "print(myTuple[-1])\n",
    "print(myTuple[1:])\n",
    "print(myTuple[:6])\n",
    "print(myTuple[-1:])\n",
    "print(myTuple[:-1])\n"
   ]
  },
  {
   "cell_type": "markdown",
   "id": "c8da80f8-3ccd-48bc-9f15-f702967ce08d",
   "metadata": {},
   "source": [
    "tuple length"
   ]
  },
  {
   "cell_type": "code",
   "execution_count": 12,
   "id": "2a437b3b-3d9d-44e2-a6b0-f40b458c06ee",
   "metadata": {},
   "outputs": [
    {
     "name": "stdout",
     "output_type": "stream",
     "text": [
      "6\n"
     ]
    }
   ],
   "source": [
    "# myTuple = (\"apple\", \"orange\", \"banana\", 1, 2, 3)\n",
    "print(len(myTuple))"
   ]
  },
  {
   "cell_type": "code",
   "execution_count": 19,
   "id": "10a7c046-5364-4edd-b974-0db06e00ec8a",
   "metadata": {},
   "outputs": [
    {
     "name": "stdout",
     "output_type": "stream",
     "text": [
      "Bishal\n",
      "<class 'str'>\n"
     ]
    }
   ],
   "source": [
    "tup = (\"Bishal\")\n",
    "print(tup)\n",
    "print(type(tup))"
   ]
  },
  {
   "cell_type": "markdown",
   "id": "15fcddcc-8104-4cb5-a279-69a6fda40f92",
   "metadata": {},
   "source": [
    "unpacking a tuple"
   ]
  },
  {
   "cell_type": "code",
   "execution_count": 30,
   "id": "18caaf4e-e483-43b3-8ea7-89d062c1da5f",
   "metadata": {},
   "outputs": [
    {
     "name": "stdout",
     "output_type": "stream",
     "text": [
      "apple\n",
      "mango\n",
      "grapes\n"
     ]
    }
   ],
   "source": [
    "fruits = (1,2,1,3,1,4,1,5,1,6,1,7,1,8,1,9)\n",
    "# (red, green, blue) = fruits\n",
    "print(red)\n",
    "print(green)\n",
    "print(blue)"
   ]
  },
  {
   "cell_type": "markdown",
   "id": "ec373694-a1cf-42f1-bb50-c45ed51f88ce",
   "metadata": {},
   "source": [
    "unpacking usinf asterisk"
   ]
  },
  {
   "cell_type": "code",
   "execution_count": 46,
   "id": "54ba3232-4399-42f1-ab10-2e5a3aef89cd",
   "metadata": {},
   "outputs": [
    {
     "name": "stdout",
     "output_type": "stream",
     "text": [
      "apple\n",
      "banana\n",
      "['cherry', 'strawberry', 'raspberry']\n"
     ]
    }
   ],
   "source": [
    "fruits = (\"apple\", \"banana\", \"cherry\", \"strawberry\", \"raspberry\")\n",
    "\n",
    "(green, yellow, *red) = fruits\n",
    "\n",
    "print(green)\n",
    "print(yellow)\n",
    "print(red)"
   ]
  },
  {
   "cell_type": "markdown",
   "id": "74d5ee67-4d1b-4813-8c81-b9e804816c41",
   "metadata": {},
   "source": [
    "tuples method"
   ]
  },
  {
   "cell_type": "code",
   "execution_count": 33,
   "id": "31990bc8-d4b4-4bba-8467-56436e46adaa",
   "metadata": {},
   "outputs": [
    {
     "name": "stdout",
     "output_type": "stream",
     "text": [
      "8\n",
      "13\n"
     ]
    }
   ],
   "source": [
    "print(fruits.count(1))\n",
    "print(fruits.index(8))"
   ]
  },
  {
   "cell_type": "markdown",
   "id": "4f3b9eac-7d24-41be-9dad-2f89c064c1dc",
   "metadata": {},
   "source": [
    "joining and multiplying tuples"
   ]
  },
  {
   "cell_type": "code",
   "execution_count": 36,
   "id": "290631ff-6b19-42e1-bb4e-9c5e064e4869",
   "metadata": {},
   "outputs": [
    {
     "name": "stdout",
     "output_type": "stream",
     "text": [
      "(1, 2, 3, 4, 5, 'a', 's', 'd', 'f', 'g')\n",
      "(1, 2, 3, 4, 5, 1, 2, 3, 4, 5)\n",
      "('a', 's', 'd', 'f', 'g', 'a', 's', 'd', 'f', 'g')\n"
     ]
    }
   ],
   "source": [
    "tup1 = (1, 2, 3, 4, 5)\n",
    "tup2 = (\"a\",\"s\",\"d\",\"f\",\"g\")\n",
    "tup3 = tup1 + tup2\n",
    "tup4 = tup1 * 2\n",
    "tup5 = tup2 * 2\n",
    "print(tup3)\n",
    "print(tup4)\n",
    "print(tup5)"
   ]
  },
  {
   "cell_type": "markdown",
   "id": "48caa6ca-bee5-41cd-8696-5c88e45b9e6d",
   "metadata": {},
   "source": [
    "Check if Item Exists"
   ]
  },
  {
   "cell_type": "code",
   "execution_count": 37,
   "id": "05255249-3f70-404b-a19c-1eae4bc8607a",
   "metadata": {},
   "outputs": [
    {
     "name": "stdout",
     "output_type": "stream",
     "text": [
      "Yes, there is apple in the ('apple', 'orange', 'banana', 1, 2, 3)\n"
     ]
    }
   ],
   "source": [
    "myTuple = (\"apple\", \"orange\", \"banana\", 1, 2, 3)\n",
    "if \"apple\" in myTuple:\n",
    "    print(\"Yes, there is apple in the\", myTuple)\n"
   ]
  },
  {
   "cell_type": "markdown",
   "id": "929ef6a8-e61c-4ccc-b2b2-aa928b150fc5",
   "metadata": {},
   "source": [
    "add, remove and update items in tuple"
   ]
  },
  {
   "cell_type": "code",
   "execution_count": 45,
   "id": "27d94785-dbcd-4d9f-b33e-c9bf304b6f7a",
   "metadata": {},
   "outputs": [
    {
     "name": "stdout",
     "output_type": "stream",
     "text": [
      "('apple', 'orange', 'banana', 1, 2, 3, 'mango')\n",
      "('orange', 'banana', 1, 2, 3, 'mango')\n",
      "('orange', 'mango', 1, 2, 3, 'mango')\n"
     ]
    }
   ],
   "source": [
    "# adding\n",
    "myTuple = (\"apple\", \"orange\", \"banana\", 1, 2, 3)\n",
    "myList = list(myTuple)\n",
    "myList.append(\"mango\")\n",
    "myTuple = tuple(myList)\n",
    "print(myTuple)\n",
    "\n",
    "# removing\n",
    "myList.remove(\"apple\")\n",
    "myTuple = tuple(myList)\n",
    "print(myTuple)\n",
    "\n",
    "# update\n",
    "myList[1] = (\"mango\")\n",
    "myTuple = tuple(myList)\n",
    "print(myTuple)"
   ]
  }
 ],
 "metadata": {
  "kernelspec": {
   "display_name": "Python 3 (ipykernel)",
   "language": "python",
   "name": "python3"
  },
  "language_info": {
   "codemirror_mode": {
    "name": "ipython",
    "version": 3
   },
   "file_extension": ".py",
   "mimetype": "text/x-python",
   "name": "python",
   "nbconvert_exporter": "python",
   "pygments_lexer": "ipython3",
   "version": "3.11.9"
  }
 },
 "nbformat": 4,
 "nbformat_minor": 5
}
