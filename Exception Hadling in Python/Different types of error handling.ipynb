{
 "cells": [
  {
   "cell_type": "code",
   "execution_count": null,
   "id": "b1d44340",
   "metadata": {},
   "outputs": [
    {
     "name": "stdout",
     "output_type": "stream",
     "text": [
      "Hello World!\n",
      "file is not found\n"
     ]
    }
   ],
   "source": [
    "try:\n",
    "    with open('file/sample.txt', 'r') as f:\n",
    "        print(f.read())\n",
    "        \n",
    "        # a = 10\n",
    "        # b = 10\n",
    "        # print(a + o) # o is not defined\n",
    "        \n",
    "        L = [1, 2, 3]\n",
    "        L[100] # L[100] is out of the index so it will throw an error\n",
    "        \n",
    "except:\n",
    "    print('file is not found') \n",
    "    # this code will read the file and instead of throwing error it will print except code block\n",
    "    \n",
    "    # this will create a confusion as file has been read but output is telling file not found so there is a way to handle this kind of exception"
   ]
  },
  {
   "cell_type": "code",
   "execution_count": null,
   "id": "164ff303",
   "metadata": {},
   "outputs": [
    {
     "ename": "NameError",
     "evalue": "name 'o' is not defined",
     "output_type": "error",
     "traceback": [
      "\u001b[31m---------------------------------------------------------------------------\u001b[39m",
      "\u001b[31mNameError\u001b[39m                                 Traceback (most recent call last)",
      "\u001b[36mCell\u001b[39m\u001b[36m \u001b[39m\u001b[32mIn[5]\u001b[39m\u001b[32m, line 3\u001b[39m\n\u001b[32m      1\u001b[39m a = \u001b[32m10\u001b[39m\n\u001b[32m      2\u001b[39m b = \u001b[32m10\u001b[39m\n\u001b[32m----> \u001b[39m\u001b[32m3\u001b[39m \u001b[38;5;28mprint\u001b[39m(a + \u001b[43mo\u001b[49m)\n",
      "\u001b[31mNameError\u001b[39m: name 'o' is not defined"
     ]
    }
   ],
   "source": [
    "a = 10\n",
    "b = 10\n",
    "print(a + o) \n",
    "\n",
    "# this is a name error"
   ]
  },
  {
   "cell_type": "code",
   "execution_count": 15,
   "id": "23b8feb3",
   "metadata": {},
   "outputs": [
    {
     "name": "stdout",
     "output_type": "stream",
     "text": [
      "Hello World!\n",
      "20\n",
      "unsupported operand type(s) for /: 'int' and 'str'\n"
     ]
    }
   ],
   "source": [
    "# to handle all of the issues above we can use various keywords for those particular errors and exceptions\n",
    "\n",
    "try:\n",
    "    with open('file/sample.txt', 'r') as f:\n",
    "        print(f.read())\n",
    "        \n",
    "        a = 10\n",
    "        b = 10\n",
    "        print(a + b) # o is not defined\n",
    "        \n",
    "        # l = [1,2,3]\n",
    "        # l[100]\n",
    "        \n",
    "        0/'k'\n",
    "        \n",
    "        \n",
    "except FileNotFoundError:\n",
    "    print('file is not found') \n",
    "    \n",
    "except NameError:\n",
    "    print('Variable not defined')\n",
    "    \n",
    "except IndexError:\n",
    "    print(\"Index is out of range\")\n",
    "    \n",
    "except Exception as e:\n",
    "    print(e)\n"
   ]
  },
  {
   "cell_type": "code",
   "execution_count": 21,
   "id": "e3e82306",
   "metadata": {},
   "outputs": [
    {
     "name": "stdout",
     "output_type": "stream",
     "text": [
      "Hello World!\n",
      "20\n",
      "<built-in method with_traceback of IndexError object at 0x000001D30A5AEEC0>\n"
     ]
    }
   ],
   "source": [
    "# to handle all of the issues above we can use various keywords for those particular errors and exceptions\n",
    "\n",
    "try:\n",
    "    with open('file/sample.txt', 'r') as f:\n",
    "        print(f.read())\n",
    "        \n",
    "        a = 10\n",
    "        b = 10\n",
    "        print(a + b) # o is not defined\n",
    "        \n",
    "        l = [1,2,3]\n",
    "        l[100]\n",
    "        \n",
    "        0/'k'\n",
    "        \n",
    "        \n",
    "    \n",
    "except Exception as e:\n",
    "    print(e.with_traceback) # to track error type\n"
   ]
  }
 ],
 "metadata": {
  "kernelspec": {
   "display_name": "Python 3",
   "language": "python",
   "name": "python3"
  },
  "language_info": {
   "codemirror_mode": {
    "name": "ipython",
    "version": 3
   },
   "file_extension": ".py",
   "mimetype": "text/x-python",
   "name": "python",
   "nbconvert_exporter": "python",
   "pygments_lexer": "ipython3",
   "version": "3.11.9"
  }
 },
 "nbformat": 4,
 "nbformat_minor": 5
}
