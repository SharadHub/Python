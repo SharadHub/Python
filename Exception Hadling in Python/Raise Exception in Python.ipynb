{
 "cells": [
  {
   "cell_type": "code",
   "execution_count": 1,
   "id": "38314829",
   "metadata": {},
   "outputs": [
    {
     "ename": "Exception",
     "evalue": "There is an error",
     "output_type": "error",
     "traceback": [
      "\u001b[31m---------------------------------------------------------------------------\u001b[39m",
      "\u001b[31mException\u001b[39m                                 Traceback (most recent call last)",
      "\u001b[36mCell\u001b[39m\u001b[36m \u001b[39m\u001b[32mIn[1]\u001b[39m\u001b[32m, line 3\u001b[39m\n\u001b[32m      1\u001b[39m \u001b[38;5;66;03m# raise exception\u001b[39;00m\n\u001b[32m----> \u001b[39m\u001b[32m3\u001b[39m \u001b[38;5;28;01mraise\u001b[39;00m \u001b[38;5;167;01mException\u001b[39;00m(\u001b[33m'\u001b[39m\u001b[33mThere is an error\u001b[39m\u001b[33m'\u001b[39m)\n",
      "\u001b[31mException\u001b[39m: There is an error"
     ]
    }
   ],
   "source": [
    "# raise exception\n",
    "\n",
    "raise Exception('There is an error')"
   ]
  },
  {
   "cell_type": "code",
   "execution_count": 2,
   "id": "996a6841",
   "metadata": {},
   "outputs": [
    {
     "ename": "ZeroDivisionError",
     "evalue": "Cannot divide with 0",
     "output_type": "error",
     "traceback": [
      "\u001b[31m---------------------------------------------------------------------------\u001b[39m",
      "\u001b[31mZeroDivisionError\u001b[39m                         Traceback (most recent call last)",
      "\u001b[36mCell\u001b[39m\u001b[36m \u001b[39m\u001b[32mIn[2]\u001b[39m\u001b[32m, line 1\u001b[39m\n\u001b[32m----> \u001b[39m\u001b[32m1\u001b[39m \u001b[38;5;28;01mraise\u001b[39;00m \u001b[38;5;167;01mZeroDivisionError\u001b[39;00m(\u001b[33m'\u001b[39m\u001b[33mCannot divide with 0\u001b[39m\u001b[33m'\u001b[39m)\n",
      "\u001b[31mZeroDivisionError\u001b[39m: Cannot divide with 0"
     ]
    }
   ],
   "source": [
    "raise ZeroDivisionError('Cannot divide with 0')"
   ]
  },
  {
   "cell_type": "code",
   "execution_count": 3,
   "id": "2c141a08",
   "metadata": {},
   "outputs": [
    {
     "ename": "NameError",
     "evalue": "Name is not valid",
     "output_type": "error",
     "traceback": [
      "\u001b[31m---------------------------------------------------------------------------\u001b[39m",
      "\u001b[31mNameError\u001b[39m                                 Traceback (most recent call last)",
      "\u001b[36mCell\u001b[39m\u001b[36m \u001b[39m\u001b[32mIn[3]\u001b[39m\u001b[32m, line 1\u001b[39m\n\u001b[32m----> \u001b[39m\u001b[32m1\u001b[39m \u001b[38;5;28;01mraise\u001b[39;00m \u001b[38;5;167;01mNameError\u001b[39;00m(\u001b[33m'\u001b[39m\u001b[33mName is not valid\u001b[39m\u001b[33m'\u001b[39m)\n",
      "\u001b[31mNameError\u001b[39m: Name is not valid"
     ]
    }
   ],
   "source": [
    "raise NameError('Name is not valid')"
   ]
  },
  {
   "cell_type": "code",
   "execution_count": null,
   "id": "016e1db6",
   "metadata": {},
   "outputs": [
    {
     "name": "stdout",
     "output_type": "stream",
     "text": [
      "Cannot be divide numbers by zero\n"
     ]
    }
   ],
   "source": [
    "# dividing bu zero\n",
    "\n",
    "def divide_numbers(a,b):\n",
    "    if b == 0:\n",
    "        raise Exception('Cannot be divide numbers by zero')\n",
    "    else:\n",
    "        return a/b\n",
    "    \n",
    "try:\n",
    "    result = divide_numbers(10,0)\n",
    "    print(result)\n",
    "\n",
    "except Exception as e:\n",
    "    print(e)"
   ]
  },
  {
   "cell_type": "code",
   "execution_count": 8,
   "id": "fa112303",
   "metadata": {},
   "outputs": [
    {
     "name": "stdout",
     "output_type": "stream",
     "text": [
      "3.3333333333333335\n"
     ]
    }
   ],
   "source": [
    "# not dividing by zero\n",
    "\n",
    "def divide_numbers(a,b):\n",
    "    if b == 0:\n",
    "        raise Exception('Cannot be divide numbers by zero')\n",
    "    else:\n",
    "        return a/b\n",
    "    \n",
    "try:\n",
    "    result = divide_numbers(10,3)\n",
    "    print(result)\n",
    "\n",
    "except Exception as e:\n",
    "    print(e)"
   ]
  }
 ],
 "metadata": {
  "kernelspec": {
   "display_name": "Python 3",
   "language": "python",
   "name": "python3"
  },
  "language_info": {
   "codemirror_mode": {
    "name": "ipython",
    "version": 3
   },
   "file_extension": ".py",
   "mimetype": "text/x-python",
   "name": "python",
   "nbconvert_exporter": "python",
   "pygments_lexer": "ipython3",
   "version": "3.11.9"
  }
 },
 "nbformat": 4,
 "nbformat_minor": 5
}
