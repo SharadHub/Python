{
 "cells": [
  {
   "cell_type": "code",
   "execution_count": null,
   "id": "3301cec0",
   "metadata": {},
   "outputs": [
    {
     "name": "stdout",
     "output_type": "stream",
     "text": [
      "Hello World!\n"
     ]
    }
   ],
   "source": [
    "# try, except and else\n",
    "# if the file is found\n",
    "try:\n",
    "    f = open('file/sample.txt', 'r')\n",
    "        \n",
    "except:\n",
    "    print('File not found')\n",
    "    \n",
    "else:\n",
    "    print(f.read())"
   ]
  },
  {
   "cell_type": "code",
   "execution_count": 4,
   "id": "00142141",
   "metadata": {},
   "outputs": [
    {
     "name": "stdout",
     "output_type": "stream",
     "text": [
      "File not found\n"
     ]
    }
   ],
   "source": [
    "# try, except and else\n",
    "# if the file is not found\n",
    "try:\n",
    "    f = open('file/sample1.txt', 'r')\n",
    "        \n",
    "except:\n",
    "    print('File not found')\n",
    "    \n",
    "else:\n",
    "    print(f.read())"
   ]
  }
 ],
 "metadata": {
  "kernelspec": {
   "display_name": "Python 3",
   "language": "python",
   "name": "python3"
  },
  "language_info": {
   "codemirror_mode": {
    "name": "ipython",
    "version": 3
   },
   "file_extension": ".py",
   "mimetype": "text/x-python",
   "name": "python",
   "nbconvert_exporter": "python",
   "pygments_lexer": "ipython3",
   "version": "3.11.9"
  }
 },
 "nbformat": 4,
 "nbformat_minor": 5
}
